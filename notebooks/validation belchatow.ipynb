{
 "cells": [
  {
   "cell_type": "markdown",
   "metadata": {},
   "source": [
    "# Validation - Belchatow case"
   ]
  },
  {
   "cell_type": "markdown",
   "metadata": {},
   "source": [
    "Shin et al (2020)"
   ]
  },
  {
   "cell_type": "markdown",
   "metadata": {
    "ExecuteTime": {
     "end_time": "2021-02-02T22:51:48.294510Z",
     "start_time": "2021-02-02T22:51:48.291780Z"
    }
   },
   "source": [
    "#### Packages"
   ]
  },
  {
   "cell_type": "code",
   "execution_count": 1,
   "metadata": {
    "ExecuteTime": {
     "end_time": "2021-02-03T23:15:03.754041Z",
     "start_time": "2021-02-03T23:15:03.441810Z"
    },
    "code_folding": []
   },
   "outputs": [],
   "source": [
    "import json\n",
    "from math import pi, ceil, sin, floor\n",
    "from iapws.iapws97 import _Region4, _Region2, _Region1\n",
    "from iapws._iapws import _ThCond, _Viscosity\n",
    "from constructors import *\n",
    "from scipy.optimize import root\n",
    "import numpy as np\n",
    "import os.path"
   ]
  },
  {
   "cell_type": "markdown",
   "metadata": {},
   "source": [
    "#### Constants"
   ]
  },
  {
   "cell_type": "code",
   "execution_count": 2,
   "metadata": {
    "ExecuteTime": {
     "end_time": "2021-02-03T23:15:03.759357Z",
     "start_time": "2021-02-03T23:15:03.756336Z"
    }
   },
   "outputs": [],
   "source": [
    "g = 9.81 # m/s2 - gravitational acceleration\n",
    "pi = pi # pi"
   ]
  },
  {
   "cell_type": "markdown",
   "metadata": {},
   "source": [
    "#### Heat Exchanger Information"
   ]
  },
  {
   "cell_type": "code",
   "execution_count": 3,
   "metadata": {
    "ExecuteTime": {
     "end_time": "2021-02-03T23:15:03.772475Z",
     "start_time": "2021-02-03T23:15:03.763207Z"
    }
   },
   "outputs": [
    {
     "name": "stdout",
     "output_type": "stream",
     "text": [
      "Number of tubes per row are  214.66666666666666\n",
      "Number of rows is 15\n",
      "Number of tubes is 3220\n"
     ]
    }
   ],
   "source": [
    "Do = 0.024 # m external diameter\n",
    "Di = Do - 2*0.001 # m external diameter\n",
    "n_tubes = 3220\n",
    "arrange = \"triangle\"\n",
    "#arrange = \"square\"\n",
    "\n",
    "L = 9.94 # m tube length\n",
    "W = 1.8 * 1 # m bundle width\n",
    "ep = 45e-6 # m - roughness\n",
    "kwall = 16.0 # W / ( m * K )\n",
    "pitch = 0.0333 # m\n",
    "Rows = 15\n",
    "row_pitch = pitch\n",
    "tubes_per_width = n_tubes/Rows\n",
    "ResF= 5.82e-5 # K/W\n",
    "\n",
    "N_wetters = []\n",
    "row_index = np.linspace(1,Rows,num=Rows)\n",
    "for i in row_index:\n",
    "    if arrange == \"triangle\":\n",
    "        N_wetters.append(ceil(i/2)-1)\n",
    "    else:\n",
    "        N_wetters = row_index-1\n",
    "N_wetters = np.array(N_wetters)        \n",
    "\n",
    "print(\"Number of tubes per row are \", tubes_per_width)\n",
    "print(\"Number of rows is {number:.{digits}f}\".format(number=Rows,digits=0))\n",
    "print(\"Number of tubes is {number:.{digits}f}\".format(number=Rows*tubes_per_width,digits=0))\n"
   ]
  },
  {
   "cell_type": "code",
   "execution_count": 4,
   "metadata": {
    "ExecuteTime": {
     "end_time": "2021-02-03T23:15:03.781690Z",
     "start_time": "2021-02-03T23:15:03.775631Z"
    }
   },
   "outputs": [
    {
     "name": "stdout",
     "output_type": "stream",
     "text": [
      "Wall internal diameter is 0.0220\n",
      "Fouling internal diameter is 0.021976\n",
      "Fouling thickness is 12 um\n"
     ]
    }
   ],
   "source": [
    "# Fouling\n",
    "kF = 2.941 # W / ( m * K ) (Calcium carbonate)\n",
    "Df = Di * np.exp(- ResF * 2 * pi * kF)\n",
    "lf = 1e6*(Di-Df)/2  # um fouling thickness\n",
    "\n",
    "print(\"Wall internal diameter is {number:.{digits}f}\".format(number=Di,digits=4))\n",
    "print(\"Fouling internal diameter is {number:.{digits}f}\".format(number=Df,digits=6))\n",
    "print(\"Fouling thickness is {number:.{digits}f} um\".format(number=1e6*(Di-Df)/2,digits=0))"
   ]
  },
  {
   "cell_type": "markdown",
   "metadata": {
    "ExecuteTime": {
     "end_time": "2021-02-02T22:58:14.160605Z",
     "start_time": "2021-02-02T22:58:14.157780Z"
    }
   },
   "source": [
    "#### Operational Conditions"
   ]
  },
  {
   "cell_type": "code",
   "execution_count": 5,
   "metadata": {
    "ExecuteTime": {
     "end_time": "2021-02-03T23:15:03.791976Z",
     "start_time": "2021-02-03T23:15:03.784530Z"
    }
   },
   "outputs": [
    {
     "name": "stdout",
     "output_type": "stream",
     "text": [
      "The exhaust steam pressure is equal to 6510 Pa.\n",
      "The exhaust steam temperature is equal to 37.66°C.\n"
     ]
    }
   ],
   "source": [
    "Tin = 22.4 + 273.15 # K\n",
    "Pin = 200000 # Pa\n",
    "Tvap_expected = 37.96 + 273.15\n",
    "Tout_mean_expected = 30.2 + 273.15\n",
    "Tout = Tout_mean_expected * np.ones(Rows) # K\n",
    "Pout = 156000 * np.ones(Rows) # Pa\n",
    "m = 2448 # kg/s cooling Water\n",
    "Pvap = 6510 # Pa\n",
    "Tvap = _Region4(Pvap*1e-6, 0.)['T']\n",
    "\n",
    "# Results\n",
    "print(\"The exhaust steam pressure is equal to {0} Pa.\"\\\n",
    "      .format(Pvap))\n",
    "print(\"The exhaust steam temperature is equal to {number:.{digits}f}°C.\"\\\n",
    "      .format(number=Tvap-273.15, digits=2))"
   ]
  },
  {
   "cell_type": "markdown",
   "metadata": {},
   "source": [
    "#### Water Properties"
   ]
  },
  {
   "cell_type": "code",
   "execution_count": 6,
   "metadata": {
    "ExecuteTime": {
     "end_time": "2021-02-03T23:15:03.806055Z",
     "start_time": "2021-02-03T23:15:03.794624Z"
    }
   },
   "outputs": [
    {
     "name": "stdout",
     "output_type": "stream",
     "text": [
      "Estimated mean cooling water temperature is 299.45 K\n",
      "The water density is 996.74 kg/m3.\n",
      "The water entalphy is 110436.10 J/kg.\n",
      "The water heat capacity is 4181.10 J/(kg*K).\n",
      "The water conductivity is 0.609 W/(m*K).\n",
      "The water viscosity is 0.00086 (Pa*s).\n",
      "The water Prandtl is 5.93690.\n"
     ]
    }
   ],
   "source": [
    "# Calculating properties\n",
    "Tm = 0.5 * (Tin + np.mean(Tout)) # K - mean cooling water temperature\n",
    "Pm = 0.5 * (Pin + np.mean(Pout)) # Pa - mean cooling water pressure\n",
    "water_properties = _Region1(Tm,1e-6*Pm)\n",
    "water_density = 1/water_properties['v']\n",
    "water_entalphy = 1e3*water_properties['h']\n",
    "water_heat_capacity = 1e3*water_properties['cp']\n",
    "water_conductivity = _ThCond(water_density, Tm)\n",
    "water_viscosity = _Viscosity(water_density, Tm)\n",
    "water_prandtl = water_heat_capacity * water_viscosity / water_conductivity\n",
    "\n",
    "# Results\n",
    "print(\"Estimated mean cooling water temperature is {number:.{digits}f} K\".format(number=Tm,digits=2))\n",
    "print(\"The water density is {number:.{digits}f} kg/m3.\".format(number=water_density, digits=2))\n",
    "print(\"The water entalphy is {number:.{digits}f} J/kg.\".format(number=water_entalphy, digits=2))\n",
    "print(\"The water heat capacity is {number:.{digits}f} J/(kg*K).\".format(number=water_heat_capacity, digits=2))\n",
    "print(\"The water conductivity is {number:.{digits}f} W/(m*K).\".format(number=water_conductivity, digits=3))\n",
    "print(\"The water viscosity is {number:.{digits}f} (Pa*s).\".format(number=water_viscosity, digits=5))\n",
    "print(\"The water Prandtl is {number:.{digits}f}.\".format(number=water_prandtl, digits=5))"
   ]
  },
  {
   "cell_type": "markdown",
   "metadata": {
    "ExecuteTime": {
     "end_time": "2021-02-02T22:54:20.412211Z",
     "start_time": "2021-02-02T22:54:20.409665Z"
    }
   },
   "source": [
    "#### Steam Properties"
   ]
  },
  {
   "cell_type": "code",
   "execution_count": 7,
   "metadata": {
    "ExecuteTime": {
     "end_time": "2021-02-03T23:15:03.817211Z",
     "start_time": "2021-02-03T23:15:03.809485Z"
    }
   },
   "outputs": [
    {
     "name": "stdout",
     "output_type": "stream",
     "text": [
      "The exhaust steam density is equal to 0.04550 kg/m3.\n",
      "The exhaust steam vaporization heat is equal to 2411603 J/kg.\n"
     ]
    }
   ],
   "source": [
    "# Steam properties\n",
    "exhaust_steam_properties = _Region2(Tvap,1e-6*Pvap)\n",
    "exhaust_steam_properties_liq = _Region1(Tvap,1e-6*Pvap)\n",
    "exhaust_steam_density = 1/exhaust_steam_properties['v']\n",
    "exhaust_steam_viscosity = _Viscosity(exhaust_steam_density, Tvap)\n",
    "exhaust_vaporization_heat = 1e3*exhaust_steam_properties['h'] - 1e3*exhaust_steam_properties_liq['h']\n",
    "\n",
    "print(\"The exhaust steam density is equal to {number:.{digits}f} kg/m3.\"\\\n",
    "      .format(number=exhaust_steam_density, digits=5))\n",
    "print(\"The exhaust steam vaporization heat is equal to {number:.{digits}f} J/kg.\"\\\n",
    "      .format(number=exhaust_vaporization_heat, digits=0))"
   ]
  },
  {
   "cell_type": "markdown",
   "metadata": {
    "ExecuteTime": {
     "end_time": "2021-02-02T23:09:55.982737Z",
     "start_time": "2021-02-02T23:09:55.980176Z"
    }
   },
   "source": [
    "#### Hydraulic Calculations"
   ]
  },
  {
   "cell_type": "code",
   "execution_count": 8,
   "metadata": {
    "ExecuteTime": {
     "end_time": "2021-02-03T23:15:03.831051Z",
     "start_time": "2021-02-03T23:15:03.820891Z"
    },
    "scrolled": true
   },
   "outputs": [],
   "source": [
    "def calculate_darcy(fD0, ep, D, Re):\n",
    "    \"\"\"Calculate the darcy friction factor\"\"\"\n",
    "    def idarcy(ifD, ep, D, Re):\n",
    "        return ifD + 2. * np.log10(ep / 3.72 / D + (2.51 / Re) * ifD )\n",
    "    sol = root(idarcy, fD0 ** -0.5, args=(ep, D, Re),)\n",
    "    return  sol.x[0] ** -2\n",
    "\n",
    "def calculate_fanning(ep, D, Re):\n",
    "    \"\"\"Calculate the fanning friction factor\"\"\"\n",
    "    A = (2.457*np.log(((7/Re)**0.9+0.27*ep/D)**-1))**16\n",
    "    B = (37530/Re)**16\n",
    "    ff = 2 *((8/Re)**12 + (A+B)**-1.5) ** (1/12)\n",
    "    return  ff"
   ]
  },
  {
   "cell_type": "code",
   "execution_count": 9,
   "metadata": {
    "ExecuteTime": {
     "end_time": "2021-02-03T23:15:03.848876Z",
     "start_time": "2021-02-03T23:15:03.839107Z"
    }
   },
   "outputs": [
    {
     "name": "stdout",
     "output_type": "stream",
     "text": [
      "Water mean velocity is 2.01 m/s.\n",
      "Pressure Drop is 24456.76 Pa.\n",
      "Inlet Pressure is 200000.00 Pa.\n",
      "Outlet Pressure :  175543.2415056838\n"
     ]
    }
   ],
   "source": [
    "v = (m /water_density)/(n_tubes * 0.25 * pi * Df**2) # m/s\n",
    "Re_tube = Df * water_density * v / water_viscosity\n",
    "ff = calculate_fanning(ep, Df, Re_tube)\n",
    "g = 9.81\n",
    "fD_tube = 4 * ff\n",
    "tau = (1/8)*fD_tube*water_density*v**2\n",
    "hL = 0.5 * fD_tube * v ** 2 /  (Df * g )\n",
    "DeltaP = g * water_density * hL\n",
    "pressure_loss_in_tube = DeltaP * L\n",
    "Pout = Pin - pressure_loss_in_tube\n",
    "\n",
    "print(\"Water mean velocity is {number:.{digits}f} m/s.\".format(number=v, digits=2))\n",
    "print(\"Pressure Drop is {number:.{digits}f} Pa.\".format(number=pressure_loss_in_tube, digits=2))\n",
    "print(\"Inlet Pressure is {number:.{digits}f} Pa.\".format(number=Pin, digits=2))\n",
    "print(\"Outlet Pressure : \", Pout)"
   ]
  },
  {
   "cell_type": "markdown",
   "metadata": {
    "ExecuteTime": {
     "end_time": "2021-02-02T23:29:54.659604Z",
     "start_time": "2021-02-02T23:29:54.657112Z"
    }
   },
   "source": [
    "#### Temperature Initial Estimates"
   ]
  },
  {
   "cell_type": "code",
   "execution_count": 15,
   "metadata": {
    "ExecuteTime": {
     "end_time": "2021-02-03T23:25:09.449298Z",
     "start_time": "2021-02-03T23:25:09.445948Z"
    }
   },
   "outputs": [],
   "source": [
    "# The properties are calculated at the mean temperature between bulk and internal surface\n",
    "Tf = (Tin + Tout) / 2\n",
    "Ti = Tf\n",
    "To = (Tin + Tout + Tvap) / 3"
   ]
  },
  {
   "cell_type": "markdown",
   "metadata": {
    "ExecuteTime": {
     "end_time": "2021-02-02T23:26:05.787501Z",
     "start_time": "2021-02-02T23:26:05.785009Z"
    }
   },
   "source": [
    "#### Thermal calculations - WALL"
   ]
  },
  {
   "cell_type": "code",
   "execution_count": 11,
   "metadata": {
    "ExecuteTime": {
     "end_time": "2021-02-03T23:15:03.874074Z",
     "start_time": "2021-02-03T23:15:03.867451Z"
    }
   },
   "outputs": [
    {
     "name": "stdout",
     "output_type": "stream",
     "text": [
      "The calculated wall resistance x length is 0.000087 K/W\n"
     ]
    }
   ],
   "source": [
    "# Wall conduction\n",
    "Reswall = np.log(Do / Di) / (2 * pi * kwall * L)\n",
    "\n",
    "print(\"The calculated wall resistance x length is {number:.{digits}f} K/W\".format(number=Reswall,digits=6))"
   ]
  },
  {
   "cell_type": "markdown",
   "metadata": {
    "ExecuteTime": {
     "end_time": "2021-02-02T23:35:08.586601Z",
     "start_time": "2021-02-02T23:35:08.584004Z"
    }
   },
   "source": [
    "#### Thermal calculations - INT"
   ]
  },
  {
   "cell_type": "markdown",
   "metadata": {},
   "source": [
    "#### LMTD"
   ]
  },
  {
   "cell_type": "code",
   "execution_count": 12,
   "metadata": {
    "ExecuteTime": {
     "end_time": "2021-02-03T23:15:03.887175Z",
     "start_time": "2021-02-03T23:15:03.877189Z"
    }
   },
   "outputs": [],
   "source": [
    "def calculate_heat(water_flowrate_per_tube,\n",
    "                   water_heat_capacity,\n",
    "                   water_inlet_temperature,\n",
    "                   water_outlet_temperature):\n",
    "    \"\"\"Calculate the duty\"\"\"\n",
    "    return water_flowrate_per_tube * water_heat_capacity * (water_outlet_temperature - water_inlet_temperature)\n",
    "\n",
    "\n",
    "def calculate_LMTD(T1a,T1b,T2a,T2b):\n",
    "    \"\"\"Calculate LMTD\"\"\"\n",
    "    dT1 = T1a - T1b\n",
    "    dT2 = T2a - T2b\n",
    "    return (dT1 - dT2) / np.log(dT1/dT2)\n",
    "\n",
    "def calculate_heat_via_LMTD( UA, LMTD):\n",
    "    \"\"\"Calculate heat exchanger via LMTD\"\"\"\n",
    "    return UA * LMTD\n",
    "    \n",
    "def calculate_heat_balance(x0, exhaust_steam_temperature, water_inlet_temperature, water_flowrate_per_tube, water_heat_capacity, UA ):\n",
    "    \"\"\" Heat balance \"\"\"\n",
    "    def heat_balance(x, exhaust_steam_temperature, water_inlet_temperature, water_flowrate_per_tube, water_heat_capacity, UA ):\n",
    "        water_outlet_temperature = x\n",
    "        LMTD = calculate_LMTD(exhaust_steam_temperature,water_inlet_temperature,exhaust_steam_temperature,water_outlet_temperature)\n",
    "        Q1 = calculate_heat_via_LMTD( UA, LMTD)\n",
    "        Q2 = calculate_heat( water_flowrate_per_tube, water_heat_capacity, water_inlet_temperature, water_outlet_temperature)\n",
    "        return Q1 - Q2\n",
    "    sol = root(heat_balance, x0, args=(exhaust_steam_temperature, water_inlet_temperature, water_flowrate_per_tube, water_heat_capacity, UA ))\n",
    "    return  sol.x[0]"
   ]
  },
  {
   "cell_type": "code",
   "execution_count": 13,
   "metadata": {
    "ExecuteTime": {
     "end_time": "2021-02-03T23:15:04.135409Z",
     "start_time": "2021-02-03T23:15:03.890742Z"
    }
   },
   "outputs": [
    {
     "name": "stdout",
     "output_type": "stream",
     "text": [
      "The tube for cold side is 0.69 m2\n",
      "The tube for hot side is 0.75 m2\n",
      " -- ROW 0 --\n",
      "The row external convection coefficient is 13352.12 W/(K*m2)\n",
      "The last row calculated internal resistance x length is 0.000136 K/W\n",
      "The last row calculated external resistance x length is 0.000100 K/W\n",
      "LMTD is 10.39 K\n",
      "The heat rate per tube is 27239.44 W\n",
      "U*A per tube is 2621.95 W/K\n",
      "The cooling water inlet temperature is 295.55 K\n",
      "Cooling water outlet temperature is 304.12 W/K\n",
      "Mean internal film temperature is 303.75 K\n",
      "Mean external film temperature is 307.93 K\n",
      " -- ROW -1 --\n",
      "The row external convection coefficient is 6963.77 W/(K*m2)\n",
      "The last row calculated internal resistance x length is 0.000138 K/W\n",
      "The last row calculated external resistance x length is 0.000192 K/W\n",
      "LMTD is 11.15 K\n",
      "The heat rate per tube is 23498.08 W\n",
      "U*A per tube is 2106.56 W/K\n",
      "The cooling water inlet temperature is 295.55 K\n",
      "Cooling water outlet temperature is 302.94 W/K\n",
      "Mean internal film temperature is 302.60 K\n",
      "Mean external film temperature is 306.14 K\n"
     ]
    }
   ],
   "source": [
    "Ahot = pi * Do * L # m2 - Tube heat exchange area\n",
    "Acold = pi * Df * L # m2 - Tube heat exchange area\n",
    "Ai = 0.25 * pi * Df**2 # m2 - Free flow area\n",
    "print(\"The tube for cold side is {number:.{digits}f} m2\".format(number=Acold,digits=2))\n",
    "print(\"The tube for hot side is {number:.{digits}f} m2\".format(number=Ahot,digits=2))\n",
    "\n",
    "for k in range(0,10):\n",
    "    results = []\n",
    "    for i in range(0,Rows):\n",
    "\n",
    "        #### EXTERNAL RESISTANCE\n",
    "\n",
    "        # Calculating properties\n",
    "        film_properties = _Region1(To[i],1e-6*Pvap)\n",
    "        film_density = 1/film_properties['v']\n",
    "        film_entalphy = 1e3*film_properties['h']\n",
    "        film_heat_capacity = 1e3*film_properties['cp']\n",
    "        film_conductivity = _ThCond(film_density, To[i])\n",
    "        film_viscosity = _Viscosity(film_density, To[i])\n",
    "        film_prandtl = film_heat_capacity * film_viscosity / film_conductivity\n",
    "\n",
    "        num = (g * film_density * (film_density - exhaust_steam_density) * film_conductivity ** 3. * exhaust_vaporization_heat)\n",
    "        den = film_viscosity * (Tvap - To[i]) * Do\n",
    "        hext_row1 = 0.729 * (num / den) ** 0.25\n",
    "        Resext_row1 = 1 / (pi * Do * hext_row1 * L)\n",
    "\n",
    "        #fNtub = tubes_per_width**(-1/6)\n",
    "        fNtub = ((N_wetters[i]+1) ** (5/6) - N_wetters[i] ** (5/6))\n",
    "\n",
    "        hext = hext_row1 * fNtub\n",
    "        Resext = Resext_row1 / fNtub\n",
    "\n",
    "\n",
    "        #### INTERNAL RESISTANCE\n",
    "\n",
    "        # Calculating properties\n",
    "        int_film_properties = _Region1(Ti[i],1e-6 * 0.5 * (Pin + Pout))\n",
    "        int_film_density = 1/int_film_properties['v']\n",
    "        int_film_entalphy = 1e3*int_film_properties['h']\n",
    "        int_film_heat_capacity = 1e3*int_film_properties['cp']\n",
    "        int_film_conductivity = _ThCond(int_film_density, Tf[i])\n",
    "        int_film_viscosity = _Viscosity(int_film_density, Tf[i])\n",
    "        int_film_prandtl = int_film_heat_capacity * int_film_viscosity / int_film_conductivity\n",
    "\n",
    "        # Calculating Darcy\n",
    "        int_film_Re = Df * int_film_density * v / int_film_viscosity\n",
    "        int_film_fD = calculate_darcy(fD_tube, ep, Df, int_film_Re)\n",
    "\n",
    "        # Calculates the Nussel dimensionless number using Petukhov correlation modified by Gnielinski. See Incropera 4th Edition [8.63]\n",
    "        nusselt = (int_film_fD / 8.) * (int_film_Re - 1000.) * int_film_prandtl / ( 1. + 12.7 * (int_film_fD / 8.) ** 0.5 * (int_film_prandtl ** (2 / 3) - 1.))\n",
    "        #nusselt = 0.023 * Re ** (4/5) * water_prandtl ** 0.4\n",
    "\n",
    "        hint = nusselt * water_conductivity / Df\n",
    "        Resint = 1 / (pi * Df * hint * L)\n",
    "\n",
    "        # Calculate Overall he\n",
    "        Restotal = Resext + Resint + Reswall + ResF\n",
    "\n",
    "        UA = 1/Restotal\n",
    "        Ucold = UA / Acold\n",
    "        Uhot = UA / Ahot\n",
    "\n",
    "        Tout[i] = calculate_heat_balance(Tout[i], Tvap, Tin, m/n_tubes, water_heat_capacity, UA )\n",
    "\n",
    "        # Calculate LMTD\n",
    "        LMTD = calculate_LMTD(Tvap,Tin,Tvap,Tout[i])\n",
    "\n",
    "        Q = calculate_heat_via_LMTD( UA, LMTD)\n",
    "\n",
    "        Q_at_inlet = (Tvap - Tin) / Restotal\n",
    "        To_in = Tvap - Q_at_inlet*Resext\n",
    "        Ti_in = To_in - Q_at_inlet*Reswall\n",
    "        Tf_in = Ti_in - Q_at_inlet*ResF\n",
    "\n",
    "        Q_at_outlet = (Tvap - Tout[i]) / Restotal\n",
    "        To_out = Tvap - Q_at_outlet*Resext\n",
    "        Ti_out = To_out - Q_at_outlet*Reswall\n",
    "        Tf_out = Ti_out - Q_at_outlet*ResF\n",
    "\n",
    "        To[i] = 0.5 * (To_in + To_out)\n",
    "        Ti[i] = 0.5 * (Ti_in + Ti_out)\n",
    "        Tf[i] = 0.5 * (Tf_in + Tf_out)\n",
    "\n",
    "        results.append({\n",
    "            \"UA\": UA,\n",
    "            \"LMTD\": LMTD,\n",
    "            \"Q\": Q,\n",
    "            \"hext\": hext,\n",
    "            \"Restotal\": Restotal,\n",
    "            \"Resint\": Resint,\n",
    "            \"Resext\": Resext,\n",
    "            \"Reswall\": Reswall,\n",
    "            \"Tf_in\": Tf_in,\n",
    "            \"Ti_in\": Ti_in,\n",
    "            \"To_in\": To_in,\n",
    "            \"Tf_out\": Tf_out,\n",
    "            \"Ti_out\": Ti_out,\n",
    "            \"To_out\": To_out,\n",
    "            \"Tf\": Tf[i],\n",
    "            \"Ti\": Ti[i],\n",
    "            \"To\": To[i],\n",
    "            \"Tout\": Tout[i],\n",
    "        })\n",
    "\n",
    "\n",
    "for i in (0, -1):\n",
    "    print(\" -- ROW {} --\".format(i))\n",
    "    \n",
    "    results_i = results[i]\n",
    "    \n",
    "    print(\"The row external convection coefficient is {number:.{digits}f} W/(K*m2)\".format(number=results_i[\"hext\"],digits=2))\n",
    "    print(\"The last row calculated internal resistance x length is {number:.{digits}f} K/W\".format(number=results_i[\"Resint\"],digits=6))\n",
    "    print(\"The last row calculated external resistance x length is {number:.{digits}f} K/W\".format(number=results_i[\"Resext\"],digits=6))\n",
    "    print(\"LMTD is {number:.{digits}f} K\".format(number=results_i[\"LMTD\"],digits=2))\n",
    "    print(\"The heat rate per tube is {number:.{digits}f} W\".format(number=results_i[\"Q\"],digits=2))\n",
    "    print(\"U*A per tube is {number:.{digits}f} W/K\".format(number=results_i[\"UA\"],digits=2))\n",
    "    print(\"The cooling water inlet temperature is {number:.{digits}f} K\".format(number=Tin,digits=2))\n",
    "    print(\"Cooling water outlet temperature is {number:.{digits}f} W/K\".format(number=results_i[\"Tout\"],digits=2))\n",
    "    print(\"Mean internal film temperature is {number:.{digits}f} K\".format(number=results_i[\"Ti\"],digits=2))\n",
    "    print(\"Mean external film temperature is {number:.{digits}f} K\".format(number=results_i[\"To\"],digits=2))"
   ]
  },
  {
   "cell_type": "code",
   "execution_count": 14,
   "metadata": {
    "ExecuteTime": {
     "end_time": "2021-02-03T23:15:04.148324Z",
     "start_time": "2021-02-03T23:15:04.138289Z"
    }
   },
   "outputs": [
    {
     "name": "stdout",
     "output_type": "stream",
     "text": [
      "The total transfer area (cold side) is 2209.77 m2\n",
      "The total steam flowrate is 119.17 ton/h\n",
      "The total heat load of condensation is 79.83 MW\n",
      "Condensate mass flowrate is 33.10 kg/s.\n",
      "The cooling water CALCULATED mean outlet temperature is 303.35 K\n",
      "The cooling water EXPECTED mean outlet temperature is 303.35 K\n",
      "Cooling Water outlet temp deviation is -0.00 %\n",
      "Steam temp deviation is -0.80 %\n"
     ]
    }
   ],
   "source": [
    "# Calculating final results\n",
    "A_total = 0\n",
    "Q_total = 0\n",
    "\n",
    "for i in range(0, Rows):\n",
    "    A_total += Acold*tubes_per_width\n",
    "    Q_total += results[i][\"Q\"]*tubes_per_width\n",
    "\n",
    "kvap_calc =  Q_total/exhaust_vaporization_heat\n",
    "\n",
    "Tout_mean = Tin + Q_total / (m * water_heat_capacity)\n",
    "\n",
    "kvap = Q_total/exhaust_vaporization_heat # kg/s\n",
    "\n",
    "print(\"The total transfer area (cold side) is {number:.{digits}f} m2\".format(number=A_total, digits=2))\n",
    "print(\"The total steam flowrate is {number:.{digits}f} ton/h\".format(number=kvap_calc*3.6, digits=2))\n",
    "print(\"The total heat load of condensation is {number:.{digits}f} MW\".format(number=1e-6*Q_total, digits=2))\n",
    "print(\"Condensate mass flowrate is {number:.{digits}f} kg/s.\".format(number=kvap, digits=2))\n",
    "print(\"The cooling water CALCULATED mean outlet temperature is {number:.{digits}f} K\".format(number=Tout_mean,digits=2))\n",
    "print(\"The cooling water EXPECTED mean outlet temperature is {number:.{digits}f} K\".format(number=Tout_mean_expected,digits=2))\n",
    "print(\"Cooling Water outlet temp deviation is {number:.{digits}f} %\".format(number=(Tout_mean-Tout_mean_expected)/(Tout_mean_expected-273.15)*100,digits=2))\n",
    "print(\"Steam temp deviation is {number:.{digits}f} %\".format(number=(Tvap-Tvap_expected)/(Tvap_expected - 273.15)*100,digits=2))"
   ]
  },
  {
   "cell_type": "code",
   "execution_count": null,
   "metadata": {},
   "outputs": [],
   "source": []
  }
 ],
 "metadata": {
  "kernelspec": {
   "display_name": "Python 3",
   "language": "python",
   "name": "python3"
  },
  "language_info": {
   "codemirror_mode": {
    "name": "ipython",
    "version": 3
   },
   "file_extension": ".py",
   "mimetype": "text/x-python",
   "name": "python",
   "nbconvert_exporter": "python",
   "pygments_lexer": "ipython3",
   "version": "3.6.8"
  },
  "varInspector": {
   "cols": {
    "lenName": 16,
    "lenType": 16,
    "lenVar": 40
   },
   "kernels_config": {
    "python": {
     "delete_cmd_postfix": "",
     "delete_cmd_prefix": "del ",
     "library": "var_list.py",
     "varRefreshCmd": "print(var_dic_list())"
    },
    "r": {
     "delete_cmd_postfix": ") ",
     "delete_cmd_prefix": "rm(",
     "library": "var_list.r",
     "varRefreshCmd": "cat(var_dic_list()) "
    }
   },
   "types_to_exclude": [
    "module",
    "function",
    "builtin_function_or_method",
    "instance",
    "_Feature"
   ],
   "window_display": false
  }
 },
 "nbformat": 4,
 "nbformat_minor": 2
}
