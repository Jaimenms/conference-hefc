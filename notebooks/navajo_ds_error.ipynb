{
 "cells": [
  {
   "cell_type": "markdown",
   "metadata": {},
   "source": [
    "# Navajo Case - Dirty Startup"
   ]
  },
  {
   "cell_type": "markdown",
   "metadata": {
    "ExecuteTime": {
     "end_time": "2021-02-02T22:51:48.294510Z",
     "start_time": "2021-02-02T22:51:48.291780Z"
    }
   },
   "source": [
    "#### Packages"
   ]
  },
  {
   "cell_type": "code",
   "execution_count": 1,
   "metadata": {
    "ExecuteTime": {
     "end_time": "2021-02-12T15:27:58.452823Z",
     "start_time": "2021-02-12T15:27:57.956654Z"
    },
    "code_folding": []
   },
   "outputs": [],
   "source": [
    "import json\n",
    "from math import pi, ceil, sin, floor\n",
    "from iapws.iapws97 import _Region4, _Region2, _Region1\n",
    "from iapws._iapws import _ThCond, _Viscosity\n",
    "from constructors import *\n",
    "from scipy.optimize import root\n",
    "import numpy as np\n",
    "import os.path\n",
    "import sys\n",
    "sys.path.append(\"../\")\n",
    "import simulate\n",
    "from scipy.optimize import curve_fit\n",
    "\n",
    "from water_properties import density, viscosity, conductivity, heat_capacity\n",
    "from water_at_saturation_properties import saturation_temperature, vapour_density, vapour_total_compressibility,vaporization_enthalpy\n",
    "\n",
    "from simplified_simulation import *"
   ]
  },
  {
   "cell_type": "markdown",
   "metadata": {},
   "source": [
    "## Inputs e parameters"
   ]
  },
  {
   "cell_type": "code",
   "execution_count": 2,
   "metadata": {
    "ExecuteTime": {
     "end_time": "2021-02-12T15:27:58.785345Z",
     "start_time": "2021-02-12T15:27:58.782423Z"
    }
   },
   "outputs": [],
   "source": [
    "filename = \"navajo\"\n",
    "suffix = \"ds\" #dirty startup"
   ]
  },
  {
   "cell_type": "markdown",
   "metadata": {},
   "source": [
    "#### Constants"
   ]
  },
  {
   "cell_type": "code",
   "execution_count": 3,
   "metadata": {
    "ExecuteTime": {
     "end_time": "2021-02-12T15:27:59.549137Z",
     "start_time": "2021-02-12T15:27:59.546347Z"
    }
   },
   "outputs": [],
   "source": [
    "g = 9.80665 # m/s2 - gravitational acceleration\n",
    "pi = pi # pi"
   ]
  },
  {
   "cell_type": "markdown",
   "metadata": {},
   "source": [
    "#### Water Inlet"
   ]
  },
  {
   "cell_type": "code",
   "execution_count": 4,
   "metadata": {
    "ExecuteTime": {
     "end_time": "2021-02-12T15:28:00.194394Z",
     "start_time": "2021-02-12T15:28:00.191206Z"
    }
   },
   "outputs": [],
   "source": [
    "m = 16360 # kg/s cooling Water\n",
    "Tin = 29 + 273.15 # K\n",
    "Pin = 200000 # Pa"
   ]
  },
  {
   "cell_type": "markdown",
   "metadata": {},
   "source": [
    "#### Pipe Information"
   ]
  },
  {
   "cell_type": "code",
   "execution_count": 5,
   "metadata": {
    "ExecuteTime": {
     "end_time": "2021-02-12T15:28:00.898496Z",
     "start_time": "2021-02-12T15:28:00.892903Z"
    }
   },
   "outputs": [
    {
     "name": "stdout",
     "output_type": "stream",
     "text": [
      "Pipe diameter is 2.0453534779846856 m \n",
      "Pipe lenght is 50 m \n"
     ]
    }
   ],
   "source": [
    "v_pipe = 5.0 # m/s\n",
    "L_pipe = 50 # m\n",
    "water_density=density(Tin, Pin, simplified = True)\n",
    "water_viscosity = viscosity(Tin, Pin, simplified = True)\n",
    "D_pipe = 2 * (m / (pi * water_density * v_pipe )) ** 0.5\n",
    "print(\"Pipe diameter is {} m \".format(D_pipe))\n",
    "print(\"Pipe lenght is {} m \".format(L_pipe))"
   ]
  },
  {
   "cell_type": "markdown",
   "metadata": {},
   "source": [
    "#### Heat Exchanger Information"
   ]
  },
  {
   "cell_type": "code",
   "execution_count": 6,
   "metadata": {
    "ExecuteTime": {
     "end_time": "2021-02-12T15:28:01.600245Z",
     "start_time": "2021-02-12T15:28:01.594120Z"
    }
   },
   "outputs": [
    {
     "name": "stdout",
     "output_type": "stream",
     "text": [
      "Number of tubes per row are  834.5333333333333\n",
      "Number of rows is 30\n",
      "Number of tubes is 25036\n"
     ]
    }
   ],
   "source": [
    "Do = 0.0222# m external diameter\n",
    "Di = Do - 2*0.0007 # m external diameter\n",
    "n_tubes = 25036\n",
    "arrange = \"triangle\"\n",
    "#arrange = \"square\"\n",
    "\n",
    "L = 18.3 # m tube length\n",
    "W = 6 # m bundle width\n",
    "ep = 5e-6 # m - roughness\n",
    "kwall = 11.8 # W / ( m * K )\n",
    "pitch = 0.0286 # m\n",
    "Rows = 30\n",
    "row_pitch = pitch\n",
    "tubes_per_width = n_tubes/Rows\n",
    "ResF= 0 # K/W\n",
    "ResF_to_film= 4.8e-5 # K/W\n",
    "\n",
    "Vext = L * W ** 2 # shell volume in m3\n",
    "\n",
    "print(\"Number of tubes per row are \", tubes_per_width)\n",
    "print(\"Number of rows is {number:.{digits}f}\".format(number=Rows,digits=0))\n",
    "print(\"Number of tubes is {number:.{digits}f}\".format(number=Rows*tubes_per_width,digits=0))"
   ]
  },
  {
   "cell_type": "code",
   "execution_count": 7,
   "metadata": {
    "ExecuteTime": {
     "end_time": "2021-02-12T15:28:01.985882Z",
     "start_time": "2021-02-12T15:28:01.981523Z"
    }
   },
   "outputs": [],
   "source": [
    "N_wetters = []\n",
    "row_index = np.linspace(1,Rows,num=Rows)\n",
    "for i in row_index:\n",
    "    if arrange == \"triangle\":\n",
    "        N_wetters.append(ceil(i/2)-1)\n",
    "    else:\n",
    "        N_wetters = row_index-1\n",
    "N_wetters = np.array(N_wetters)\n",
    "fNtub = ((N_wetters+1) ** (5/6) - N_wetters ** (5/6))"
   ]
  },
  {
   "cell_type": "code",
   "execution_count": 8,
   "metadata": {
    "ExecuteTime": {
     "end_time": "2021-02-12T15:28:02.417948Z",
     "start_time": "2021-02-12T15:28:02.410328Z"
    }
   },
   "outputs": [
    {
     "name": "stdout",
     "output_type": "stream",
     "text": [
      "Wall internal diameter is 0.0208\n",
      "Fouling internal diameter is 0.020465\n",
      "Fouling thickness is 167.45 um\n",
      "Fouling deposit mass is 0.450132 kg/m2\n"
     ]
    }
   ],
   "source": [
    "# Fouling\n",
    "kf = 2.941 # W / ( m * K ) (Calcium carbonate)\n",
    "rhof = 2.71e3 # kg/m3\n",
    "Df = Di * np.exp(- (ResF_to_film* (pi * Di * L)) * 2 * kf / Di)\n",
    "lf = 1e6*(Di-Df)/2  # um fouling thickness\n",
    "\n",
    "mf = (Di ** 2 - Df ** 2) * rhof / (4 * Di)\n",
    "Rf = ResF * L / (pi * Di) \n",
    "\n",
    "print(\"Wall internal diameter is {number:.{digits}f}\".format(number=Di,digits=4))\n",
    "print(\"Fouling internal diameter is {number:.{digits}f}\".format(number=Df,digits=6))\n",
    "print(\"Fouling thickness is {number:.{digits}f} um\".format(number=1e6*(Di-Df)/2,digits=2))\n",
    "print(\"Fouling deposit mass is {number:.{digits}f} kg/m2\".format(number=mf,digits=6))"
   ]
  },
  {
   "cell_type": "markdown",
   "metadata": {
    "ExecuteTime": {
     "end_time": "2021-02-02T22:58:14.160605Z",
     "start_time": "2021-02-02T22:58:14.157780Z"
    }
   },
   "source": [
    "#### Operational Conditions"
   ]
  },
  {
   "cell_type": "code",
   "execution_count": 9,
   "metadata": {
    "ExecuteTime": {
     "end_time": "2021-02-12T15:28:03.299222Z",
     "start_time": "2021-02-12T15:28:03.295384Z"
    }
   },
   "outputs": [],
   "source": [
    "# Expected\n",
    "Tout_mean_expected = 45 + 273.15\n",
    "Pvap_expected = 13136# Pa\n",
    "Tvap_expected = 51.07 + 273.15\n",
    "Pout_expected = 177000\n",
    "Pout = 177000 # Pa\n",
    "Tout = Tout_mean_expected * np.ones(Rows) # K"
   ]
  },
  {
   "cell_type": "code",
   "execution_count": 10,
   "metadata": {
    "ExecuteTime": {
     "end_time": "2021-02-12T15:28:03.790234Z",
     "start_time": "2021-02-12T15:28:03.782539Z"
    }
   },
   "outputs": [
    {
     "name": "stdout",
     "output_type": "stream",
     "text": [
      "Expected heat duty to 1093.77 MW.\n",
      "Expected steam mass flowrate 459.69 kg/s.\n",
      "The exhaust steam density is equal to 0.08763 kg/m3.\n",
      "The exhaust steam vaporization heat is equal to 2379375 J/kg.\n"
     ]
    }
   ],
   "source": [
    "Tm_expected = 0.5 * (Tin + Tout_mean_expected) # K - mean cooling water temperature\n",
    "Pm_expected = 0.5 * (Pin + Pout) # Pa - mean cooling water pressure\n",
    "water_heat_capacity = heat_capacity(Tm_expected, Pm_expected, simplified = True)\n",
    "\n",
    "exhaust_steam_density = vapour_density(Pvap_expected, simplified = True)\n",
    "exhaust_vaporization_heat = vaporization_enthalpy(Pvap_expected, simplified = True)\n",
    "\n",
    "Q_expected = water_heat_capacity * m * (Tout_mean_expected - Tin)\n",
    "kvap_expected = Q_expected/exhaust_vaporization_heat\n",
    "\n",
    "\n",
    "print(\"Expected heat duty to {number:.{digits}f} MW.\".format(number=Q_expected*1e-6, digits=2))\n",
    "print(\"Expected steam mass flowrate {number:.{digits}f} kg/s.\".format(number=kvap_expected, digits=2))\n",
    "print(\"The exhaust steam density is equal to {number:.{digits}f} kg/m3.\"\\\n",
    "      .format(number=exhaust_steam_density, digits=5))\n",
    "print(\"The exhaust steam vaporization heat is equal to {number:.{digits}f} J/kg.\"\\\n",
    "      .format(number=exhaust_vaporization_heat, digits=0))\n",
    "#vaporization_enthalpy(Pvap, simplified=True)\n",
    "#print(Pvap, exhaust_vaporization_heat, vaporization_enthalpy(Pvap, simplified=True))"
   ]
  },
  {
   "cell_type": "markdown",
   "metadata": {},
   "source": [
    "#### Simulation specification"
   ]
  },
  {
   "cell_type": "code",
   "execution_count": 11,
   "metadata": {
    "ExecuteTime": {
     "end_time": "2021-02-12T15:28:04.629325Z",
     "start_time": "2021-02-12T15:28:04.626257Z"
    }
   },
   "outputs": [],
   "source": [
    "# Set\n",
    "Pvap = 13040 # Pa\n",
    "Tvap = saturation_temperature(Pvap, simplified = True)\n",
    "#print(Pvap, Tvap, saturation_temperature(Pvap, simplified=True))"
   ]
  },
  {
   "cell_type": "markdown",
   "metadata": {},
   "source": [
    "## Simplified model"
   ]
  },
  {
   "cell_type": "code",
   "execution_count": 12,
   "metadata": {
    "ExecuteTime": {
     "end_time": "2021-02-12T15:28:05.375328Z",
     "start_time": "2021-02-12T15:28:05.368147Z"
    }
   },
   "outputs": [],
   "source": [
    "Tout = Tout_mean_expected * np.ones(Rows) # K\n",
    "Tf_in = 1*Tin + 0*Tout + 0*Tvap\n",
    "Tf_out = 0*Tin + 1*Tout + 0*Tvap\n",
    "Ti_in = 1*Tin + 0*Tout + 0*Tvap\n",
    "Ti_out = 0*Tin + 1*Tout + 0*Tvap\n",
    "To_in = 0.5*Tin + 0*Tout + 0.5*Tvap\n",
    "To_out = 0*Tin + 0.5*Tout + 0.5*Tvap\n",
    "m_tube = 0*Tout + m/n_tubes\n",
    "x0 = [Pout_expected]\n",
    "\n",
    "for i in range(0, Rows):\n",
    "     x0 +=[Tout[i], Tf_in[i], Tf_out[i], Ti_in[i], Ti_out[i], To_in[i], To_out[i], m_tube[i]]"
   ]
  },
  {
   "cell_type": "code",
   "execution_count": 13,
   "metadata": {
    "ExecuteTime": {
     "end_time": "2021-02-12T15:28:07.710819Z",
     "start_time": "2021-02-12T15:28:05.843743Z"
    }
   },
   "outputs": [
    {
     "name": "stdout",
     "output_type": "stream",
     "text": [
      "\n",
      " -- ROW 0 --\n",
      "Restotal is 0.000235 W/(K)\n",
      "The row external convection coefficient is 14800.23 W/(K*m2)\n",
      "The row internal convection coefficient is 9843.21 W/(K*m2)\n",
      "The last row calculated internal resistance x length is 0.000086 K/W\n",
      "The last row calculated external resistance x length is 0.000053 K/W\n",
      "LMTD is 11.12 K\n",
      "The heat rate per tube is 47272.56 W\n",
      "U*A per tube is 4249.96 W/K\n",
      "Reswall is 0.000048 K/W\n",
      "Resint is 0.000086 K/W\n",
      "Resext is 0.000053 K/W\n",
      "Tf is 315.67 K\n",
      "Ti is 318.38 K\n",
      "To is 321.08 K\n",
      "Tvap is 324.07 K\n",
      "Cooling water inlet temperature is 302.15 K\n",
      "Cooling water outlet temperature is 319.44 W/K\n",
      "Water mean velocity is 2.00 m/s.\n",
      "Inlet Pressure is 200000.00 Pa.\n",
      "Outlet Pressure :  163103.01368681347\n",
      "Tube mass flowrate (kg/s) :  0.65437073006649\n",
      "ResFouling (K/W) :  4.799999999999954e-05\n",
      "dmfdt (kg/m2day) :  4.7728340684899166e-08\n",
      "\n",
      " -- ROW 29 --\n",
      "Restotal is 0.000300 W/(K)\n",
      "The row external convection coefficient is 6722.78 W/(K*m2)\n",
      "The row internal convection coefficient is 9724.25 W/(K*m2)\n",
      "The last row calculated internal resistance x length is 0.000087 K/W\n",
      "The last row calculated external resistance x length is 0.000117 K/W\n",
      "LMTD is 12.66 K\n",
      "The heat rate per tube is 42190.55 W\n",
      "U*A per tube is 3333.79 W/K\n",
      "Reswall is 0.000048 K/W\n",
      "Resint is 0.000087 K/W\n",
      "Resext is 0.000117 K/W\n",
      "Tf is 314.02 K\n",
      "Ti is 316.29 K\n",
      "To is 318.56 K\n",
      "Tvap is 324.07 K\n",
      "Cooling water inlet temperature is 302.15 K\n",
      "Cooling water outlet temperature is 317.61 W/K\n",
      "Water mean velocity is 2.00 m/s.\n",
      "Inlet Pressure is 200000.00 Pa.\n",
      "Outlet Pressure :  163103.01368681347\n",
      "Tube mass flowrate (kg/s) :  0.6530747601671654\n",
      "ResFouling (K/W) :  4.799999999999954e-05\n",
      "dmfdt (kg/m2day) :  4.660121406735632e-08\n"
     ]
    }
   ],
   "source": [
    "args = (m, Tvap, Tin, Pin, Pvap, fNtub, Rows, tubes_per_width, kf, kwall, ep, L, Df, Do, Di)\n",
    "        \n",
    "x = solve(x0, *args)\n",
    "\n",
    "results = calculate_results(x,*args)"
   ]
  },
  {
   "cell_type": "code",
   "execution_count": 14,
   "metadata": {
    "ExecuteTime": {
     "end_time": "2021-02-12T15:28:07.827548Z",
     "start_time": "2021-02-12T15:28:07.816737Z"
    }
   },
   "outputs": [
    {
     "name": "stdout",
     "output_type": "stream",
     "text": [
      "The total steam flowrate is 459.67 kg/s\n",
      "The total heat load of condensation is 1093.88 MW\n",
      "The cooling water CALCULATED mean outlet temperature is 318.15 K\n",
      "The cooling water EXPECTED mean outlet temperature is 318.15 K\n",
      "Cooling Water outlet temp deviation is 0.00 %\n",
      "Steam temp deviation is -0.29 %\n"
     ]
    }
   ],
   "source": [
    "# Calculating final results\n",
    "Q_total = 0\n",
    "kvap_calc = 0\n",
    "Tout_mean = 0\n",
    "Pout_mean = Pout\n",
    "m_tube_aux = 0\n",
    "for i in range(0, Rows):\n",
    "    Q_total += results[i][\"Q\"]*tubes_per_width\n",
    "    kvap_calc += results[i][\"kvap\"]\n",
    "    Tout_mean += results[i][\"Tout\"]*results[i][\"m_tube\"]\n",
    "    m_tube_aux += results[i][\"m_tube\"]\n",
    "Tout_mean = Tout_mean/m_tube_aux\n",
    "    \n",
    "print(\"The total steam flowrate is {number:.{digits}f} kg/s\".format(number=kvap_calc, digits=2))\n",
    "print(\"The total heat load of condensation is {number:.{digits}f} MW\".format(number=1e-6*Q_total, digits=2))\n",
    "print(\"The cooling water CALCULATED mean outlet temperature is {number:.{digits}f} K\".format(number=Tout_mean,digits=2))\n",
    "print(\"The cooling water EXPECTED mean outlet temperature is {number:.{digits}f} K\".format(number=Tout_mean_expected,digits=2))\n",
    "print(\"Cooling Water outlet temp deviation is {number:.{digits}f} %\".format(number=(Tout_mean-Tout_mean_expected)/(Tout_mean_expected-273.15)*100,digits=2))\n",
    "print(\"Steam temp deviation is {number:.{digits}f} %\".format(number=(Tvap-Tvap_expected)/(Tvap_expected - 273.15)*100,digits=2))"
   ]
  },
  {
   "cell_type": "markdown",
   "metadata": {
    "ExecuteTime": {
     "end_time": "2021-02-03T23:27:46.228526Z",
     "start_time": "2021-02-03T23:27:46.225902Z"
    }
   },
   "source": [
    "## Daetools Simulations "
   ]
  },
  {
   "cell_type": "code",
   "execution_count": 26,
   "metadata": {
    "ExecuteTime": {
     "end_time": "2021-02-12T15:35:34.773723Z",
     "start_time": "2021-02-12T15:35:34.770820Z"
    }
   },
   "outputs": [],
   "source": [
    "Nelements = 7"
   ]
  },
  {
   "cell_type": "code",
   "execution_count": 27,
   "metadata": {
    "ExecuteTime": {
     "end_time": "2021-02-12T15:35:35.281565Z",
     "start_time": "2021-02-12T15:35:35.277389Z"
    }
   },
   "outputs": [],
   "source": [
    "def prepare_initial_estimate(results, key1, key2):\n",
    "    return np.array([list(np.linspace(result[key1], result[key2], Nelements)) for result in results]).T.tolist()"
   ]
  },
  {
   "cell_type": "markdown",
   "metadata": {},
   "source": [
    "#### Initial estimate for Steady State with fixed To"
   ]
  },
  {
   "cell_type": "code",
   "execution_count": 28,
   "metadata": {
    "ExecuteTime": {
     "end_time": "2021-02-12T15:35:39.730114Z",
     "start_time": "2021-02-12T15:35:36.052186Z"
    }
   },
   "outputs": [
    {
     "name": "stdout",
     "output_type": "stream",
     "text": [
      "Creating the system...        \n",
      "The system created successfully.\n",
      " 0.00% ETA: [00.0s]Starting the initialization of the system... Done.\n",
      " 0.00% ETA: [00.0s]Saving Initialization Values\n",
      "Integrating from [0] to [1] ...\n",
      " 0.00% ETA: [00.0s]                              \n",
      " 100.00% ETA: [00.0s]The simulation has finished successfully!\n",
      " 100.00% ETA: [00.0s]                              \n",
      " 100.00% ETA: [00.0s]--------------------------------------------------------------\n",
      " 100.00% ETA: [00.0s]                             Time (s)   Rel.time (%)    Count\n",
      " 100.00% ETA: [00.0s]--------------------------------------------------------------\n",
      " 100.00% ETA: [00.0s]Simulation:                   \n",
      " 100.00% ETA: [00.0s]  Initialization                0.891              -        -\n",
      " 100.00% ETA: [00.0s]  Solve initial                 0.837          31.29        -\n",
      " 100.00% ETA: [00.0s]  Integration                   1.837          68.71        -\n",
      " 100.00% ETA: [00.0s]  Integ. + solve init.          2.674         100.00        -\n",
      " 100.00% ETA: [00.0s]  Lin.sol. + Resid.             0.074           2.77        -\n",
      " 100.00% ETA: [00.0s]  ------------------------------------------------------------\n",
      " 100.00% ETA: [00.0s]  Total                         3.564              -        -\n",
      " 100.00% ETA: [00.0s]--------------------------------------------------------------\n",
      " 100.00% ETA: [00.0s]DAE solver [Sundials IDAS]:   \n",
      " 100.00% ETA: [00.0s]  Steps                             -              -       11\n",
      " 100.00% ETA: [00.0s]  Error test fails                  -              -        0\n",
      " 100.00% ETA: [00.0s]  Residuals (DAE)                   -              -       26\n",
      " 100.00% ETA: [00.0s]  Residuals (total)             0.074           2.77       26\n",
      " 100.00% ETA: [00.0s]--------------------------------------------------------------\n",
      " 100.00% ETA: [00.0s]Non-linear solver [Sundials modified Newton]:\n",
      " 100.00% ETA: [00.0s]  Iterations                        -              -       23\n",
      " 100.00% ETA: [00.0s]  Conv. fails                       -              -        0\n",
      " 100.00% ETA: [00.0s]--------------------------------------------------------------\n",
      " 100.00% ETA: [00.0s]Linear solver [Sundials LU]:  \n",
      " 100.00% ETA: [00.0s]  Setup                         0.000           0.00        0\n",
      " 100.00% ETA: [00.0s]  Jacobian                      0.288          10.79       12\n",
      " 100.00% ETA: [00.0s]  Solve                         0.000           0.00        0\n",
      " 100.00% ETA: [00.0s]  Total LA                      0.000           0.00        -\n",
      " 100.00% ETA: [00.0s]--------------------------------------------------------------\n",
      " 100.00% ETA: [00.0s]Number of equations 2198\n"
     ]
    }
   ],
   "source": [
    "data = {\n",
    "    \"node_A\": {\n",
    "        \"kind\": \"node\",\n",
    "        \"module\": \"models.source\",\n",
    "        \"class\": \"Source\",\n",
    "        \"steady_state\": True,\n",
    "        \"specifications\": {\n",
    "            \"w\": m,\n",
    "        },\n",
    "        \"parameters\": {\n",
    "            \"Text\": Tin,\n",
    "            \"Pext\": Pin,\n",
    "            \"x\": 0.0,\n",
    "            \"y\": 0.0,\n",
    "            \"z\": 0.0\n",
    "        },\n",
    "        \"initial_guess\": {\n",
    "            \"w\": m,\n",
    "            \"P\": Pin,\n",
    "            \"T\": Tin\n",
    "\n",
    "        }\n",
    "    },\n",
    "    \"condenser\": {\n",
    "        \"kind\": \"edge\",\n",
    "\n",
    "        \"module\": \"models.fixed_external_temperature_tube_arrange\",\n",
    "        \"class\": \"FixedExternalTemperatureTubeArrange\",\n",
    "\n",
    "        #\"module\": \"models.tube_arrange\",\n",
    "        #\"class\": \"TubeArrange\",\n",
    "\n",
    "        \"from\": \"node_A\",\n",
    "        \"to\": \"node_B\",\n",
    "        \"domains\": {\n",
    "            \"x\": {\n",
    "                \"initial\": 0.0,\n",
    "                \"final\": 1.0,\n",
    "                \"N\": Nelements\n",
    "            },\n",
    "            \"y\": {\n",
    "                \"N\": Rows\n",
    "            },\n",
    "\n",
    "        },\n",
    "        \"states\": {\n",
    "        },\n",
    "        \"parameters\": {\n",
    "            \"Di\": Di,\n",
    "            \"tetha\": 0.0,\n",
    "            \"L\": L,\n",
    "            \"epw\": ep,\n",
    "            \"Klb\": 0.0,\n",
    "            \"Kub\": 0.0,\n",
    "            \"Npipes\": n_tubes/Rows,\n",
    "            \"kwall\": kwall,\n",
    "            \"Do\": Do,\n",
    "            \"ResF\": ResF\n",
    "\n",
    "        },\n",
    "        \"steady_state\": True,\n",
    "        \"specifications\": {\n",
    "            \"To\": prepare_initial_estimate(results, \"To_in\", \"To_out\"),\n",
    "        },\n",
    "        \"initial_guess\": {\n",
    "            \"D\": Di,\n",
    "            \"v\": prepare_initial_estimate(results, \"v\", \"v\"),\n",
    "            \"k\": prepare_initial_estimate(results, \"m_tube\", \"m_tube\"),\n",
    "            \"T\": prepare_initial_estimate(results, \"Tin\", \"Tout\"),\n",
    "            \"P\": prepare_initial_estimate(results, \"Pin\", \"Pout\"),\n",
    "            \"hint\": prepare_initial_estimate(results, \"hint\", \"hint\"),\n",
    "            \"Ti\": prepare_initial_estimate(results, \"Ti_in\", \"Ti_out\"),\n",
    "\n",
    "        }\n",
    "    },\n",
    "    \"node_B\": {\n",
    "        \"kind\": \"node\",\n",
    "        \"module\": \"models.sink\",\n",
    "        \"class\": \"Sink\",\n",
    "        \"steady_state\": True,\n",
    "        \"specifications\": {\n",
    "            \"P\": Pout,\n",
    "        },\n",
    "        \"parameters\": {\n",
    "            \"Text\": Tout_mean,\n",
    "            \"Pext\": Pout,\n",
    "            \"x\": 0.0,\n",
    "            \"y\": 0.0,\n",
    "            \"z\": 0.0\n",
    "        },\n",
    "        \"initial_guess\": {\n",
    "            \"w\": m,\n",
    "            \"P\": Pout,\n",
    "            \"T\": Tout_mean\n",
    "        }\n",
    "    },\n",
    "}\n",
    "\n",
    "with open(\"{}_{}_pre.json\".format(filename, suffix), 'w') as outfile:\n",
    "    json.dump(data, outfile, indent=4)\n",
    "    \n",
    "simulate.main(\n",
    "    name=filename,\n",
    "    input=\"{}_{}_pre.json\".format(filename, suffix),\n",
    "    output=\"{}_{}_pre.out.json\".format(filename, suffix),\n",
    "    reporting_interval=1,\n",
    "    time_horizon=1,\n",
    "    relative_tolerance=1e-1,\n",
    "    MaxStep=1,\n",
    "    MaxNumSteps=1000000,\n",
    ")"
   ]
  },
  {
   "cell_type": "markdown",
   "metadata": {
    "ExecuteTime": {
     "end_time": "2021-02-12T07:49:15.344674Z",
     "start_time": "2021-02-12T07:49:15.341881Z"
    }
   },
   "source": [
    "#### Initial Estimate with complete model"
   ]
  },
  {
   "cell_type": "code",
   "execution_count": 52,
   "metadata": {
    "ExecuteTime": {
     "end_time": "2021-02-12T15:08:59.843612Z",
     "start_time": "2021-02-12T15:08:20.767047Z"
    }
   },
   "outputs": [
    {
     "name": "stdout",
     "output_type": "stream",
     "text": [
      "Creating the system...        \n",
      "The system created successfully.\n",
      " 0.00% ETA: [00.0s]Starting the initialization of the system... Done.\n",
      " 0.00% ETA: [00.0s]Saving Initialization Values\n",
      "Integrating from [0] to [1] ...\n",
      " 0.00% ETA: [00.0s]                              \n",
      " 100.00% ETA: [00.0s]The simulation has finished successfully!\n",
      " 100.00% ETA: [00.0s]                              \n",
      " 100.00% ETA: [00.0s]--------------------------------------------------------------\n",
      " 100.00% ETA: [00.0s]                             Time (s)   Rel.time (%)    Count\n",
      " 100.00% ETA: [00.0s]--------------------------------------------------------------\n",
      " 100.00% ETA: [00.0s]Simulation:                   \n",
      " 100.00% ETA: [00.0s]  Initialization                1.820              -        -\n",
      " 100.00% ETA: [00.0s]  Solve initial                10.822          29.22        -\n",
      " 100.00% ETA: [00.0s]  Integration                  26.210          70.78        -\n",
      " 100.00% ETA: [00.0s]  Integ. + solve init.         37.032         100.00        -\n",
      " 100.00% ETA: [00.0s]  Lin.sol. + Resid.             0.238           0.64        -\n",
      " 100.00% ETA: [00.0s]  ------------------------------------------------------------\n",
      " 100.00% ETA: [00.0s]  Total                        38.852              -        -\n",
      " 100.00% ETA: [00.0s]--------------------------------------------------------------\n",
      " 100.00% ETA: [00.0s]DAE solver [Sundials IDAS]:   \n",
      " 100.00% ETA: [00.0s]  Steps                             -              -       11\n",
      " 100.00% ETA: [00.0s]  Error test fails                  -              -        0\n",
      " 100.00% ETA: [00.0s]  Residuals (DAE)                   -              -       34\n",
      " 100.00% ETA: [00.0s]  Residuals (total)             0.238           0.64       34\n",
      " 100.00% ETA: [00.0s]--------------------------------------------------------------\n",
      " 100.00% ETA: [00.0s]Non-linear solver [Sundials modified Newton]:\n",
      " 100.00% ETA: [00.0s]  Iterations                        -              -       30\n",
      " 100.00% ETA: [00.0s]  Conv. fails                       -              -        0\n",
      " 100.00% ETA: [00.0s]--------------------------------------------------------------\n",
      " 100.00% ETA: [00.0s]Linear solver [Sundials LU]:  \n",
      " 100.00% ETA: [00.0s]  Setup                         0.000           0.00        0\n",
      " 100.00% ETA: [00.0s]  Jacobian                      0.581           1.57       12\n",
      " 100.00% ETA: [00.0s]  Solve                         0.000           0.00        0\n",
      " 100.00% ETA: [00.0s]  Total LA                      0.000           0.00        -\n",
      " 100.00% ETA: [00.0s]--------------------------------------------------------------\n",
      " 100.00% ETA: [00.0s]Number of equations 5080\n",
      "Simulated Steam Pressure 12607.048130 Pa\n",
      "Simulated Steam Temperature 50.24 oC\n",
      "Simulated Cooling Water Inlet Temperature 29.00 oC\n",
      "Simulated Cooling Water Outlet Temperature 45.19 oC\n",
      "Simulated Steam flowrate 459.67 kg/s\n",
      "Simulated Steam Pressure 1094.64 Pa\n",
      "Cooling Water outlet temp deviation is 0.42 %\n",
      "Steam temp deviation is -1.62 %\n"
     ]
    }
   ],
   "source": [
    "data2 = data.copy()\n",
    "\n",
    "data2[\"condenser\"] = {\n",
    "        \"kind\": \"edge\",\n",
    "\n",
    "        \"module\": \"models.carbfilmed_external_film_cond_tube_arrange\",\n",
    "        \"class\": \"CarbfilmedExternalFilmCondensationTubeArrange\",\n",
    "\n",
    "        \"from\": \"node_B\",\n",
    "        \"to\": \"node_C\",\n",
    "        \"domains\": {\n",
    "            \"x\": {\n",
    "                \"initial\": 0.0,\n",
    "                \"final\": 1.0,\n",
    "                \"N\": Nelements\n",
    "            },\n",
    "            \"y\": {\n",
    "                \"N\": Rows\n",
    "            },\n",
    "\n",
    "        },\n",
    "        \"states\": {\n",
    "            'stnRegulator': 'Closed',\n",
    "            'stnShellPressure': 'Variable',\n",
    "            'stnFouling': \"Static\",\n",
    "        },\n",
    "\n",
    "        \"parameters\": {\n",
    "            \"Di\": Di,\n",
    "            \"tetha\": 0.0,\n",
    "            \"L\": L,\n",
    "            \"epw\": ep,\n",
    "            \"Klb\": 0.0,\n",
    "            \"Kub\": 0.0,\n",
    "            \"Npipes\": n_tubes/Rows,\n",
    "            \"kwall\": kwall,\n",
    "            \"Do\": Do,\n",
    "            \"PextH\": 100000,\n",
    "            \"PextSP\": -1,\n",
    "            \"Pext0\": Pvap,\n",
    "            \"Vext\": Vext,\n",
    "            \"kvap\": kvap_calc,\n",
    "            \"fNtub\": list(fNtub),\n",
    "            \"ResF\": 0.0,\n",
    "            \"mfi\": mf,\n",
    "\n",
    "        },\n",
    "        \"steady_state\": True,\n",
    "        \"specifications\": {\n",
    "            #\"kcond\": 0.0,\n",
    "            #\"Pext\": Pvap,\n",
    "            #\"Text\": Tvap,\n",
    "            #\"wext\": 0.0,\n",
    "            #\"To\": prepare_initial_estimate(results, \"To_in\", \"To_out\"),\n",
    "        },\n",
    "        \"initial_guess\": {\n",
    "            \"D\": Df,\n",
    "            \"v\": prepare_initial_estimate(results, \"v\", \"v\"),\n",
    "            \"k\": prepare_initial_estimate(results, \"m_tube\", \"m_tube\"),\n",
    "            \"T\": prepare_initial_estimate(results, \"Tin\", \"Tout\"),\n",
    "            \"P\": prepare_initial_estimate(results, \"Pin\", \"Pout\"),\n",
    "            \"hint\": prepare_initial_estimate(results, \"hint\", \"hint\"),\n",
    "            \"hext\": prepare_initial_estimate(results, \"hext\", \"hext\"),\n",
    "            \"Pext\": Pvap,\n",
    "            \"Text\": Tvap,\n",
    "            \"Ti\": prepare_initial_estimate(results, \"Ti_in\", \"Ti_out\"),\n",
    "            #\"Qout\": 0.0,\n",
    "            \"To\": prepare_initial_estimate(results, \"To_in\", \"To_out\"),\n",
    "            \"kcond\": kvap_calc,\n",
    "            #\"wext\": 0.0,\n",
    "            \"mf\": mf,\n",
    "            \"Rf\": Rf,\n",
    "            \"phid\": prepare_initial_estimate(results, \"phid\", \"phid\"),\n",
    "            \"phir\": prepare_initial_estimate(results, \"phir\", \"phir\"),\n",
    "        }\n",
    "}\n",
    "\n",
    "with open(\"{}_{}.json\".format(filename, suffix), 'w') as outfile:\n",
    "    json.dump(data2, outfile, indent=4)\n",
    "    \n",
    "simulate.main(\n",
    "    name=filename,\n",
    "    input=\"{}_{}.json\".format(filename, suffix),\n",
    "    output=\"{}_{}.out.json\".format(filename, suffix),\n",
    "    initial_condition=\"{}_{}_pre.out.json\".format(filename, suffix),\n",
    "    reporting_interval=1,\n",
    "    time_horizon=1,\n",
    "    relative_tolerance=1e-1,\n",
    "    MaxStep=1,\n",
    "    MaxNumSteps=1000000,\n",
    "\n",
    ")\n",
    "\n",
    "with open(\"{}_{}.out.json\".format(filename, suffix)) as f:\n",
    "    json_data=f.read()\n",
    "output = json.loads(json_data)\n",
    "\n",
    "Tout_sim = output[\"node_C.T\"][\"Values\"][-1]\n",
    "Tvap_sim = output[\"condenser.Text\"][\"Values\"][-1]\n",
    "\n",
    "print(\"Simulated Steam Pressure {number:.{digits}f} Pa\".format(\n",
    "    number=output[\"condenser.Pext\"][\"Values\"][-1],digits=6)\n",
    "     )\n",
    "print(\"Simulated Steam Temperature {number:.{digits}f} oC\".format(\n",
    "    number=Tvap_sim-273.15,digits=2)\n",
    "     )\n",
    "print(\"Simulated Cooling Water Inlet Temperature {number:.{digits}f} oC\".format(\n",
    "    number=output[\"node_B.T\"][\"Values\"][-1]-273.15,digits=2)\n",
    "     )\n",
    "print(\"Simulated Cooling Water Outlet Temperature {number:.{digits}f} oC\".format(\n",
    "    number=Tout_sim-273.15,digits=2)\n",
    "     )\n",
    "print(\"Simulated Steam flowrate {number:.{digits}f} kg/s\".format(\n",
    "    number=output[\"condenser.kvap\"][\"Values\"][-1],digits=2)\n",
    "     )\n",
    "print(\"Simulated Steam Pressure {number:.{digits}f} Pa\".format(\n",
    "    number=sum(np.array(output[\"condenser.Qtotal\"][\"Values\"][-1]))/1e6,digits=2)\n",
    "     )\n",
    "\n",
    "print(\"Cooling Water outlet temp deviation is {number:.{digits}f} %\".format(number=(Tout_sim-Tout_mean_expected)/(Tout_mean_expected-273.15)*100,digits=2))\n",
    "print(\"Steam temp deviation is {number:.{digits}f} %\".format(number=(Tvap_sim-Tvap_expected)/(Tvap_expected - 273.15)*100,digits=2))"
   ]
  },
  {
   "cell_type": "markdown",
   "metadata": {
    "ExecuteTime": {
     "end_time": "2021-02-12T07:59:12.754458Z",
     "start_time": "2021-02-12T07:59:12.751535Z"
    }
   },
   "source": [
    "#### Dynamic Simulation with Fixed inlet flowrate"
   ]
  },
  {
   "cell_type": "code",
   "execution_count": 53,
   "metadata": {
    "ExecuteTime": {
     "end_time": "2021-02-12T15:10:17.014981Z",
     "start_time": "2021-02-12T15:09:10.100393Z"
    }
   },
   "outputs": [
    {
     "name": "stdout",
     "output_type": "stream",
     "text": [
      "Creating the system...        \n",
      "The system created successfully.\n",
      " 0.00% ETA: [00.0s]Loading Initialization Values\n",
      "Starting the initialization of the system... Done.\n",
      " 0.00% ETA: [00.0s]Saving Initialization Values\n",
      "Integrating from [0] to [864000] ...\n",
      " 0.00% ETA: [00.0s]Integrating from [10] to [864000] ...\n",
      " 0.00% ETA: [00.0s]Integrating from [864000] to [1728000] ...\n",
      " 1.00% ETA: [01h 32m 29.7s]Integrating from [1728000] to [2592000] ...\n",
      " 2.00% ETA: [48m 58.8s]Integrating from [2592000] to [3456000] ...\n",
      " 3.00% ETA: [32m 21.2s]Integrating from [3456000] to [4320000] ...\n",
      " 4.00% ETA: [24m 02.4s]Integrating from [4320000] to [5184000] ...\n",
      " 5.00% ETA: [19m 04.1s]Integrating from [5184000] to [6048000] ...\n",
      " 6.00% ETA: [15m 44.4s]Integrating from [6048000] to [6912000] ...\n",
      " 7.00% ETA: [13m 21.7s]Integrating from [6912000] to [7776000] ...\n",
      " 8.00% ETA: [11m 34.6s]Integrating from [7776000] to [8640000] ...\n",
      " 9.00% ETA: [10m 11.3s]Integrating from [8640000] to [9504000] ...\n",
      " 10.00% ETA: [09m 04.7s]Integrating from [9504000] to [10368000] ...\n",
      " 11.00% ETA: [08m 10.1s]Integrating from [10368000] to [11232000] ...\n",
      " 12.00% ETA: [07m 24.7s]Integrating from [11232000] to [12096000] ...\n",
      " 13.00% ETA: [06m 46.2s]Integrating from [12096000] to [12960000] ...\n",
      " 14.00% ETA: [06m 13.2s]Integrating from [12960000] to [13824000] ...\n",
      " 15.00% ETA: [05m 44.6s]Integrating from [13824000] to [14688000] ...\n",
      " 16.00% ETA: [05m 19.6s]Integrating from [14688000] to [15552000] ...\n",
      " 17.00% ETA: [04m 57.5s]Integrating from [15552000] to [16416000] ...\n",
      " 18.00% ETA: [04m 37.8s]Integrating from [16416000] to [17280000] ...\n",
      " 19.00% ETA: [04m 20.3s]Integrating from [17280000] to [18144000] ...\n",
      " 20.00% ETA: [04m 04.4s]Integrating from [18144000] to [19008000] ...\n",
      " 21.00% ETA: [03m 50.1s]Integrating from [19008000] to [19872000] ...\n",
      " 22.00% ETA: [03m 37.1s]Integrating from [19872000] to [20736000] ...\n",
      " 23.00% ETA: [03m 25.2s]Integrating from [20736000] to [21600000] ...\n",
      " 24.00% ETA: [03m 14.3s]Integrating from [21600000] to [22464000] ...\n",
      " 25.00% ETA: [03m 04.3s]Integrating from [22464000] to [23328000] ...\n",
      " 26.00% ETA: [02m 55.0s]Integrating from [23328000] to [24192000] ...\n",
      " 27.00% ETA: [02m 46.4s]Integrating from [24192000] to [25056000] ...\n",
      " 28.00% ETA: [02m 38.4s]Integrating from [25056000] to [25920000] ...\n",
      " 29.00% ETA: [02m 31.0s]Integrating from [25920000] to [26784000] ...\n",
      " 30.00% ETA: [02m 24.0s]Integrating from [26784000] to [27648000] ...\n",
      " 31.00% ETA: [02m 17.5s]Integrating from [27648000] to [28512000] ...\n",
      " 32.00% ETA: [02m 11.4s]Integrating from [28512000] to [29376000] ...\n",
      " 33.00% ETA: [02m 05.7s]Integrating from [29376000] to [30240000] ...\n",
      " 34.00% ETA: [02m 00.3s]Integrating from [30240000] to [31104000] ...\n",
      " 35.00% ETA: [01m 55.2s]Integrating from [31104000] to [31968000] ...\n",
      " 36.00% ETA: [01m 50.4s]Integrating from [31968000] to [32832000] ...\n",
      " 37.00% ETA: [01m 45.8s]Integrating from [32832000] to [33696000] ...\n",
      " 38.00% ETA: [01m 41.5s]Integrating from [33696000] to [34560000] ...\n",
      " 39.00% ETA: [01m 37.4s]Integrating from [34560000] to [35424000] ...\n",
      " 40.00% ETA: [01m 33.5s]Integrating from [35424000] to [36288000] ...\n",
      " 41.00% ETA: [01m 29.9s]Integrating from [36288000] to [37152000] ...\n",
      " 42.00% ETA: [01m 26.3s]Integrating from [37152000] to [38016000] ...\n",
      " 43.00% ETA: [01m 23.0s]Integrating from [38016000] to [38880000] ...\n",
      " 44.00% ETA: [01m 19.7s]Integrating from [38880000] to [39744000] ...\n",
      " 45.00% ETA: [01m 16.7s]Integrating from [39744000] to [40608000] ...\n",
      " 46.00% ETA: [01m 13.7s]Integrating from [40608000] to [41472000] ...\n",
      " 47.00% ETA: [01m 10.9s]Integrating from [41472000] to [42336000] ...\n",
      " 48.00% ETA: [01m 08.1s]Integrating from [42336000] to [43200000] ...\n",
      " 49.00% ETA: [01m 09.9s]Integrating from [43200000] to [44064000] ...\n",
      " 50.00% ETA: [01m 07.2s]Integrating from [44064000] to [44928000] ...\n",
      " 51.00% ETA: [01m 04.6s]Integrating from [44928000] to [45792000] ...\n",
      " 52.00% ETA: [01m 02.1s]Integrating from [45792000] to [46656000] ...\n",
      " 53.00% ETA: [59.8s]Integrating from [46656000] to [47520000] ...\n",
      " 54.00% ETA: [57.5s]Integrating from [47520000] to [48384000] ...\n",
      " 55.00% ETA: [55.3s]Integrating from [48384000] to [49248000] ...\n",
      " 56.00% ETA: [53.1s]Integrating from [49248000] to [50112000] ...\n",
      " 57.00% ETA: [51.1s]Integrating from [50112000] to [50976000] ...\n",
      " 58.00% ETA: [49.0s]Integrating from [50976000] to [51840000] ...\n",
      " 59.00% ETA: [47.1s]Integrating from [51840000] to [52704000] ...\n",
      " 60.00% ETA: [45.2s]Integrating from [52704000] to [53568000] ...\n",
      " 61.00% ETA: [43.4s]Integrating from [53568000] to [54432000] ...\n",
      " 62.00% ETA: [41.7s]Integrating from [54432000] to [55296000] ...\n",
      " 63.00% ETA: [40.0s]Integrating from [55296000] to [56160000] ...\n",
      " 64.00% ETA: [38.3s]Integrating from [56160000] to [57024000] ...\n",
      " 65.00% ETA: [36.7s]Integrating from [57024000] to [57888000] ...\n",
      " 66.00% ETA: [35.1s]Integrating from [57888000] to [58752000] ...\n",
      " 67.00% ETA: [33.6s]Integrating from [58752000] to [59616000] ...\n",
      " 68.00% ETA: [32.2s]Integrating from [59616000] to [60480000] ...\n",
      " 69.00% ETA: [30.7s]Integrating from [60480000] to [61344000] ...\n",
      " 70.00% ETA: [29.3s]Integrating from [61344000] to [62208000] ...\n",
      " 71.00% ETA: [28.0s]Integrating from [62208000] to [63072000] ...\n",
      " 72.00% ETA: [26.7s]Integrating from [63072000] to [63936000] ...\n",
      " 73.00% ETA: [25.4s]Integrating from [63936000] to [64800000] ...\n",
      " 74.00% ETA: [24.1s]Integrating from [64800000] to [65664000] ...\n",
      " 75.00% ETA: [22.9s]Integrating from [65664000] to [66528000] ...\n",
      " 76.00% ETA: [21.7s]Integrating from [66528000] to [67392000] ...\n",
      " 77.00% ETA: [20.6s]Integrating from [67392000] to [68256000] ...\n",
      " 78.00% ETA: [19.4s]Integrating from [68256000] to [69120000] ...\n",
      " 79.00% ETA: [18.3s]Integrating from [69120000] to [69984000] ...\n",
      " 80.00% ETA: [17.3s]Integrating from [69984000] to [70848000] ...\n",
      " 81.00% ETA: [16.2s]Integrating from [70848000] to [71712000] ...\n",
      " 82.00% ETA: [15.2s]Integrating from [71712000] to [72576000] ...\n",
      " 83.00% ETA: [14.2s]Integrating from [72576000] to [73440000] ...\n",
      " 84.00% ETA: [13.2s]Integrating from [73440000] to [74304000] ...\n",
      " 85.00% ETA: [12.2s]Integrating from [74304000] to [75168000] ...\n",
      " 86.00% ETA: [11.3s]Integrating from [75168000] to [76032000] ...\n",
      " 87.00% ETA: [10.4s]Integrating from [76032000] to [76896000] ...\n",
      " 88.00% ETA: [09.5s]Integrating from [76896000] to [77760000] ...\n",
      " 89.00% ETA: [08.6s]Integrating from [77760000] to [78624000] ...\n",
      " 90.00% ETA: [07.7s]Integrating from [78624000] to [79488000] ...\n",
      " 91.00% ETA: [06.9s]Integrating from [79488000] to [80352000] ...\n",
      " 92.00% ETA: [06.1s]Integrating from [80352000] to [81216000] ...\n",
      " 93.00% ETA: [05.3s]Integrating from [81216000] to [82080000] ...\n",
      " 94.00% ETA: [04.5s]Integrating from [82080000] to [82944000] ...\n",
      " 95.00% ETA: [03.7s]Integrating from [82944000] to [83808000] ...\n",
      " 96.00% ETA: [02.9s]Integrating from [83808000] to [84672000] ...\n",
      " 97.00% ETA: [02.2s]Integrating from [84672000] to [85536000] ...\n",
      " 98.00% ETA: [01.4s]Integrating from [85536000] to [86400000] ...\n",
      " 99.00% ETA: [00.7s]                              \n",
      " 100.00% ETA: [00.0s]The simulation has finished successfully!\n",
      " 100.00% ETA: [00.0s]                              \n",
      " 100.00% ETA: [00.0s]--------------------------------------------------------------\n",
      " 100.00% ETA: [00.0s]                             Time (s)   Rel.time (%)    Count\n",
      " 100.00% ETA: [00.0s]--------------------------------------------------------------\n",
      " 100.00% ETA: [00.0s]Simulation:                   \n",
      " 100.00% ETA: [00.0s]  Initialization                1.850              -        -\n",
      " 100.00% ETA: [00.0s]  Solve initial                10.471          16.62        -\n",
      " 100.00% ETA: [00.0s]  Integration                  52.534          83.38        -\n",
      " 100.00% ETA: [00.0s]  Integ. + solve init.         63.006         100.00        -\n",
      " 100.00% ETA: [00.0s]  Lin.sol. + Resid.             1.225           1.94        -\n",
      " 100.00% ETA: [00.0s]  ------------------------------------------------------------\n",
      " 100.00% ETA: [00.0s]  Total                        64.856              -        -\n",
      " 100.00% ETA: [00.0s]--------------------------------------------------------------\n",
      " 100.00% ETA: [00.0s]DAE solver [Sundials IDAS]:   \n"
     ]
    },
    {
     "name": "stdout",
     "output_type": "stream",
     "text": [
      " 100.00% ETA: [00.0s]  Steps                             -              -      110\n",
      "  Error test fails                  -              -        0\n",
      " 100.00% ETA: [00.0s]  Residuals (DAE)                   -              -      122\n",
      " 100.00% ETA: [00.0s]  Residuals (total)             1.225           1.94      140\n",
      " 100.00% ETA: [00.0s]--------------------------------------------------------------\n",
      " 100.00% ETA: [00.0s]Non-linear solver [Sundials modified Newton]:\n",
      " 100.00% ETA: [00.0s]  Iterations                        -              -      120\n",
      " 100.00% ETA: [00.0s]  Conv. fails                       -              -        0\n",
      " 100.00% ETA: [00.0s]--------------------------------------------------------------\n",
      " 100.00% ETA: [00.0s]Linear solver [Sundials LU]:  \n",
      " 100.00% ETA: [00.0s]  Setup                         0.000           0.00        0\n",
      " 100.00% ETA: [00.0s]  Jacobian                      0.899           1.43       17\n",
      " 100.00% ETA: [00.0s]  Solve                         0.000           0.00        0\n",
      " 100.00% ETA: [00.0s]  Total LA                      0.000           0.00        -\n",
      " 100.00% ETA: [00.0s]--------------------------------------------------------------\n",
      " 100.00% ETA: [00.0s]Number of equations 5080\n"
     ]
    }
   ],
   "source": [
    "data3 = data2.copy()\n",
    "data3[\"condenser\"][\"states\"]['stnFouling'] = \"Dynamic\"\n",
    "with open(\"{}_{}_fixedW.json\".format(filename, suffix), 'w') as outfile:\n",
    "    json.dump(data3, outfile, indent=4)\n",
    "simulate.main(\n",
    "    name=filename,\n",
    "    input=\"{}_{}_fixedW.json\".format(filename, suffix),\n",
    "    output=\"{}_{}_fixedW.out.json\".format(filename, suffix),\n",
    "    initial_condition=\"{}_{}.out.json\".format(filename, suffix),\n",
    "    init=\"{}_{}.out.json.init\".format(filename, suffix),\n",
    "    reporting_interval=10*24*3600,\n",
    "    time_horizon=1000*24*3600,\n",
    "    relative_tolerance=1e-3,\n",
    "    MaxStep=10*24*3600,\n",
    "    MaxNumSteps=100,\n",
    ")\n",
    "with open(\"{}_{}_fixedW.out.json\".format(filename, suffix)) as f:\n",
    "    json_data=f.read()\n",
    "output = json.loads(json_data)"
   ]
  },
  {
   "cell_type": "markdown",
   "metadata": {},
   "source": [
    "#### Dynamic simulation with pump"
   ]
  },
  {
   "cell_type": "code",
   "execution_count": 55,
   "metadata": {
    "ExecuteTime": {
     "end_time": "2021-02-12T15:10:26.254173Z",
     "start_time": "2021-02-12T15:10:26.245780Z"
    }
   },
   "outputs": [],
   "source": [
    "def pump_curve_points(w0, P0, w_factor = 0.4, P_factor = 0.025):\n",
    "\n",
    "    PB2_factor = 1 + 7*P_factor\n",
    "    PB1_factor = 1 + 5*P_factor\n",
    "    PA1_factor = 1 - 8*P_factor\n",
    "    PA2_factor = 1 - 20*P_factor\n",
    "\n",
    "    wB2 = w0 * (1 - 2*w_factor)\n",
    "    PB2 = P0 * (PB2_factor)\n",
    "    wB1 = w0 * (1 - w_factor)\n",
    "    PB1 = P0 * (PB1_factor)\n",
    "    wA1 = w0 * (1 + w_factor)\n",
    "    PA1 = P0 * (PA1_factor)\n",
    "    wA2 = w0 * (1 + 2*w_factor)\n",
    "    PA2 = P0 * (PA2_factor)\n",
    "\n",
    "    W = np.array([wB2, wB1, w0, wA1, wA2])\n",
    "    P = np.array([PB2, PB1, P0, PA1, PA2])\n",
    "    \n",
    "    return W, P\n",
    "\n",
    "def pump_curve(x, a00, a01, a02):\n",
    "    return a00 + a01 * x + a02 * x ** 2"
   ]
  },
  {
   "cell_type": "code",
   "execution_count": 56,
   "metadata": {
    "ExecuteTime": {
     "end_time": "2021-02-12T15:10:27.399334Z",
     "start_time": "2021-02-12T15:10:27.392600Z"
    }
   },
   "outputs": [
    {
     "name": "stdout",
     "output_type": "stream",
     "text": [
      "16360.0 216833.976407556\n",
      "[ 2.52437341e+05  1.25438802e+00 -2.07960362e-04]\n"
     ]
    }
   ],
   "source": [
    "wA = output[\"node_A.w\"][\"Values\"][0]\n",
    "PA = output[\"node_A.P\"][\"Values\"][0]\n",
    "print(wA, PA)\n",
    "\n",
    "W, P = pump_curve_points(wA,PA)\n",
    "c, pcov = curve_fit(pump_curve, W, P)\n",
    "print(c)\n",
    "\n",
    "w_values = np.linspace(wA*0.5, wA*1.5, 10)\n",
    "P_values = pump_curve(w_values, *c)"
   ]
  },
  {
   "cell_type": "code",
   "execution_count": 57,
   "metadata": {
    "ExecuteTime": {
     "end_time": "2021-02-12T15:10:28.580360Z",
     "start_time": "2021-02-12T15:10:28.421341Z"
    }
   },
   "outputs": [
    {
     "data": {
      "image/png": "[encoded data removed]",
      "text/plain": [
       "<Figure size 432x288 with 1 Axes>"
      ]
     },
     "metadata": {
      "needs_background": "light"
     },
     "output_type": "display_data"
    }
   ],
   "source": [
    "import matplotlib\n",
    "import matplotlib.pyplot as plt\n",
    "import numpy as np\n",
    "\n",
    "fig, ax = plt.subplots()\n",
    "ax.plot(w_values, P_values)\n",
    "ax.plot(wA, PA, \"or\")\n",
    "\n",
    "ax.set(xlabel='flowrate (kg/s)', ylabel='pressure (Pa)',\n",
    "       title='')\n",
    "ax.grid()\n",
    "plt.show()"
   ]
  },
  {
   "cell_type": "markdown",
   "metadata": {},
   "source": [
    "## Final Simulation"
   ]
  },
  {
   "cell_type": "code",
   "execution_count": 60,
   "metadata": {
    "ExecuteTime": {
     "end_time": "2021-02-12T15:12:10.504029Z",
     "start_time": "2021-02-12T15:12:10.500184Z"
    }
   },
   "outputs": [
    {
     "name": "stdout",
     "output_type": "stream",
     "text": [
      "{'kind': 'node', 'module': 'models.pumped_source', 'class': 'PumpedSource', 'steady_state': True, 'specifications': {}, 'parameters': {'Text': 302.15, 'Pext': 202531.6257427635, 'x': 0.0, 'y': 0.0, 'z': 0.0, 'a0': 252437.34057322243, 'a1': 1.2543880208265914, 'a2': -0.00020796036236283555}, 'initial_guess': {'w': 16360, 'P': 202531.6257427635, 'T': 302.15}}\n"
     ]
    }
   ],
   "source": [
    "print(data4[\"node_A\"])"
   ]
  },
  {
   "cell_type": "code",
   "execution_count": 61,
   "metadata": {
    "ExecuteTime": {
     "end_time": "2021-02-12T15:15:16.245401Z",
     "start_time": "2021-02-12T15:15:06.983654Z"
    }
   },
   "outputs": [
    {
     "name": "stdout",
     "output_type": "stream",
     "text": [
      "Creating the system...        \n",
      "The system created successfully.\n",
      " 0.00% ETA: [00.0s]Loading Initialization Values\n"
     ]
    },
    {
     "ename": "RuntimeError",
     "evalue": "Miscellanous exception in function: SolveInitial, source file: ida_solver.cpp, line: 801\nSundials IDAS solver cowardly failed to calculate initial conditions at TIME = 0; IDA_LINESEARCH_FAIL\nIDAS solver error in module 'IDAS' in function 'IDACalcIC': The linesearch algorithm failed: step too small or too many backtracks. [IDA_LINESEARCH_FAIL]",
     "output_type": "error",
     "traceback": [
      "\u001b[0;31m---------------------------------------------------------------------------\u001b[0m",
      "\u001b[0;31mRuntimeError\u001b[0m                              Traceback (most recent call last)",
      "\u001b[0;32m<ipython-input-61-810927035462>\u001b[0m in \u001b[0;36m<module>\u001b[0;34m\u001b[0m\n\u001b[1;32m     23\u001b[0m     \u001b[0mrelative_tolerance\u001b[0m\u001b[0;34m=\u001b[0m\u001b[0;36m1e-3\u001b[0m\u001b[0;34m,\u001b[0m\u001b[0;34m\u001b[0m\u001b[0;34m\u001b[0m\u001b[0m\n\u001b[1;32m     24\u001b[0m     \u001b[0mMaxStep\u001b[0m\u001b[0;34m=\u001b[0m\u001b[0;36m10\u001b[0m\u001b[0;34m*\u001b[0m\u001b[0;36m24\u001b[0m\u001b[0;34m*\u001b[0m\u001b[0;36m3600\u001b[0m\u001b[0;34m,\u001b[0m\u001b[0;34m\u001b[0m\u001b[0;34m\u001b[0m\u001b[0m\n\u001b[0;32m---> 25\u001b[0;31m     \u001b[0mMaxNumSteps\u001b[0m\u001b[0;34m=\u001b[0m\u001b[0;36m100\u001b[0m\u001b[0;34m,\u001b[0m\u001b[0;34m\u001b[0m\u001b[0;34m\u001b[0m\u001b[0m\n\u001b[0m\u001b[1;32m     26\u001b[0m )\n\u001b[1;32m     27\u001b[0m \u001b[0;32mwith\u001b[0m \u001b[0mopen\u001b[0m\u001b[0;34m(\u001b[0m\u001b[0;34m\"{}_{}_pumped.out.json\"\u001b[0m\u001b[0;34m.\u001b[0m\u001b[0mformat\u001b[0m\u001b[0;34m(\u001b[0m\u001b[0mfilename\u001b[0m\u001b[0;34m,\u001b[0m \u001b[0msuffix\u001b[0m\u001b[0;34m)\u001b[0m\u001b[0;34m)\u001b[0m \u001b[0;32mas\u001b[0m \u001b[0mf\u001b[0m\u001b[0;34m:\u001b[0m\u001b[0;34m\u001b[0m\u001b[0;34m\u001b[0m\u001b[0m\n",
      "\u001b[0;32m~/WorkingFolder/carbonatedeposit-condenser/simulate.py\u001b[0m in \u001b[0;36mmain\u001b[0;34m(**args)\u001b[0m\n\u001b[1;32m    123\u001b[0m     \u001b[0mname\u001b[0m \u001b[0;34m=\u001b[0m \u001b[0margs\u001b[0m\u001b[0;34m[\u001b[0m\u001b[0;34m'name'\u001b[0m\u001b[0;34m]\u001b[0m\u001b[0;34m\u001b[0m\u001b[0;34m\u001b[0m\u001b[0m\n\u001b[1;32m    124\u001b[0m     \u001b[0msimulate\u001b[0m \u001b[0;34m=\u001b[0m \u001b[0mSimulate\u001b[0m\u001b[0;34m(\u001b[0m\u001b[0mname\u001b[0m\u001b[0;34m,\u001b[0m \u001b[0margs\u001b[0m\u001b[0;34m)\u001b[0m\u001b[0;34m\u001b[0m\u001b[0;34m\u001b[0m\u001b[0m\n\u001b[0;32m--> 125\u001b[0;31m     \u001b[0msimulate\u001b[0m\u001b[0;34m.\u001b[0m\u001b[0mrun\u001b[0m\u001b[0;34m(\u001b[0m\u001b[0margs\u001b[0m\u001b[0;34m)\u001b[0m\u001b[0;34m\u001b[0m\u001b[0;34m\u001b[0m\u001b[0m\n\u001b[0m\u001b[1;32m    126\u001b[0m \u001b[0;34m\u001b[0m\u001b[0m\n\u001b[1;32m    127\u001b[0m \u001b[0;34m\u001b[0m\u001b[0m\n",
      "\u001b[0;32m~/WorkingFolder/carbonatedeposit-condenser/simulate.py\u001b[0m in \u001b[0;36mrun\u001b[0;34m(self, args)\u001b[0m\n\u001b[1;32m    106\u001b[0m                              \u001b[0mdatareporter\u001b[0m\u001b[0;34m=\u001b[0m\u001b[0mdr\u001b[0m\u001b[0;34m,\u001b[0m\u001b[0;34m\u001b[0m\u001b[0;34m\u001b[0m\u001b[0m\n\u001b[1;32m    107\u001b[0m                              \u001b[0mrun_after_simulation_init_fn\u001b[0m\u001b[0;34m=\u001b[0m\u001b[0mloadInitFile\u001b[0m\u001b[0;34m,\u001b[0m\u001b[0;34m\u001b[0m\u001b[0;34m\u001b[0m\u001b[0m\n\u001b[0;32m--> 108\u001b[0;31m                              \u001b[0mrun_before_simulation_fn\u001b[0m\u001b[0;34m=\u001b[0m\u001b[0msaveInitFile\u001b[0m\u001b[0;34m,\u001b[0m\u001b[0;34m\u001b[0m\u001b[0;34m\u001b[0m\u001b[0m\n\u001b[0m\u001b[1;32m    109\u001b[0m                              )\n\u001b[1;32m    110\u001b[0m \u001b[0;34m\u001b[0m\u001b[0m\n",
      "\u001b[0;32m~/WorkingFolder/study-daetools/venv/lib/python3.6/site-packages/daetools-1.8.1-py3.6-macosx-10.9-x86_64.egg/daetools/dae_simulator/activity.py\u001b[0m in \u001b[0;36msimulate\u001b[0;34m(simulation, log, datareporter, daesolver, lasolver, computeStackEvaluator, timeHorizon, reportingTimes, reportingInterval, reportAllVariables, reportTimeDerivatives, reportSensitivities, calculateSensitivities, relativeTolerance, saveModelReport, saveRuntimeModelReport, stopAtModelDiscontinuity, reportDataAroundDiscontinuities, lasolver_setoptions_fn, daesolver_setoptions_fn, guiRun, qtApp, generate_code_fn, run_after_simulation_init_fn, run_before_simulation_fn, run_after_simulation_fn, initializeAndReturn, **kwargs)\u001b[0m\n\u001b[1;32m    143\u001b[0m \u001b[0;34m\u001b[0m\u001b[0m\n\u001b[1;32m    144\u001b[0m             \u001b[0;31m# Solve at time=0 (initialization)\u001b[0m\u001b[0;34m\u001b[0m\u001b[0;34m\u001b[0m\u001b[0;34m\u001b[0m\u001b[0m\n\u001b[0;32m--> 145\u001b[0;31m             \u001b[0msimulation\u001b[0m\u001b[0;34m.\u001b[0m\u001b[0mSolveInitial\u001b[0m\u001b[0;34m(\u001b[0m\u001b[0;34m)\u001b[0m\u001b[0;34m\u001b[0m\u001b[0;34m\u001b[0m\u001b[0m\n\u001b[0m\u001b[1;32m    146\u001b[0m \u001b[0;34m\u001b[0m\u001b[0m\n\u001b[1;32m    147\u001b[0m             \u001b[0;32mif\u001b[0m \u001b[0mrun_before_simulation_fn\u001b[0m\u001b[0;34m:\u001b[0m\u001b[0;34m\u001b[0m\u001b[0;34m\u001b[0m\u001b[0m\n",
      "\u001b[0;31mRuntimeError\u001b[0m: Miscellanous exception in function: SolveInitial, source file: ida_solver.cpp, line: 801\nSundials IDAS solver cowardly failed to calculate initial conditions at TIME = 0; IDA_LINESEARCH_FAIL\nIDAS solver error in module 'IDAS' in function 'IDACalcIC': The linesearch algorithm failed: step too small or too many backtracks. [IDA_LINESEARCH_FAIL]"
     ]
    }
   ],
   "source": [
    "data4 = data2.copy()\n",
    "data4[\"condenser\"][\"states\"]['stnFouling'] = \"Dynamic\"\n",
    "data4[\"node_A\"][\"module\"]=\"models.pumped_source\"\n",
    "data4[\"node_A\"][\"class\"]=\"PumpedSource\"\n",
    "data4[\"node_A\"][\"specifications\"]={}\n",
    "data4[\"node_A\"][\"parameters\"][\"a0\"]=c[0]\n",
    "data4[\"node_A\"][\"parameters\"][\"a1\"]=c[1]\n",
    "data4[\"node_A\"][\"parameters\"][\"a2\"]=c[2]\n",
    "data4[\"node_A\"][\"parameters\"][\"Pext\"]=PA\n",
    "data4[\"node_A\"][\"initial_guess\"][\"P\"]=PA\n",
    "\n",
    "\n",
    "with open(\"{}_{}_pumped.json\".format(filename, suffix), 'w') as outfile:\n",
    "    json.dump(data4, outfile, indent=4)\n",
    "simulate.main(\n",
    "    name=filename,\n",
    "    input=\"{}_{}_pumped.json\".format(filename, suffix),\n",
    "    output=\"{}_{}_pumped.out.json\".format(filename, suffix),\n",
    "    initial_condition=\"{}_{}.out.json\".format(filename, suffix),\n",
    "    init=\"{}_{}.out.json.init\".format(filename, suffix),\n",
    "    reporting_interval=10*24*3600,\n",
    "    time_horizon=1000*24*3600,\n",
    "    relative_tolerance=1e-3,\n",
    "    MaxStep=10*24*3600,\n",
    "    MaxNumSteps=100,\n",
    ")\n",
    "with open(\"{}_{}_pumped.out.json\".format(filename, suffix)) as f:\n",
    "    json_data=f.read()\n",
    "output = json.loads(json_data)"
   ]
  },
  {
   "cell_type": "code",
   "execution_count": null,
   "metadata": {},
   "outputs": [],
   "source": []
  }
 ],
 "metadata": {
  "kernelspec": {
   "display_name": "Python 3",
   "language": "python",
   "name": "python3"
  },
  "language_info": {
   "codemirror_mode": {
    "name": "ipython",
    "version": 3
   },
   "file_extension": ".py",
   "mimetype": "text/x-python",
   "name": "python",
   "nbconvert_exporter": "python",
   "pygments_lexer": "ipython3",
   "version": "3.6.8"
  },
  "varInspector": {
   "cols": {
    "lenName": 16,
    "lenType": 16,
    "lenVar": 40
   },
   "kernels_config": {
    "python": {
     "delete_cmd_postfix": "",
     "delete_cmd_prefix": "del ",
     "library": "var_list.py",
     "varRefreshCmd": "print(var_dic_list())"
    },
    "r": {
     "delete_cmd_postfix": ") ",
     "delete_cmd_prefix": "rm(",
     "library": "var_list.r",
     "varRefreshCmd": "cat(var_dic_list()) "
    }
   },
   "types_to_exclude": [
    "module",
    "function",
    "builtin_function_or_method",
    "instance",
    "_Feature"
   ],
   "window_display": false
  }
 },
 "nbformat": 4,
 "nbformat_minor": 2
}
