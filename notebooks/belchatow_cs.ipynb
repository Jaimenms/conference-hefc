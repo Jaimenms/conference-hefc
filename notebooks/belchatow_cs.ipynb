{
 "cells": [
  {
   "cell_type": "markdown",
   "metadata": {},
   "source": [
    "# Belchatow Case - Clean Startup"
   ]
  },
  {
   "cell_type": "markdown",
   "metadata": {
    "ExecuteTime": {
     "end_time": "2021-02-02T22:51:48.294510Z",
     "start_time": "2021-02-02T22:51:48.291780Z"
    }
   },
   "source": [
    "#### Packages"
   ]
  },
  {
   "cell_type": "code",
   "execution_count": 1,
   "metadata": {
    "ExecuteTime": {
     "end_time": "2021-02-15T18:07:10.254509Z",
     "start_time": "2021-02-15T18:07:09.759545Z"
    },
    "code_folding": []
   },
   "outputs": [],
   "source": [
    "import json\n",
    "from math import pi, ceil, sin, floor\n",
    "from scipy.optimize import root\n",
    "import numpy as np\n",
    "import os.path\n",
    "import sys\n",
    "sys.path.append(\"../\")\n",
    "import simulate\n",
    "from scipy.optimize import curve_fit\n",
    "\n",
    "from water_properties import density, viscosity, conductivity, heat_capacity\n",
    "from water_at_saturation_properties import saturation_temperature, vapour_density, vapour_total_compressibility,vaporization_enthalpy\n",
    "\n",
    "from simplified_simulation import *"
   ]
  },
  {
   "cell_type": "markdown",
   "metadata": {},
   "source": [
    "## Inputs e parameters"
   ]
  },
  {
   "cell_type": "code",
   "execution_count": 2,
   "metadata": {
    "ExecuteTime": {
     "end_time": "2021-02-15T18:07:11.453059Z",
     "start_time": "2021-02-15T18:07:11.450619Z"
    }
   },
   "outputs": [],
   "source": [
    "filename = \"belchatow\"\n",
    "suffix = \"cs\" #clean startup"
   ]
  },
  {
   "cell_type": "markdown",
   "metadata": {},
   "source": [
    "#### Constants"
   ]
  },
  {
   "cell_type": "code",
   "execution_count": 3,
   "metadata": {
    "ExecuteTime": {
     "end_time": "2021-02-15T18:07:12.831962Z",
     "start_time": "2021-02-15T18:07:12.829372Z"
    }
   },
   "outputs": [],
   "source": [
    "g = 9.80665 # m/s2 - gravitational acceleration\n",
    "pi = pi # pi"
   ]
  },
  {
   "cell_type": "markdown",
   "metadata": {},
   "source": [
    "#### Water Inlet"
   ]
  },
  {
   "cell_type": "code",
   "execution_count": 4,
   "metadata": {
    "ExecuteTime": {
     "end_time": "2021-02-15T18:07:13.783178Z",
     "start_time": "2021-02-15T18:07:13.780364Z"
    }
   },
   "outputs": [],
   "source": [
    "m = 2448 # kg/s cooling Water\n",
    "Tin = 22.4 + 273.15 # K\n",
    "Pin = 200000 # Pa"
   ]
  },
  {
   "cell_type": "markdown",
   "metadata": {},
   "source": [
    "#### Pipe Information"
   ]
  },
  {
   "cell_type": "code",
   "execution_count": 5,
   "metadata": {
    "ExecuteTime": {
     "end_time": "2021-02-15T18:07:14.785015Z",
     "start_time": "2021-02-15T18:07:14.780313Z"
    }
   },
   "outputs": [
    {
     "name": "stdout",
     "output_type": "stream",
     "text": [
      "Pipe diameter is 0.790516585330527 m \n",
      "Pipe lenght is 50 m \n"
     ]
    }
   ],
   "source": [
    "v_pipe = 5.0 # m/s\n",
    "L_pipe = 50 # m\n",
    "water_density=density(Tin, Pin, simplified = True)\n",
    "water_viscosity = viscosity(Tin, Pin, simplified = True)\n",
    "D_pipe = 2 * (m / (pi * water_density * v_pipe )) ** 0.5\n",
    "print(\"Pipe diameter is {} m \".format(D_pipe))\n",
    "print(\"Pipe lenght is {} m \".format(L_pipe))"
   ]
  },
  {
   "cell_type": "markdown",
   "metadata": {},
   "source": [
    "#### Heat Exchanger Information"
   ]
  },
  {
   "cell_type": "code",
   "execution_count": 6,
   "metadata": {
    "ExecuteTime": {
     "end_time": "2021-02-15T18:07:15.962634Z",
     "start_time": "2021-02-15T18:07:15.956733Z"
    }
   },
   "outputs": [
    {
     "name": "stdout",
     "output_type": "stream",
     "text": [
      "Number of tubes per row are  214.66666666666666\n",
      "Number of rows is 15\n",
      "Number of tubes is 3220\n"
     ]
    }
   ],
   "source": [
    "Do = 0.024 # m external diameter\n",
    "Di = Do - 2*0.001 # m external diameter\n",
    "n_tubes = 3220\n",
    "arrange = \"triangle\"\n",
    "#arrange = \"square\"\n",
    "\n",
    "L = 9.94 # m tube length\n",
    "W = 1.8 # m bundle width\n",
    "ep = 5e-6 # m - roughness\n",
    "kwall = 16 # W / ( m * K )\n",
    "pitch = 0.0333 # m\n",
    "Rows = 15\n",
    "row_pitch = pitch\n",
    "tubes_per_width = n_tubes/Rows\n",
    "\n",
    "ResF= 0 # K/W\n",
    "ResF_to_film= 0 # K/W ###############CLEAN\n",
    "\n",
    "Vext = L * W ** 2 # shell volume in m3\n",
    "\n",
    "print(\"Number of tubes per row are \", tubes_per_width)\n",
    "print(\"Number of rows is {number:.{digits}f}\".format(number=Rows,digits=0))\n",
    "print(\"Number of tubes is {number:.{digits}f}\".format(number=Rows*tubes_per_width,digits=0))"
   ]
  },
  {
   "cell_type": "code",
   "execution_count": 7,
   "metadata": {
    "ExecuteTime": {
     "end_time": "2021-02-15T18:07:16.695325Z",
     "start_time": "2021-02-15T18:07:16.690536Z"
    }
   },
   "outputs": [],
   "source": [
    "N_wetters = []\n",
    "row_index = np.linspace(1,Rows,num=Rows)\n",
    "for i in row_index:\n",
    "    if arrange == \"triangle\":\n",
    "        N_wetters.append(ceil(i/2)-1)\n",
    "    else:\n",
    "        N_wetters = row_index-1\n",
    "N_wetters = np.array(N_wetters)\n",
    "fNtub = ((N_wetters+1) ** (5/6) - N_wetters ** (5/6))"
   ]
  },
  {
   "cell_type": "code",
   "execution_count": 8,
   "metadata": {
    "ExecuteTime": {
     "end_time": "2021-02-15T18:07:17.294563Z",
     "start_time": "2021-02-15T18:07:17.287714Z"
    }
   },
   "outputs": [
    {
     "name": "stdout",
     "output_type": "stream",
     "text": [
      "Wall internal diameter is 0.0220\n",
      "Fouling internal diameter is 0.021999\n",
      "Fouling thickness is 0.37 um\n",
      "Fouling deposit mass is 0.001000 kg/m2\n",
      "Rf is 0.000000 \n"
     ]
    }
   ],
   "source": [
    "# Fouling\n",
    "Alc=300\n",
    "pH=10.5\n",
    "Ca=49.42\n",
    "\n",
    "kf = 2.19 # W / ( m * K ) (Calcium carbonate)\n",
    "rhof = 2.71e3 # kg/m3\n",
    "\n",
    "mf = 0.001\n",
    "\n",
    "Df = (Di ** 2 - 4 * mf * Di / rhof) ** 0.5\n",
    "\n",
    "lf = 1e6*(Di-Df)/2  # um fouling thickness\n",
    "\n",
    "Rf = Di * np.log(Di / Df ) / (2 * kf)\n",
    "\n",
    "print(\"Wall internal diameter is {number:.{digits}f}\".format(number=Di,digits=4))\n",
    "print(\"Fouling internal diameter is {number:.{digits}f}\".format(number=Df,digits=6))\n",
    "print(\"Fouling thickness is {number:.{digits}f} um\".format(number=1e6*(Di-Df)/2,digits=2))\n",
    "print(\"Fouling deposit mass is {number:.{digits}f} kg/m2\".format(number=mf,digits=6))\n",
    "print(\"Rf is {number:.{digits}f} \".format(number=Rf,digits=6))\n"
   ]
  },
  {
   "cell_type": "markdown",
   "metadata": {
    "ExecuteTime": {
     "end_time": "2021-02-02T22:58:14.160605Z",
     "start_time": "2021-02-02T22:58:14.157780Z"
    }
   },
   "source": [
    "#### Operational Conditions"
   ]
  },
  {
   "cell_type": "code",
   "execution_count": 9,
   "metadata": {
    "ExecuteTime": {
     "end_time": "2021-02-15T18:07:18.498900Z",
     "start_time": "2021-02-15T18:07:18.495289Z"
    }
   },
   "outputs": [],
   "source": [
    "# Expected\n",
    "Tout_mean_expected = 30.2 + 273.15\n",
    "Pvap_expected = 6615# Pa\n",
    "Tvap_expected = 37.96 + 273.15\n",
    "Pout_expected = 177000\n",
    "Pout = 177000 # Pa\n",
    "Tout = Tout_mean_expected * np.ones(Rows) # K\n",
    "kvap_expected=33.13"
   ]
  },
  {
   "cell_type": "code",
   "execution_count": 10,
   "metadata": {
    "ExecuteTime": {
     "end_time": "2021-02-15T18:07:19.263603Z",
     "start_time": "2021-02-15T18:07:19.255626Z"
    }
   },
   "outputs": [
    {
     "name": "stdout",
     "output_type": "stream",
     "text": [
      "Expected heat duty to 79.86 MW.\n",
      "Expected steam mass flowrate 33.12 kg/s.\n",
      "The exhaust steam density is equal to 0.04583 kg/m3.\n",
      "The exhaust steam vaporization heat is equal to 2410867 J/kg.\n"
     ]
    }
   ],
   "source": [
    "Tm_expected = 0.5 * (Tin + Tout_mean_expected) # K - mean cooling water temperature\n",
    "Pm_expected = 0.5 * (Pin + Pout) # Pa - mean cooling water pressure\n",
    "water_heat_capacity = heat_capacity(Tm_expected, Pm_expected, simplified = True)\n",
    "\n",
    "exhaust_steam_density = vapour_density(Pvap_expected, simplified = True)\n",
    "exhaust_vaporization_heat = vaporization_enthalpy(Pvap_expected, simplified = True)\n",
    "\n",
    "Q_expected = water_heat_capacity * m * (Tout_mean_expected - Tin)\n",
    "kvap_expected = Q_expected/exhaust_vaporization_heat\n",
    "\n",
    "\n",
    "print(\"Expected heat duty to {number:.{digits}f} MW.\".format(number=Q_expected*1e-6, digits=2))\n",
    "print(\"Expected steam mass flowrate {number:.{digits}f} kg/s.\".format(number=kvap_expected, digits=2))\n",
    "print(\"The exhaust steam density is equal to {number:.{digits}f} kg/m3.\"\\\n",
    "      .format(number=exhaust_steam_density, digits=5))\n",
    "print(\"The exhaust steam vaporization heat is equal to {number:.{digits}f} J/kg.\"\\\n",
    "      .format(number=exhaust_vaporization_heat, digits=0))\n",
    "#vaporization_enthalpy(Pvap, simplified=True)\n",
    "#print(Pvap, exhaust_vaporization_heat, vaporization_enthalpy(Pvap, simplified=True))"
   ]
  },
  {
   "cell_type": "markdown",
   "metadata": {},
   "source": [
    "#### Simulation specification"
   ]
  },
  {
   "cell_type": "code",
   "execution_count": 11,
   "metadata": {
    "ExecuteTime": {
     "end_time": "2021-02-15T18:07:20.675677Z",
     "start_time": "2021-02-15T18:07:20.672584Z"
    }
   },
   "outputs": [],
   "source": [
    "# Set\n",
    "Pvap = 6740 # Pa\n",
    "Tvap = saturation_temperature(Pvap, simplified = True)\n",
    "#print(Pvap, Tvap, saturation_temperature(Pvap, simplified=True))"
   ]
  },
  {
   "cell_type": "markdown",
   "metadata": {},
   "source": [
    "## Simplified model"
   ]
  },
  {
   "cell_type": "code",
   "execution_count": 12,
   "metadata": {
    "ExecuteTime": {
     "end_time": "2021-02-15T18:07:22.139618Z",
     "start_time": "2021-02-15T18:07:22.132053Z"
    }
   },
   "outputs": [],
   "source": [
    "Tout = Tout_mean_expected * np.ones(Rows) # K\n",
    "Tf_in = 1*Tin + 0*Tout + 0*Tvap\n",
    "Tf_out = 0*Tin + 1*Tout + 0*Tvap\n",
    "Ti_in = 1*Tin + 0*Tout + 0*Tvap\n",
    "Ti_out = 0*Tin + 1*Tout + 0*Tvap\n",
    "To_in = 0.5*Tin + 0*Tout + 0.5*Tvap\n",
    "To_out = 0*Tin + 0.5*Tout + 0.5*Tvap\n",
    "m_tube = 0*Tout + m/n_tubes\n",
    "x0 = [Pout_expected]\n",
    "\n",
    "for i in range(0, Rows):\n",
    "     x0 +=[Tout[i], Tf_in[i], Tf_out[i], Ti_in[i], Ti_out[i], To_in[i], To_out[i], m_tube[i]]"
   ]
  },
  {
   "cell_type": "code",
   "execution_count": 13,
   "metadata": {
    "ExecuteTime": {
     "end_time": "2021-02-15T18:07:23.254920Z",
     "start_time": "2021-02-15T18:07:22.752276Z"
    }
   },
   "outputs": [
    {
     "name": "stdout",
     "output_type": "stream",
     "text": [
      "\n",
      " -- ROW 0 --\n",
      "Restotal is 0.000355 W/(K)\n",
      "The row external convection coefficient is 13092.89 W/(K*m2)\n",
      "The row internal convection coefficient is 8786.96 W/(K*m2)\n",
      "The last row calculated internal resistance x length is 0.000166 K/W\n",
      "The last row calculated external resistance x length is 0.000102 K/W\n",
      "LMTD is 10.55 K\n",
      "The heat rate per tube is 29732.81 W\n",
      "U*A per tube is 2817.78 W/K\n",
      "Reswall is 0.000087 K/W\n",
      "Resint is 0.000166 K/W\n",
      "Resext is 0.000102 K/W\n",
      "Tf is 305.46 K\n",
      "Ti is 305.47 K\n",
      "To is 308.23 K\n",
      "Tvap is 311.45 K\n",
      "Cooling water inlet temperature is 295.55 K\n",
      "Cooling water outlet temperature is 304.89 W/K\n",
      "Water mean velocity is 2.01 m/s.\n",
      "Inlet Pressure is 200000.00 Pa.\n",
      "Outlet Pressure :  180314.28551459237\n",
      "Tube mass flowrate (kg/s) :  0.7610232303977794\n",
      "ResFouling (K/W) :  2.4526875440945965e-07\n",
      "dmfdt (kg/m2day) :  2.3571427396436622e-08\n",
      "\n",
      " -- ROW 14 --\n",
      "Restotal is 0.000448 W/(K)\n",
      "The row external convection coefficient is 6894.87 W/(K*m2)\n",
      "The row internal convection coefficient is 8704.67 W/(K*m2)\n",
      "The last row calculated internal resistance x length is 0.000167 K/W\n",
      "The last row calculated external resistance x length is 0.000194 K/W\n",
      "LMTD is 11.43 K\n",
      "The heat rate per tube is 25499.87 W\n",
      "U*A per tube is 2231.82 W/K\n",
      "Reswall is 0.000087 K/W\n",
      "Resint is 0.000167 K/W\n",
      "Resext is 0.000194 K/W\n",
      "Tf is 304.00 K\n",
      "Ti is 304.01 K\n",
      "To is 306.32 K\n",
      "Tvap is 311.45 K\n",
      "Cooling water inlet temperature is 295.55 K\n",
      "Cooling water outlet temperature is 303.57 W/K\n",
      "Water mean velocity is 2.01 m/s.\n",
      "Inlet Pressure is 200000.00 Pa.\n",
      "Outlet Pressure :  180314.28551459237\n",
      "Tube mass flowrate (kg/s) :  0.7598404781683128\n",
      "ResFouling (K/W) :  2.4526875440945965e-07\n",
      "dmfdt (kg/m2day) :  2.3167306545584052e-08\n"
     ]
    }
   ],
   "source": [
    "args = (m, Tvap, Tin, Pin, Pvap, fNtub, Rows, tubes_per_width, kf, kwall, ep, L, Df, Do, Di, Ca, Alc, pH)\n",
    "        \n",
    "x = solve(x0, *args)\n",
    "\n",
    "results = calculate_results(x,*args)"
   ]
  },
  {
   "cell_type": "code",
   "execution_count": 14,
   "metadata": {
    "ExecuteTime": {
     "end_time": "2021-02-15T18:07:27.512197Z",
     "start_time": "2021-02-15T18:07:27.504078Z"
    }
   },
   "outputs": [
    {
     "name": "stdout",
     "output_type": "stream",
     "text": [
      "The total steam flowrate is 36.02 kg/s\n",
      "The total heat load of condensation is 86.81 MW\n",
      "Cooling Water outlet temp deviation is 2.25 %\n",
      "Steam flowrate deviation is 8.73 %\n"
     ]
    }
   ],
   "source": [
    "# Calculating final results\n",
    "Q_total = 0\n",
    "kvap_calc = 0\n",
    "Tout_mean = 0\n",
    "Pout_mean = Pout\n",
    "m_tube_aux = 0\n",
    "for i in range(0, Rows):\n",
    "    Q_total += results[i][\"Q\"]*tubes_per_width\n",
    "    kvap_calc += results[i][\"kvap\"]\n",
    "    Tout_mean += results[i][\"Tout\"]*results[i][\"m_tube\"]\n",
    "    m_tube_aux += results[i][\"m_tube\"]\n",
    "Tout_mean = Tout_mean/m_tube_aux\n",
    "    \n",
    "print(\"The total steam flowrate is {number:.{digits}f} kg/s\".format(number=kvap_calc, digits=2))\n",
    "print(\"The total heat load of condensation is {number:.{digits}f} MW\".format(number=1e-6*Q_total, digits=2))\n",
    "print(\"Cooling Water outlet temp deviation is {number:.{digits}f} %\".format(number=(Tout_mean-Tout_mean_expected)/(Tout_mean_expected-273.15)*100,digits=2))\n",
    "print(\"Steam flowrate deviation is {number:.{digits}f} %\".format(number=(kvap_calc-kvap_expected)/(kvap_expected)*100,digits=2))"
   ]
  },
  {
   "cell_type": "markdown",
   "metadata": {
    "ExecuteTime": {
     "end_time": "2021-02-03T23:27:46.228526Z",
     "start_time": "2021-02-03T23:27:46.225902Z"
    }
   },
   "source": [
    "## Daetools Simulations "
   ]
  },
  {
   "cell_type": "code",
   "execution_count": 15,
   "metadata": {
    "ExecuteTime": {
     "end_time": "2021-02-15T18:07:28.804112Z",
     "start_time": "2021-02-15T18:07:28.801368Z"
    }
   },
   "outputs": [],
   "source": [
    "Nelements = 10\n",
    "Nelements_pipe = 5"
   ]
  },
  {
   "cell_type": "code",
   "execution_count": 16,
   "metadata": {
    "ExecuteTime": {
     "end_time": "2021-02-15T18:07:29.474738Z",
     "start_time": "2021-02-15T18:07:29.470579Z"
    }
   },
   "outputs": [],
   "source": [
    "def prepare_initial_estimate(results, key1, key2):\n",
    "    return np.array([list(np.linspace(result[key1], result[key2], Nelements)) for result in results]).T.tolist()"
   ]
  },
  {
   "cell_type": "markdown",
   "metadata": {},
   "source": [
    "#### Initial estimate for Steady State"
   ]
  },
  {
   "cell_type": "code",
   "execution_count": 17,
   "metadata": {
    "ExecuteTime": {
     "end_time": "2021-02-15T18:07:33.918787Z",
     "start_time": "2021-02-15T18:07:30.437934Z"
    }
   },
   "outputs": [
    {
     "name": "stdout",
     "output_type": "stream",
     "text": [
      "Creating the system...        \n",
      "The system created successfully.\n",
      " 0.00% ETA: [00.0s]Starting the initialization of the system... Done.\n",
      " 0.00% ETA: [00.0s]Saving Initialization Values\n",
      "Integrating from [0] to [1] ...\n",
      " 0.00% ETA: [00.0s]                              \n",
      " 100.00% ETA: [00.0s]The simulation has finished successfully!\n",
      " 100.00% ETA: [00.0s]                              \n",
      " 100.00% ETA: [00.0s]--------------------------------------------------------------\n",
      " 100.00% ETA: [00.0s]                             Time (s)   Rel.time (%)    Count\n",
      " 100.00% ETA: [00.0s]--------------------------------------------------------------\n",
      " 100.00% ETA: [00.0s]Simulation:                   \n",
      " 100.00% ETA: [00.0s]  Initialization                0.834              -        -\n",
      " 100.00% ETA: [00.0s]  Solve initial                 0.805          31.97        -\n",
      " 100.00% ETA: [00.0s]  Integration                   1.712          68.03        -\n",
      " 100.00% ETA: [00.0s]  Integ. + solve init.          2.517         100.00        -\n",
      " 100.00% ETA: [00.0s]  Lin.sol. + Resid.             0.081           3.20        -\n",
      " 100.00% ETA: [00.0s]  ------------------------------------------------------------\n",
      " 100.00% ETA: [00.0s]  Total                         3.351              -        -\n",
      " 100.00% ETA: [00.0s]--------------------------------------------------------------\n",
      " 100.00% ETA: [00.0s]DAE solver [Sundials IDAS]:   \n",
      " 100.00% ETA: [00.0s]  Steps                             -              -       11\n",
      " 100.00% ETA: [00.0s]  Error test fails                  -              -        0\n",
      " 100.00% ETA: [00.0s]  Residuals (DAE)                   -              -       24\n",
      " 100.00% ETA: [00.0s]  Residuals (total)             0.081           3.20       24\n",
      " 100.00% ETA: [00.0s]--------------------------------------------------------------\n",
      " 100.00% ETA: [00.0s]Non-linear solver [Sundials modified Newton]:\n",
      " 100.00% ETA: [00.0s]  Iterations                        -              -       22\n",
      " 100.00% ETA: [00.0s]  Conv. fails                       -              -        0\n",
      " 100.00% ETA: [00.0s]--------------------------------------------------------------\n",
      " 100.00% ETA: [00.0s]Linear solver [Sundials LU]:  \n",
      " 100.00% ETA: [00.0s]  Setup                         0.000           0.00        0\n",
      " 100.00% ETA: [00.0s]  Jacobian                      0.304          12.10       12\n",
      " 100.00% ETA: [00.0s]  Solve                         0.000           0.00        0\n",
      " 100.00% ETA: [00.0s]  Total LA                      0.000           0.00        -\n",
      " 100.00% ETA: [00.0s]--------------------------------------------------------------\n",
      " 100.00% ETA: [00.0s]Number of equations 2153\n"
     ]
    }
   ],
   "source": [
    "data1 = {\n",
    "\n",
    "    \"node_B\": {\n",
    "        \"kind\": \"node\",\n",
    "        \"module\": \"models.source\",\n",
    "        \"class\": \"Source\",\n",
    "        \"steady_state\": True,\n",
    "        \"specifications\": {\n",
    "            \"w\": m,\n",
    "        },\n",
    "        \"parameters\": {\n",
    "            \"Text\": Tin,\n",
    "            \"Pext\": Pin,\n",
    "            \"x\": 0.0,\n",
    "            \"y\": 0.0,\n",
    "            \"z\": 0.0\n",
    "        },\n",
    "        \"initial_guess\": {\n",
    "            \"w\": m,\n",
    "            \"P\": Pin,\n",
    "            \"T\": Tin\n",
    "        }\n",
    "    },   \n",
    "    \n",
    "        \"condenser\": {\n",
    "        \"kind\": \"edge\",\n",
    "\n",
    "        \"module\": \"models.carbfilmed_fixed_external_temperature_tube_arrange\",\n",
    "        \"class\": \"CarbfilmedFixedExternalTemperatureTubeArrange\",\n",
    "\n",
    "        #\"module\": \"models.tube_arrange\",\n",
    "        #\"class\": \"TubeArrange\",\n",
    "\n",
    "        \"from\": \"node_B\",\n",
    "        \"to\": \"node_C\",\n",
    "        \"domains\": {\n",
    "            \"x\": {\n",
    "                \"initial\": 0.0,\n",
    "                \"final\": 1.0,\n",
    "                \"N\": Nelements\n",
    "            },\n",
    "            \"y\": {\n",
    "                \"N\": Rows\n",
    "            },\n",
    "\n",
    "        },\n",
    "        \"states\": {\n",
    "            'stnFouling': \"Static\",\n",
    "        },\n",
    "        \"parameters\": {\n",
    "            \"Di\": Di,\n",
    "            \"tetha\": 0.0,\n",
    "            \"L\": L,\n",
    "            \"epw\": ep,\n",
    "            \"Klb\": 0.0,\n",
    "            \"Kub\": 0.0,\n",
    "            \"Npipes\": n_tubes/Rows,\n",
    "            \"kwall\": kwall,\n",
    "            \"Do\": Do,\n",
    "            \"ResF\": 0.0,\n",
    "            \"mfi\": mf,\n",
    "            \"Alc\": Alc,\n",
    "            \"pH\": pH,\n",
    "            \"Ca\": Ca,\n",
    "\n",
    "\n",
    "\n",
    "        },\n",
    "        \"steady_state\": True,\n",
    "        \"specifications\": {\n",
    "            \"To\": prepare_initial_estimate(results, \"To_in\", \"To_out\"),\n",
    "        },\n",
    "        \"initial_guess\": {\n",
    "            \"D\": Df,\n",
    "            \"v\": prepare_initial_estimate(results, \"v\", \"v\"),\n",
    "            \"k\": prepare_initial_estimate(results, \"m_tube\", \"m_tube\"),\n",
    "            \"T\": prepare_initial_estimate(results, \"Tin\", \"Tout\"),\n",
    "            \"P\": prepare_initial_estimate(results, \"Pin\", \"Pout\"),\n",
    "            \"hint\": prepare_initial_estimate(results, \"hint\", \"hint\"),\n",
    "            \"Ti\": prepare_initial_estimate(results, \"Ti_in\", \"Ti_out\"),\n",
    "            \"mf\": mf,\n",
    "            \"Rf\": Rf,\n",
    "            \"phid\": prepare_initial_estimate(results, \"phid\", \"phid\"),\n",
    "            \"phir\": prepare_initial_estimate(results, \"phir\", \"phir\"),\n",
    "        }\n",
    "    },\n",
    "    \n",
    "        \"node_C\": {\n",
    "        \"kind\": \"node\",\n",
    "        \"module\": \"models.sink\",\n",
    "        \"class\": \"Sink\",\n",
    "        \"steady_state\": True,\n",
    "        \"specifications\": {\n",
    "            \"P\": Pout,\n",
    "        },\n",
    "        \"parameters\": {\n",
    "            \"Text\": Tout_mean,\n",
    "            \"Pext\": Pout,\n",
    "            \"x\": 0.0,\n",
    "            \"y\": 0.0,\n",
    "            \"z\": 0.0\n",
    "        },\n",
    "        \"initial_guess\": {\n",
    "            \"w\": m,\n",
    "            \"P\": Pout,\n",
    "            \"T\": Tout_mean\n",
    "\n",
    "        }\n",
    "    }, \n",
    "    \n",
    "}\n",
    "\n",
    "with open(\"{}_{}_pre.json\".format(filename, suffix), 'w') as outfile:\n",
    "    json.dump(data1, outfile, indent=4)\n",
    "    \n",
    "simulate.main(\n",
    "    name=filename,\n",
    "    input=\"{}_{}_pre.json\".format(filename, suffix),\n",
    "    output=\"{}_{}_pre.out.json\".format(filename, suffix),\n",
    "    reporting_interval=1,\n",
    "    time_horizon=1,\n",
    "    relative_tolerance=1e-1,\n",
    "    MaxStep=1,\n",
    "    MaxNumSteps=1000000,\n",
    ")"
   ]
  },
  {
   "cell_type": "code",
   "execution_count": null,
   "metadata": {},
   "outputs": [],
   "source": []
  },
  {
   "cell_type": "code",
   "execution_count": 18,
   "metadata": {
    "ExecuteTime": {
     "end_time": "2021-02-15T18:07:33.991295Z",
     "start_time": "2021-02-15T18:07:33.955252Z"
    }
   },
   "outputs": [],
   "source": [
    "data2 = {\n",
    "    \n",
    "    \"node_B\": {\n",
    "        \"kind\": \"node\",\n",
    "        \"module\": \"models.source\",\n",
    "        \"class\": \"Source\",\n",
    "        \"steady_state\": True,\n",
    "        \"specifications\": {\n",
    "            \"w\": m,\n",
    "        },\n",
    "        \"parameters\": {\n",
    "            \"Text\": Tin,\n",
    "            \"Pext\": Pin,\n",
    "            \"x\": 0.0,\n",
    "            \"y\": 0.0,\n",
    "            \"z\": 0.0\n",
    "        },\n",
    "        \"initial_guess\": {\n",
    "            \"w\": m,\n",
    "            \"P\": Pin,\n",
    "            \"T\": Tin\n",
    "        }\n",
    "    },   \n",
    "    \n",
    "        \"condenser\": {\n",
    "        \"kind\": \"edge\",\n",
    "\n",
    "        \"module\": \"models.carbfilmed_external_film_cond_tube_arrange\",\n",
    "        \"class\": \"CarbfilmedExternalFilmCondensationTubeArrange\",\n",
    "\n",
    "        \"from\": \"node_B\",\n",
    "        \"to\": \"node_C\",\n",
    "        \"domains\": {\n",
    "            \"x\": {\n",
    "                \"initial\": 0.0,\n",
    "                \"final\": 1.0,\n",
    "                \"N\": Nelements\n",
    "            },\n",
    "            \"y\": {\n",
    "                \"N\": Rows\n",
    "            },\n",
    "\n",
    "        },\n",
    "        \"states\": {\n",
    "            'stnRegulator': 'Closed',\n",
    "            'stnShellPressure': 'Variable',\n",
    "            'stnFouling': \"Static\",\n",
    "        },\n",
    "\n",
    "        \"parameters\": {\n",
    "            \"Di\": Di,\n",
    "            \"tetha\": 0.0,\n",
    "            \"L\": L,\n",
    "            \"epw\": ep,\n",
    "            \"Klb\": 0.0,\n",
    "            \"Kub\": 0.0,\n",
    "            \"Npipes\": n_tubes/Rows,\n",
    "            \"kwall\": kwall,\n",
    "            \"Do\": Do,\n",
    "            \"PextH\": 100000,\n",
    "            \"PextSP\": -1,\n",
    "            \"Pext0\": Pvap,\n",
    "            \"Vext\": Vext,\n",
    "            \"kvap\": kvap_calc,\n",
    "            \"fNtub\": list(fNtub),\n",
    "            \"ResF\": 0.0,\n",
    "            \"mfi\": mf,\n",
    "            \"Alc\": Alc,\n",
    "            \"pH\": pH,\n",
    "            \"Ca\": Ca,\n",
    "        },\n",
    "        \"steady_state\": True,\n",
    "        \"specifications\": {\n",
    "            #\"kcond\": 0.0,\n",
    "            #\"Pext\": Pvap,\n",
    "            #\"Text\": Tvap,\n",
    "            #\"wext\": 0.0,\n",
    "            #\"To\": prepare_initial_estimate(results, \"To_in\", \"To_out\"),\n",
    "        },\n",
    "        \"initial_guess\": {\n",
    "            \"D\": Df,\n",
    "            \"v\": prepare_initial_estimate(results, \"v\", \"v\"),\n",
    "            \"k\": prepare_initial_estimate(results, \"m_tube\", \"m_tube\"),\n",
    "            \"T\": prepare_initial_estimate(results, \"Tin\", \"Tout\"),\n",
    "            \"P\": prepare_initial_estimate(results, \"Pin\", \"Pout\"),\n",
    "            \"hint\": prepare_initial_estimate(results, \"hint\", \"hint\"),\n",
    "            \"hext\": prepare_initial_estimate(results, \"hext\", \"hext\"),\n",
    "            \"Pext\": Pvap,\n",
    "            \"Text\": Tvap,\n",
    "            \"Ti\": prepare_initial_estimate(results, \"Ti_in\", \"Ti_out\"),\n",
    "            #\"Qout\": 0.0,\n",
    "            \"To\": prepare_initial_estimate(results, \"To_in\", \"To_out\"),\n",
    "            \"kcond\": kvap_calc,\n",
    "            #\"wext\": 0.0,\n",
    "            \"mf\": mf,\n",
    "            \"Rf\": Rf,\n",
    "            \"phid\": prepare_initial_estimate(results, \"phid\", \"phid\"),\n",
    "            \"phir\": prepare_initial_estimate(results, \"phir\", \"phir\"),\n",
    "        }\n",
    "},\n",
    "    \n",
    "        \"node_C\": {\n",
    "        \"kind\": \"node\",\n",
    "        \"module\": \"models.sink\",\n",
    "        \"class\": \"Sink\",\n",
    "        \"steady_state\": True,\n",
    "        \"specifications\": {\n",
    "            \"P\": Pout,\n",
    "        },\n",
    "        \"parameters\": {\n",
    "            \"Text\": Tout_mean,\n",
    "            \"Pext\": Pout,\n",
    "            \"x\": 0.0,\n",
    "            \"y\": 0.0,\n",
    "            \"z\": 0.0\n",
    "        },\n",
    "        \"initial_guess\": {\n",
    "            \"w\": m,\n",
    "            \"P\": Pout,\n",
    "            \"T\": Tout_mean\n",
    "\n",
    "        }\n",
    "    }    \n",
    "}\n",
    "\n",
    "with open(\"{}_{}.json\".format(filename, suffix), 'w') as outfile:\n",
    "    json.dump(data2, outfile, indent=4)"
   ]
  },
  {
   "cell_type": "code",
   "execution_count": 19,
   "metadata": {
    "ExecuteTime": {
     "end_time": "2021-02-15T18:07:49.655459Z",
     "start_time": "2021-02-15T18:07:43.927358Z"
    }
   },
   "outputs": [
    {
     "name": "stdout",
     "output_type": "stream",
     "text": [
      "Creating the system...        \n",
      "The system created successfully.\n",
      " 0.00% ETA: [00.0s]Starting the initialization of the system... Done.\n",
      " 0.00% ETA: [00.0s]Saving Initialization Values\n",
      "Integrating from [0] to [1] ...\n",
      " 0.00% ETA: [00.0s]                              \n",
      " 100.00% ETA: [00.0s]The simulation has finished successfully!\n",
      " 100.00% ETA: [00.0s]                              \n",
      " 100.00% ETA: [00.0s]--------------------------------------------------------------\n",
      " 100.00% ETA: [00.0s]                             Time (s)   Rel.time (%)    Count\n",
      " 100.00% ETA: [00.0s]--------------------------------------------------------------\n",
      " 100.00% ETA: [00.0s]Simulation:                   \n",
      " 100.00% ETA: [00.0s]  Initialization                1.121              -        -\n",
      " 100.00% ETA: [00.0s]  Solve initial                 1.222          29.50        -\n",
      " 100.00% ETA: [00.0s]  Integration                   2.921          70.50        -\n",
      " 100.00% ETA: [00.0s]  Integ. + solve init.          4.143         100.00        -\n",
      " 100.00% ETA: [00.0s]  Lin.sol. + Resid.             0.083           2.00        -\n",
      " 100.00% ETA: [00.0s]  ------------------------------------------------------------\n",
      " 100.00% ETA: [00.0s]  Total                         5.263              -        -\n",
      " 100.00% ETA: [00.0s]--------------------------------------------------------------\n",
      " 100.00% ETA: [00.0s]DAE solver [Sundials IDAS]:   \n",
      " 100.00% ETA: [00.0s]  Steps                             -              -       11\n",
      " 100.00% ETA: [00.0s]  Error test fails                  -              -        0\n",
      " 100.00% ETA: [00.0s]  Residuals (DAE)                   -              -       27\n",
      " 100.00% ETA: [00.0s]  Residuals (total)             0.083           2.00       27\n",
      " 100.00% ETA: [00.0s]--------------------------------------------------------------\n",
      " 100.00% ETA: [00.0s]Non-linear solver [Sundials modified Newton]:\n",
      " 100.00% ETA: [00.0s]  Iterations                        -              -       25\n",
      " 100.00% ETA: [00.0s]  Conv. fails                       -              -        0\n",
      " 100.00% ETA: [00.0s]--------------------------------------------------------------\n",
      " 100.00% ETA: [00.0s]Linear solver [Sundials LU]:  \n",
      " 100.00% ETA: [00.0s]  Setup                         0.000           0.00        0\n",
      " 100.00% ETA: [00.0s]  Jacobian                      0.262           6.33       12\n",
      " 100.00% ETA: [00.0s]  Solve                         0.000           0.00        0\n",
      " 100.00% ETA: [00.0s]  Total LA                      0.000           0.00        -\n",
      " 100.00% ETA: [00.0s]--------------------------------------------------------------\n",
      " 100.00% ETA: [00.0s]Number of equations 2457\n"
     ]
    }
   ],
   "source": [
    "simulate.main(\n",
    "    name=filename,\n",
    "    input=\"{}_{}.json\".format(filename, suffix),\n",
    "    output=\"{}_{}.out.json\".format(filename, suffix),\n",
    "    initial_condition=\"{}_{}_pre.out.json\".format(filename, suffix),\n",
    "    reporting_interval=1,\n",
    "    time_horizon=1,\n",
    "    relative_tolerance=1e-3,\n",
    "    MaxStep=1,\n",
    "    MaxNumSteps=1000000,\n",
    ")"
   ]
  },
  {
   "cell_type": "code",
   "execution_count": 20,
   "metadata": {
    "ExecuteTime": {
     "end_time": "2021-02-15T18:07:50.535203Z",
     "start_time": "2021-02-15T18:07:50.519986Z"
    }
   },
   "outputs": [
    {
     "name": "stdout",
     "output_type": "stream",
     "text": [
      "Simulated Steam Pressure 6564.401488 Pa\n",
      "Simulated Steam Temperature 37.82 oC\n",
      "Simulated Cooling Water Inlet Temperature 22.40 oC\n",
      "Simulated Cooling Water Outlet Temperature 31.18 oC\n",
      "Simulated Steam flowrate 36.02 kg/s\n",
      "Simulated Steam Pressure 86.85 Pa\n",
      "Cooling Water outlet temp deviation is 3.26 %\n",
      "Steam temp deviation is -0.36 %\n"
     ]
    }
   ],
   "source": [
    "with open(\"{}_{}.out.json\".format(filename, suffix)) as f:\n",
    "    json_data=f.read()\n",
    "output = json.loads(json_data)\n",
    "\n",
    "Tout_sim = output[\"node_C.T\"][\"Values\"][-1]\n",
    "Tvap_sim = output[\"condenser.Text\"][\"Values\"][-1]\n",
    "\n",
    "print(\"Simulated Steam Pressure {number:.{digits}f} Pa\".format(\n",
    "    number=output[\"condenser.Pext\"][\"Values\"][-1],digits=6)\n",
    "     )\n",
    "print(\"Simulated Steam Temperature {number:.{digits}f} oC\".format(\n",
    "    number=Tvap_sim-273.15,digits=2)\n",
    "     )\n",
    "print(\"Simulated Cooling Water Inlet Temperature {number:.{digits}f} oC\".format(\n",
    "    number=output[\"node_B.T\"][\"Values\"][-1]-273.15,digits=2)\n",
    "     )\n",
    "print(\"Simulated Cooling Water Outlet Temperature {number:.{digits}f} oC\".format(\n",
    "    number=Tout_sim-273.15,digits=2)\n",
    "     )\n",
    "print(\"Simulated Steam flowrate {number:.{digits}f} kg/s\".format(\n",
    "    number=output[\"condenser.kvap\"][\"Values\"][-1],digits=2)\n",
    "     )\n",
    "print(\"Simulated Steam Pressure {number:.{digits}f} Pa\".format(\n",
    "    number=sum(np.array(output[\"condenser.Qtotal\"][\"Values\"][-1]))/1e6,digits=2)\n",
    "     )\n",
    "\n",
    "print(\"Cooling Water outlet temp deviation is {number:.{digits}f} %\".format(number=(Tout_sim-Tout_mean_expected)/(Tout_mean_expected-273.15)*100,digits=2))\n",
    "print(\"Steam temp deviation is {number:.{digits}f} %\".format(number=(Tvap_sim-Tvap_expected)/(Tvap_expected - 273.15)*100,digits=2))"
   ]
  },
  {
   "cell_type": "markdown",
   "metadata": {
    "ExecuteTime": {
     "end_time": "2021-02-12T07:59:12.754458Z",
     "start_time": "2021-02-12T07:59:12.751535Z"
    }
   },
   "source": [
    "#### Dynamic Simulation with Fixed inlet flowrate"
   ]
  },
  {
   "cell_type": "code",
   "execution_count": 21,
   "metadata": {
    "ExecuteTime": {
     "end_time": "2021-02-15T18:07:51.948538Z",
     "start_time": "2021-02-15T18:07:51.938146Z"
    }
   },
   "outputs": [],
   "source": [
    "data3 = data2.copy()\n",
    "data3[\"condenser\"][\"states\"]['stnFouling'] = \"Dynamic\"\n",
    "with open(\"{}_{}_fixedW.json\".format(filename, suffix), 'w') as outfile:\n",
    "    json.dump(data3, outfile, indent=4)"
   ]
  },
  {
   "cell_type": "code",
   "execution_count": 22,
   "metadata": {
    "ExecuteTime": {
     "end_time": "2021-02-15T18:08:05.914197Z",
     "start_time": "2021-02-15T18:07:54.527061Z"
    },
    "scrolled": false
   },
   "outputs": [
    {
     "name": "stdout",
     "output_type": "stream",
     "text": [
      "Creating the system...        \n",
      "The system created successfully.\n",
      " 0.00% ETA: [00.0s]Loading Initialization Values\n",
      "Starting the initialization of the system... Done.\n",
      " 0.00% ETA: [00.0s]Saving Initialization Values\n",
      "Integrating from [0] to [864000] ...\n",
      " 0.00% ETA: [00.0s]Integrating from [10] to [864000] ...\n",
      " 0.00% ETA: [00.0s]Integrating from [864000] to [1728000] ...\n",
      " 1.00% ETA: [15m 28.0s]Integrating from [1728000] to [2592000] ...\n",
      " 2.00% ETA: [08m 05.9s]Integrating from [2592000] to [3456000] ...\n",
      " 3.00% ETA: [05m 21.3s]Integrating from [3456000] to [4320000] ...\n",
      " 4.00% ETA: [03m 59.0s]Integrating from [4320000] to [5184000] ...\n",
      " 5.00% ETA: [03m 10.1s]Integrating from [5184000] to [6048000] ...\n",
      " 6.00% ETA: [02m 37.1s]Integrating from [6048000] to [6912000] ...\n",
      " 7.00% ETA: [02m 13.6s]Integrating from [6912000] to [7776000] ...\n",
      " 8.00% ETA: [01m 55.9s]Integrating from [7776000] to [8640000] ...\n",
      " 9.00% ETA: [01m 42.1s]Integrating from [8640000] to [9504000] ...\n",
      " 10.00% ETA: [01m 31.1s]Integrating from [9504000] to [10368000] ...\n",
      " 11.00% ETA: [01m 22.1s]Integrating from [10368000] to [11232000] ...\n",
      " 12.00% ETA: [01m 14.6s]Integrating from [11232000] to [12096000] ...\n",
      " 13.00% ETA: [01m 08.3s]Integrating from [12096000] to [12960000] ...\n",
      " 14.00% ETA: [01m 02.8s]Integrating from [12960000] to [13824000] ...\n",
      " 15.00% ETA: [58.1s]Integrating from [13824000] to [14688000] ...\n",
      " 16.00% ETA: [54.0s]Integrating from [14688000] to [15552000] ...\n",
      " 17.00% ETA: [50.3s]Integrating from [15552000] to [16416000] ...\n",
      " 18.00% ETA: [47.1s]Integrating from [16416000] to [17280000] ...\n",
      " 19.00% ETA: [44.1s]Integrating from [17280000] to [18144000] ...\n",
      " 20.00% ETA: [41.5s]Integrating from [18144000] to [19008000] ...\n",
      " 21.00% ETA: [39.1s]Integrating from [19008000] to [19872000] ...\n",
      " 22.00% ETA: [37.0s]Integrating from [19872000] to [20736000] ...\n",
      " 23.00% ETA: [35.0s]Integrating from [20736000] to [21600000] ...\n",
      " 24.00% ETA: [33.2s]Integrating from [21600000] to [22464000] ...\n",
      " 25.00% ETA: [31.5s]Integrating from [22464000] to [23328000] ...\n",
      " 26.00% ETA: [30.0s]Integrating from [23328000] to [24192000] ...\n",
      " 27.00% ETA: [28.5s]Integrating from [24192000] to [25056000] ...\n",
      " 28.00% ETA: [27.2s]Integrating from [25056000] to [25920000] ...\n",
      " 29.00% ETA: [26.0s]Integrating from [25920000] to [26784000] ...\n",
      " 30.00% ETA: [24.8s]Integrating from [26784000] to [27648000] ...\n",
      " 31.00% ETA: [23.7s]Integrating from [27648000] to [28512000] ...\n",
      " 32.00% ETA: [22.7s]Integrating from [28512000] to [29376000] ...\n",
      " 33.00% ETA: [21.7s]Integrating from [29376000] to [30240000] ...\n",
      " 34.00% ETA: [20.8s]Integrating from [30240000] to [31104000] ...\n",
      " 35.00% ETA: [20.0s]Integrating from [31104000] to [31968000] ...\n",
      " 36.00% ETA: [19.2s]Integrating from [31968000] to [32832000] ...\n",
      " 37.00% ETA: [18.4s]Integrating from [32832000] to [33696000] ...\n",
      " 38.00% ETA: [17.7s]Integrating from [33696000] to [34560000] ...\n",
      " 39.00% ETA: [17.0s]Integrating from [34560000] to [35424000] ...\n",
      " 40.00% ETA: [16.3s]Integrating from [35424000] to [36288000] ...\n",
      " 41.00% ETA: [15.7s]Integrating from [36288000] to [37152000] ...\n",
      " 42.00% ETA: [15.1s]Integrating from [37152000] to [38016000] ...\n",
      " 43.00% ETA: [14.5s]Integrating from [38016000] to [38880000] ...\n",
      " 44.00% ETA: [14.0s]Integrating from [38880000] to [39744000] ...\n",
      " 45.00% ETA: [13.5s]Integrating from [39744000] to [40608000] ...\n",
      " 46.00% ETA: [12.9s]Integrating from [40608000] to [41472000] ...\n",
      " 47.00% ETA: [12.5s]Integrating from [41472000] to [42336000] ...\n",
      " 48.00% ETA: [12.0s]Integrating from [42336000] to [43200000] ...\n",
      " 49.00% ETA: [11.6s]Integrating from [43200000] to [44064000] ...\n",
      " 50.00% ETA: [11.1s]Integrating from [44064000] to [44928000] ...\n",
      " 51.00% ETA: [10.7s]Integrating from [44928000] to [45792000] ...\n",
      " 52.00% ETA: [10.3s]Integrating from [45792000] to [46656000] ...\n",
      " 53.00% ETA: [09.9s]Integrating from [46656000] to [47520000] ...\n",
      " 54.00% ETA: [09.6s]Integrating from [47520000] to [48384000] ...\n",
      " 55.00% ETA: [09.2s]Integrating from [48384000] to [49248000] ...\n",
      " 56.00% ETA: [08.9s]Integrating from [49248000] to [50112000] ...\n",
      " 57.00% ETA: [08.5s]Integrating from [50112000] to [50976000] ...\n",
      " 58.00% ETA: [08.2s]Integrating from [50976000] to [51840000] ...\n",
      " 59.00% ETA: [07.9s]Integrating from [51840000] to [52704000] ...\n",
      " 60.00% ETA: [07.6s]Integrating from [52704000] to [53568000] ...\n",
      " 61.00% ETA: [07.3s]Integrating from [53568000] to [54432000] ...\n",
      " 62.00% ETA: [07.0s]Integrating from [54432000] to [55296000] ...\n",
      " 63.00% ETA: [06.7s]Integrating from [55296000] to [56160000] ...\n",
      " 64.00% ETA: [06.5s]Integrating from [56160000] to [57024000] ...\n",
      " 65.00% ETA: [06.2s]Integrating from [57024000] to [57888000] ...\n",
      " 66.00% ETA: [05.9s]Integrating from [57888000] to [58752000] ...\n",
      " 67.00% ETA: [05.7s]Integrating from [58752000] to [59616000] ...\n",
      " 68.00% ETA: [05.5s]Integrating from [59616000] to [60480000] ...\n",
      " 69.00% ETA: [05.2s]Integrating from [60480000] to [61344000] ...\n",
      " 70.00% ETA: [05.0s]Integrating from [61344000] to [62208000] ...\n",
      " 71.00% ETA: [04.8s]Integrating from [62208000] to [63072000] ...\n",
      " 72.00% ETA: [04.5s]Integrating from [63072000] to [63936000] ...\n",
      " 73.00% ETA: [04.3s]Integrating from [63936000] to [64800000] ...\n",
      " 74.00% ETA: [04.1s]Integrating from [64800000] to [65664000] ...\n",
      " 75.00% ETA: [03.9s]Integrating from [65664000] to [66528000] ...\n",
      " 76.00% ETA: [03.7s]Integrating from [66528000] to [67392000] ...\n",
      " 77.00% ETA: [03.5s]Integrating from [67392000] to [68256000] ...\n",
      " 78.00% ETA: [03.3s]Integrating from [68256000] to [69120000] ...\n",
      " 79.00% ETA: [03.2s]Integrating from [69120000] to [69984000] ...\n",
      " 80.00% ETA: [03.0s]Integrating from [69984000] to [70848000] ...\n",
      " 81.00% ETA: [02.8s]Integrating from [70848000] to [71712000] ...\n",
      " 82.00% ETA: [02.6s]Integrating from [71712000] to [72576000] ...\n",
      " 83.00% ETA: [02.5s]Integrating from [72576000] to [73440000] ...\n",
      " 84.00% ETA: [02.3s]Integrating from [73440000] to [74304000] ...\n",
      " 85.00% ETA: [02.1s]Integrating from [74304000] to [75168000] ...\n",
      " 86.00% ETA: [02.1s]Integrating from [75168000] to [76032000] ...\n",
      " 87.00% ETA: [01.9s]Integrating from [76032000] to [76896000] ...\n",
      " 88.00% ETA: [01.7s]Integrating from [76896000] to [77760000] ...\n",
      " 89.00% ETA: [01.6s]Integrating from [77760000] to [78624000] ...\n",
      " 90.00% ETA: [01.4s]Integrating from [78624000] to [79488000] ...\n",
      " 91.00% ETA: [01.3s]Integrating from [79488000] to [80352000] ...\n",
      " 92.00% ETA: [01.1s]Integrating from [80352000] to [81216000] ...\n",
      " 93.00% ETA: [01.0s]Integrating from [81216000] to [82080000] ...\n",
      " 94.00% ETA: [00.8s]Integrating from [82080000] to [82944000] ...\n",
      " 95.00% ETA: [00.7s]Integrating from [82944000] to [83808000] ...\n",
      " 96.00% ETA: [00.5s]Integrating from [83808000] to [84672000] ...\n",
      " 97.00% ETA: [00.4s]Integrating from [84672000] to [85536000] ...\n",
      " 98.00% ETA: [00.3s]Integrating from [85536000] to [86400000] ...\n",
      " 99.00% ETA: [00.1s]                              \n",
      " 100.00% ETA: [00.0s]The simulation has finished successfully!\n",
      " 100.00% ETA: [00.0s]                              \n",
      " 100.00% ETA: [00.0s]--------------------------------------------------------------\n",
      " 100.00% ETA: [00.0s]                             Time (s)   Rel.time (%)    Count\n",
      " 100.00% ETA: [00.0s]--------------------------------------------------------------\n",
      " 100.00% ETA: [00.0s]Simulation:                   \n",
      " 100.00% ETA: [00.0s]  Initialization                0.932              -        -\n",
      " 100.00% ETA: [00.0s]  Solve initial                 1.366          14.38        -\n",
      " 100.00% ETA: [00.0s]  Integration                   8.139          85.62        -\n",
      " 100.00% ETA: [00.0s]  Integ. + solve init.          9.505         100.00        -\n",
      " 100.00% ETA: [00.0s]  Lin.sol. + Resid.             0.587           6.17        -\n",
      " 100.00% ETA: [00.0s]  ------------------------------------------------------------\n",
      " 100.00% ETA: [00.0s]  Total                        10.437              -        -\n",
      " 100.00% ETA: [00.0s]--------------------------------------------------------------\n",
      " 100.00% ETA: [00.0s]DAE solver [Sundials IDAS]:   \n",
      " 100.00% ETA: [00.0s]  Steps                             -              -      112\n",
      " 100.00% ETA: [00.0s]  Error test fails                  -              -        1\n"
     ]
    },
    {
     "name": "stdout",
     "output_type": "stream",
     "text": [
      " 100.00% ETA: [00.0s]  Residuals (DAE)                   -              -      127\n",
      "  Residuals (total)             0.587           6.17      142\n",
      " 100.00% ETA: [00.0s]--------------------------------------------------------------\n",
      " 100.00% ETA: [00.0s]Non-linear solver [Sundials modified Newton]:\n",
      " 100.00% ETA: [00.0s]  Iterations                        -              -      125\n",
      " 100.00% ETA: [00.0s]  Conv. fails                       -              -        0\n",
      " 100.00% ETA: [00.0s]--------------------------------------------------------------\n",
      " 100.00% ETA: [00.0s]Linear solver [Sundials LU]:  \n",
      " 100.00% ETA: [00.0s]  Setup                         0.000           0.00        0\n",
      " 100.00% ETA: [00.0s]  Jacobian                      0.516           5.43       21\n",
      " 100.00% ETA: [00.0s]  Solve                         0.000           0.00        0\n",
      " 100.00% ETA: [00.0s]  Total LA                      0.000           0.00        -\n",
      " 100.00% ETA: [00.0s]--------------------------------------------------------------\n",
      " 100.00% ETA: [00.0s]Number of equations 2457\n"
     ]
    }
   ],
   "source": [
    "simulate.main(\n",
    "    name=filename,\n",
    "    input=\"{}_{}_fixedW.json\".format(filename, suffix),\n",
    "    output=\"{}_{}_fixedW.out.json\".format(filename, suffix),\n",
    "    initial_condition=\"{}_{}.out.json\".format(filename, suffix),\n",
    "    init=\"{}_{}.out.json.init\".format(filename, suffix),\n",
    "    reporting_interval=10*24*3600,\n",
    "    time_horizon=1000*24*3600,\n",
    "    relative_tolerance=1e-3,\n",
    "    MaxStep=10*24*3600,\n",
    "    MaxNumSteps=100,\n",
    ")"
   ]
  },
  {
   "cell_type": "code",
   "execution_count": 23,
   "metadata": {
    "ExecuteTime": {
     "end_time": "2021-02-15T18:08:11.997744Z",
     "start_time": "2021-02-15T18:08:11.863160Z"
    }
   },
   "outputs": [],
   "source": [
    "with open(\"{}_{}_fixedW.out.json\".format(filename, suffix)) as f:\n",
    "    json_data=f.read()\n",
    "output = json.loads(json_data)"
   ]
  },
  {
   "cell_type": "code",
   "execution_count": 24,
   "metadata": {
    "ExecuteTime": {
     "end_time": "2021-02-15T18:08:12.907294Z",
     "start_time": "2021-02-15T18:08:12.895366Z"
    }
   },
   "outputs": [],
   "source": [
    "data3_s = data3.copy()\n",
    "data3_s[\"node_B\"] = {\n",
    "    \"kind\": \"node\",\n",
    "    \"module\": \"models.river_source\",\n",
    "    \"class\": \"RiverSource\",\n",
    "    \"steady_state\": True,\n",
    "    \"specifications\": {\n",
    "        \"w\": m,\n",
    "    },\n",
    "    \"parameters\": {\n",
    "        \"Text0\": Tin,\n",
    "        \"Pext\": Pin,\n",
    "        \"x\": 0.0,\n",
    "        \"y\": 0.0,\n",
    "        \"z\": 0.0,\n",
    "        \"alpha1\": Tin,\n",
    "        \"alpha2\": 4,\n",
    "        \"tau\": 0\n",
    "                \n",
    "    },\n",
    "    \"initial_guess\": {\n",
    "        \"w\": m,\n",
    "        \"P\": Pin,\n",
    "        \"T\": Tin\n",
    "    }\n",
    "}\n",
    "with open(\"{}_{}_fixedW_season.json\".format(filename, suffix), 'w') as outfile:\n",
    "    json.dump(data3_s, outfile, indent=4)\n"
   ]
  },
  {
   "cell_type": "code",
   "execution_count": 25,
   "metadata": {
    "ExecuteTime": {
     "end_time": "2021-02-15T18:08:24.932518Z",
     "start_time": "2021-02-15T18:08:13.854137Z"
    }
   },
   "outputs": [
    {
     "name": "stdout",
     "output_type": "stream",
     "text": [
      "Creating the system...        \n",
      "The system created successfully.\n",
      " 0.00% ETA: [00.0s]Starting the initialization of the system... Done.\n",
      " 0.00% ETA: [00.0s]Saving Initialization Values\n",
      "Integrating from [0] to [864000] ...\n",
      " 0.00% ETA: [00.0s]Integrating from [10] to [864000] ...\n",
      " 0.00% ETA: [00.0s]Integrating from [864000] to [1728000] ...\n",
      " 1.00% ETA: [16m 49.8s]Integrating from [1728000] to [2592000] ...\n",
      " 2.00% ETA: [08m 22.5s]Integrating from [2592000] to [3456000] ...\n",
      " 3.00% ETA: [05m 48.5s]Integrating from [3456000] to [4320000] ...\n",
      " 4.00% ETA: [04m 19.2s]Integrating from [4320000] to [5184000] ...\n",
      " 5.00% ETA: [03m 25.6s]Integrating from [5184000] to [6048000] ...\n",
      " 6.00% ETA: [02m 49.9s]Integrating from [6048000] to [6912000] ...\n",
      " 7.00% ETA: [02m 24.6s]Integrating from [6912000] to [7776000] ...\n",
      " 8.00% ETA: [02m 05.5s]Integrating from [7776000] to [8640000] ...\n",
      " 9.00% ETA: [01m 50.6s]Integrating from [8640000] to [9504000] ...\n",
      " 10.00% ETA: [01m 38.7s]Integrating from [9504000] to [10368000] ...\n",
      " 11.00% ETA: [01m 28.9s]Integrating from [10368000] to [11232000] ...\n",
      " 12.00% ETA: [01m 20.8s]Integrating from [11232000] to [12096000] ...\n",
      " 13.00% ETA: [01m 13.9s]Integrating from [12096000] to [12960000] ...\n",
      " 14.00% ETA: [01m 08.0s]Integrating from [12960000] to [13824000] ...\n",
      " 15.00% ETA: [01m 02.8s]Integrating from [13824000] to [14688000] ...\n",
      " 16.00% ETA: [58.3s]Integrating from [14688000] to [15552000] ...\n",
      " 17.00% ETA: [54.4s]Integrating from [15552000] to [16416000] ...\n",
      " 18.00% ETA: [50.9s]Integrating from [16416000] to [17280000] ...\n",
      " 19.00% ETA: [47.7s]Integrating from [17280000] to [18144000] ...\n",
      " 20.00% ETA: [44.9s]Integrating from [18144000] to [19008000] ...\n",
      " 21.00% ETA: [42.3s]Integrating from [19008000] to [19872000] ...\n",
      " 22.00% ETA: [39.9s]Integrating from [19872000] to [20736000] ...\n",
      " 23.00% ETA: [37.8s]Integrating from [20736000] to [21600000] ...\n",
      " 24.00% ETA: [35.8s]Integrating from [21600000] to [22464000] ...\n",
      " 25.00% ETA: [34.0s]Integrating from [22464000] to [23328000] ...\n",
      " 26.00% ETA: [32.4s]Integrating from [23328000] to [24192000] ...\n",
      " 27.00% ETA: [30.8s]Integrating from [24192000] to [25056000] ...\n",
      " 28.00% ETA: [29.4s]Integrating from [25056000] to [25920000] ...\n",
      " 29.00% ETA: [28.0s]Integrating from [25920000] to [26784000] ...\n",
      " 30.00% ETA: [26.8s]Integrating from [26784000] to [27648000] ...\n",
      " 31.00% ETA: [25.6s]Integrating from [27648000] to [28512000] ...\n",
      " 32.00% ETA: [24.5s]Integrating from [28512000] to [29376000] ...\n",
      " 33.00% ETA: [23.4s]Integrating from [29376000] to [30240000] ...\n",
      " 34.00% ETA: [22.4s]Integrating from [30240000] to [31104000] ...\n",
      " 35.00% ETA: [21.5s]Integrating from [31104000] to [31968000] ...\n",
      " 36.00% ETA: [20.7s]Integrating from [31968000] to [32832000] ...\n",
      " 37.00% ETA: [19.8s]Integrating from [32832000] to [33696000] ...\n",
      " 38.00% ETA: [19.0s]Integrating from [33696000] to [34560000] ...\n",
      " 39.00% ETA: [18.3s]Integrating from [34560000] to [35424000] ...\n",
      " 40.00% ETA: [17.6s]Integrating from [35424000] to [36288000] ...\n",
      " 41.00% ETA: [16.9s]Integrating from [36288000] to [37152000] ...\n",
      " 42.00% ETA: [16.3s]Integrating from [37152000] to [38016000] ...\n",
      " 43.00% ETA: [15.7s]Integrating from [38016000] to [38880000] ...\n",
      " 44.00% ETA: [15.1s]Integrating from [38880000] to [39744000] ...\n",
      " 45.00% ETA: [14.5s]Integrating from [39744000] to [40608000] ...\n",
      " 46.00% ETA: [14.0s]Integrating from [40608000] to [41472000] ...\n",
      " 47.00% ETA: [13.4s]Integrating from [41472000] to [42336000] ...\n",
      " 48.00% ETA: [13.0s]Integrating from [42336000] to [43200000] ...\n",
      " 49.00% ETA: [12.6s]Integrating from [43200000] to [44064000] ...\n",
      " 50.00% ETA: [12.1s]Integrating from [44064000] to [44928000] ...\n",
      " 51.00% ETA: [11.7s]Integrating from [44928000] to [45792000] ...\n",
      " 52.00% ETA: [11.3s]Integrating from [45792000] to [46656000] ...\n",
      " 53.00% ETA: [10.9s]Integrating from [46656000] to [47520000] ...\n",
      " 54.00% ETA: [10.5s]Integrating from [47520000] to [48384000] ...\n",
      " 55.00% ETA: [10.2s]Integrating from [48384000] to [49248000] ...\n",
      " 56.00% ETA: [10.3s]Integrating from [49248000] to [50112000] ...\n",
      " 57.00% ETA: [09.9s]Integrating from [50112000] to [50976000] ...\n",
      " 58.00% ETA: [09.5s]Integrating from [50976000] to [51840000] ...\n",
      " 59.00% ETA: [09.1s]Integrating from [51840000] to [52704000] ...\n",
      " 60.00% ETA: [08.8s]Integrating from [52704000] to [53568000] ...\n",
      " 61.00% ETA: [08.4s]Integrating from [53568000] to [54432000] ...\n",
      " 62.00% ETA: [08.1s]Integrating from [54432000] to [55296000] ...\n",
      " 63.00% ETA: [07.8s]Integrating from [55296000] to [56160000] ...\n",
      " 64.00% ETA: [07.5s]Integrating from [56160000] to [57024000] ...\n",
      " 65.00% ETA: [07.2s]Integrating from [57024000] to [57888000] ...\n",
      " 66.00% ETA: [06.9s]Integrating from [57888000] to [58752000] ...\n",
      " 67.00% ETA: [06.6s]Integrating from [58752000] to [59616000] ...\n",
      " 68.00% ETA: [06.3s]Integrating from [59616000] to [60480000] ...\n",
      " 69.00% ETA: [06.0s]Integrating from [60480000] to [61344000] ...\n",
      " 70.00% ETA: [05.8s]Integrating from [61344000] to [62208000] ...\n",
      " 71.00% ETA: [05.5s]Integrating from [62208000] to [63072000] ...\n",
      " 72.00% ETA: [05.3s]Integrating from [63072000] to [63936000] ...\n",
      " 73.00% ETA: [05.0s]Integrating from [63936000] to [64800000] ...\n",
      " 74.00% ETA: [04.8s]Integrating from [64800000] to [65664000] ...\n",
      " 75.00% ETA: [04.5s]Integrating from [65664000] to [66528000] ...\n",
      " 76.00% ETA: [04.3s]Integrating from [66528000] to [67392000] ...\n",
      " 77.00% ETA: [04.1s]Integrating from [67392000] to [68256000] ...\n",
      " 78.00% ETA: [03.9s]Integrating from [68256000] to [69120000] ...\n",
      " 79.00% ETA: [03.6s]Integrating from [69120000] to [69984000] ...\n",
      " 80.00% ETA: [03.4s]Integrating from [69984000] to [70848000] ...\n",
      " 81.00% ETA: [03.2s]Integrating from [70848000] to [71712000] ...\n",
      " 82.00% ETA: [03.0s]Integrating from [71712000] to [72576000] ...\n",
      " 83.00% ETA: [02.8s]Integrating from [72576000] to [73440000] ...\n",
      " 84.00% ETA: [02.6s]Integrating from [73440000] to [74304000] ...\n",
      " 85.00% ETA: [02.4s]Integrating from [74304000] to [75168000] ...\n",
      " 86.00% ETA: [02.3s]Integrating from [75168000] to [76032000] ...\n",
      " 87.00% ETA: [02.1s]Integrating from [76032000] to [76896000] ...\n",
      " 88.00% ETA: [01.9s]Integrating from [76896000] to [77760000] ...\n",
      " 89.00% ETA: [01.7s]Integrating from [77760000] to [78624000] ...\n",
      " 90.00% ETA: [01.6s]Integrating from [78624000] to [79488000] ...\n",
      " 91.00% ETA: [01.4s]Integrating from [79488000] to [80352000] ...\n",
      " 92.00% ETA: [01.2s]Integrating from [80352000] to [81216000] ...\n",
      " 93.00% ETA: [01.1s]Integrating from [81216000] to [82080000] ...\n",
      " 94.00% ETA: [00.9s]Integrating from [82080000] to [82944000] ...\n",
      " 95.00% ETA: [00.7s]Integrating from [82944000] to [83808000] ...\n",
      " 96.00% ETA: [00.6s]Integrating from [83808000] to [84672000] ...\n",
      " 97.00% ETA: [00.4s]Integrating from [84672000] to [85536000] ...\n",
      " 98.00% ETA: [00.3s]Integrating from [85536000] to [86400000] ...\n",
      " 99.00% ETA: [00.1s]                              \n",
      " 100.00% ETA: [00.0s]The simulation has finished successfully!\n",
      " 100.00% ETA: [00.0s]                              \n",
      " 100.00% ETA: [00.0s]--------------------------------------------------------------\n",
      " 100.00% ETA: [00.0s]                             Time (s)   Rel.time (%)    Count\n",
      " 100.00% ETA: [00.0s]--------------------------------------------------------------\n",
      " 100.00% ETA: [00.0s]Simulation:                   \n",
      " 100.00% ETA: [00.0s]  Initialization                0.870              -        -\n",
      " 100.00% ETA: [00.0s]  Solve initial                 2.112          22.47        -\n",
      " 100.00% ETA: [00.0s]  Integration                   7.287          77.53        -\n",
      " 100.00% ETA: [00.0s]  Integ. + solve init.          9.399         100.00        -\n",
      " 100.00% ETA: [00.0s]  Lin.sol. + Resid.             0.971          10.33        -\n",
      " 100.00% ETA: [00.0s]  ------------------------------------------------------------\n",
      " 100.00% ETA: [00.0s]  Total                        10.270              -        -\n",
      " 100.00% ETA: [00.0s]--------------------------------------------------------------\n",
      " 100.00% ETA: [00.0s]DAE solver [Sundials IDAS]:   \n",
      " 100.00% ETA: [00.0s]  Steps                             -              -      114\n",
      " 100.00% ETA: [00.0s]  Error test fails                  -              -        1\n"
     ]
    },
    {
     "name": "stdout",
     "output_type": "stream",
     "text": [
      " 100.00% ETA: [00.0s]  Residuals (DAE)                   -              -      153\n",
      "  Residuals (total)             0.971          10.33      265\n",
      " 100.00% ETA: [00.0s]--------------------------------------------------------------\n",
      " 100.00% ETA: [00.0s]Non-linear solver [Sundials modified Newton]:\n",
      " 100.00% ETA: [00.0s]  Iterations                        -              -      151\n",
      " 100.00% ETA: [00.0s]  Conv. fails                       -              -        0\n",
      " 100.00% ETA: [00.0s]--------------------------------------------------------------\n",
      " 100.00% ETA: [00.0s]Linear solver [Sundials LU]:  \n",
      " 100.00% ETA: [00.0s]  Setup                         0.000           0.00        0\n",
      " 100.00% ETA: [00.0s]  Jacobian                      0.457           4.87       19\n",
      " 100.00% ETA: [00.0s]  Solve                         0.000           0.00        0\n",
      " 100.00% ETA: [00.0s]  Total LA                      0.000           0.00        -\n",
      " 100.00% ETA: [00.0s]--------------------------------------------------------------\n",
      " 100.00% ETA: [00.0s]Number of equations 2458\n"
     ]
    }
   ],
   "source": [
    "simulate.main(\n",
    "    name=filename,\n",
    "    input=\"{}_{}_fixedW_season.json\".format(filename, suffix),\n",
    "    output=\"{}_{}_fixedW_season.out.json\".format(filename, suffix),\n",
    "    initial_condition=\"{}_{}.out.json\".format(filename, suffix),\n",
    "    #init=\"{}_{}.out.json.init\".format(filename, suffix),\n",
    "    reporting_interval=10*24*3600,\n",
    "    time_horizon=1000*24*3600,\n",
    "    relative_tolerance=1e-3,\n",
    "    MaxStep=10*24*3600,\n",
    "    MaxNumSteps=100,\n",
    ")"
   ]
  },
  {
   "cell_type": "markdown",
   "metadata": {},
   "source": [
    "#### Dynamic simulation with pump"
   ]
  },
  {
   "cell_type": "code",
   "execution_count": 26,
   "metadata": {
    "ExecuteTime": {
     "end_time": "2021-02-15T18:08:25.758786Z",
     "start_time": "2021-02-15T18:08:25.751084Z"
    }
   },
   "outputs": [],
   "source": [
    "def pump_curve_points(w0, P0, w_factor = 0.4, P_factor = 0.025):\n",
    "\n",
    "    PB2_factor = 1 + 7*P_factor\n",
    "    PB1_factor = 1 + 5*P_factor\n",
    "    PA1_factor = 1 - 8*P_factor\n",
    "    PA2_factor = 1 - 20*P_factor\n",
    "\n",
    "    wB2 = w0 * (1 - 2*w_factor)\n",
    "    PB2 = P0 * (PB2_factor)\n",
    "    wB1 = w0 * (1 - w_factor)\n",
    "    PB1 = P0 * (PB1_factor)\n",
    "    wA1 = w0 * (1 + w_factor)\n",
    "    PA1 = P0 * (PA1_factor)\n",
    "    wA2 = w0 * (1 + 2*w_factor)\n",
    "    PA2 = P0 * (PA2_factor)\n",
    "\n",
    "    W = np.array([wB2, wB1, w0, wA1, wA2])\n",
    "    P = np.array([PB2, PB1, P0, PA1, PA2])\n",
    "    \n",
    "    return W, P\n",
    "\n",
    "def pump_curve(x, a00, a01, a02):\n",
    "    return a00 + a01 * x + a02 * x ** 2"
   ]
  },
  {
   "cell_type": "code",
   "execution_count": 27,
   "metadata": {
    "ExecuteTime": {
     "end_time": "2021-02-15T18:08:26.755025Z",
     "start_time": "2021-02-15T18:08:26.734981Z"
    }
   },
   "outputs": [
    {
     "name": "stdout",
     "output_type": "stream",
     "text": [
      "2448.0 196659.44161173995\n",
      "[ 2.28528806e+05  7.60310957e+00 -8.42387288e-03] 2448.0 421.4132090151834 196659.44161173995 197080.85482075514 196659.44161173992\n"
     ]
    }
   ],
   "source": [
    "with open(\"{}_{}.out.json\".format(filename, suffix)) as f:\n",
    "    json_data=f.read()\n",
    "output = json.loads(json_data)\n",
    "\n",
    "wB = output[\"node_B.w\"][\"Values\"][-1]\n",
    "PB = output[\"node_B.P\"][\"Values\"][-1]\n",
    "print(wB, PB)\n",
    "\n",
    "W, P = pump_curve_points(wB,PB)\n",
    "c, pcov = curve_fit(pump_curve, W, P)\n",
    "\n",
    "PBcalc = pump_curve(wB, *c)\n",
    "dP = PBcalc-PB\n",
    "c[0] = c[0]- dP\n",
    "PBcalc2 = pump_curve(wB, *c)\n",
    "\n",
    "print(c, wB, dP, PB, PBcalc, PBcalc2)\n",
    "\n",
    "w_values = np.linspace(wB*0.5, wB*1.5, 10)\n",
    "P_values = pump_curve(w_values, *c)"
   ]
  },
  {
   "cell_type": "code",
   "execution_count": 28,
   "metadata": {
    "ExecuteTime": {
     "end_time": "2021-02-15T18:08:28.379885Z",
     "start_time": "2021-02-15T18:08:27.943428Z"
    }
   },
   "outputs": [
    {
     "data": {
      "image/png": "[encoded data removed]",
      "text/plain": [
       "<Figure size 432x288 with 1 Axes>"
      ]
     },
     "metadata": {
      "needs_background": "light"
     },
     "output_type": "display_data"
    }
   ],
   "source": [
    "import matplotlib\n",
    "import matplotlib.pyplot as plt\n",
    "import numpy as np\n",
    "\n",
    "fig, ax = plt.subplots()\n",
    "ax.plot(w_values, P_values)\n",
    "ax.plot(wB, PB, \"or\")\n",
    "\n",
    "ax.set(xlabel='flowrate (kg/s)', ylabel='pressure (Pa)',\n",
    "       title='')\n",
    "ax.grid()\n",
    "plt.show()"
   ]
  },
  {
   "cell_type": "markdown",
   "metadata": {},
   "source": [
    "## Final Simulation"
   ]
  },
  {
   "cell_type": "code",
   "execution_count": 29,
   "metadata": {
    "ExecuteTime": {
     "end_time": "2021-02-15T18:08:30.277498Z",
     "start_time": "2021-02-15T18:08:30.264629Z"
    }
   },
   "outputs": [],
   "source": [
    "data4 = data2.copy()\n",
    "data4[\"condenser\"][\"states\"]['stnFouling'] = \"Dynamic\"\n",
    "data4[\"node_B\"][\"module\"]=\"models.pumped_source2\"\n",
    "data4[\"node_B\"][\"class\"]=\"PumpedSource\"\n",
    "data4[\"node_B\"][\"specifications\"]={}\n",
    "data4[\"node_B\"][\"states\"]={\"stnPump\": 'Dynamic'}\n",
    "data4[\"node_B\"][\"parameters\"][\"w0\"]=wB\n",
    "data4[\"node_B\"][\"parameters\"][\"a0\"]=c[0]\n",
    "data4[\"node_B\"][\"parameters\"][\"a1\"]=c[1]\n",
    "data4[\"node_B\"][\"parameters\"][\"a2\"]=c[2]\n",
    "with open(\"{}_{}_pumped.json\".format(filename,suffix), 'w') as outfile:\n",
    "    json.dump(data4, outfile, indent=4)"
   ]
  },
  {
   "cell_type": "code",
   "execution_count": 30,
   "metadata": {
    "ExecuteTime": {
     "end_time": "2021-02-15T18:08:43.505139Z",
     "start_time": "2021-02-15T18:08:32.159156Z"
    }
   },
   "outputs": [
    {
     "name": "stdout",
     "output_type": "stream",
     "text": [
      "Creating the system...        \n",
      "The system created successfully.\n",
      " 0.00% ETA: [00.0s]Starting the initialization of the system... Done.\n",
      " 0.00% ETA: [00.0s]Saving Initialization Values\n",
      "Integrating from [0] to [864000] ...\n",
      " 0.00% ETA: [00.0s]Integrating from [0.010000000019176] to [864000] ...\n",
      " 0.00% ETA: [00.0s]Integrating from [10] to [864000] ...\n",
      " 0.00% ETA: [00.0s]Integrating from [864000] to [1728000] ...\n",
      " 1.00% ETA: [16m 25.6s]Integrating from [1728000] to [2592000] ...\n",
      " 2.00% ETA: [08m 32.5s]Integrating from [2592000] to [3456000] ...\n",
      " 3.00% ETA: [05m 38.8s]Integrating from [3456000] to [4320000] ...\n",
      " 4.00% ETA: [04m 12.0s]Integrating from [4320000] to [5184000] ...\n",
      " 5.00% ETA: [03m 20.3s]Integrating from [5184000] to [6048000] ...\n",
      " 6.00% ETA: [02m 45.5s]Integrating from [6048000] to [6912000] ...\n",
      " 7.00% ETA: [02m 20.7s]Integrating from [6912000] to [7776000] ...\n",
      " 8.00% ETA: [02m 02.1s]Integrating from [7776000] to [8640000] ...\n",
      " 9.00% ETA: [01m 47.6s]Integrating from [8640000] to [9504000] ...\n",
      " 10.00% ETA: [01m 36.0s]Integrating from [9504000] to [10368000] ...\n",
      " 11.00% ETA: [01m 26.5s]Integrating from [10368000] to [11232000] ...\n",
      " 12.00% ETA: [01m 18.6s]Integrating from [11232000] to [12096000] ...\n",
      " 13.00% ETA: [01m 11.9s]Integrating from [12096000] to [12960000] ...\n",
      " 14.00% ETA: [01m 06.2s]Integrating from [12960000] to [13824000] ...\n",
      " 15.00% ETA: [01m 01.2s]Integrating from [13824000] to [14688000] ...\n",
      " 16.00% ETA: [56.8s]Integrating from [14688000] to [15552000] ...\n",
      " 17.00% ETA: [52.9s]Integrating from [15552000] to [16416000] ...\n",
      " 18.00% ETA: [49.5s]Integrating from [16416000] to [17280000] ...\n",
      " 19.00% ETA: [46.4s]Integrating from [17280000] to [18144000] ...\n",
      " 20.00% ETA: [43.7s]Integrating from [18144000] to [19008000] ...\n",
      " 21.00% ETA: [41.2s]Integrating from [19008000] to [19872000] ...\n",
      " 22.00% ETA: [38.9s]Integrating from [19872000] to [20736000] ...\n",
      " 23.00% ETA: [36.8s]Integrating from [20736000] to [21600000] ...\n",
      " 24.00% ETA: [34.9s]Integrating from [21600000] to [22464000] ...\n",
      " 25.00% ETA: [33.1s]Integrating from [22464000] to [23328000] ...\n",
      " 26.00% ETA: [31.5s]Integrating from [23328000] to [24192000] ...\n",
      " 27.00% ETA: [30.0s]Integrating from [24192000] to [25056000] ...\n",
      " 28.00% ETA: [28.6s]Integrating from [25056000] to [25920000] ...\n",
      " 29.00% ETA: [27.3s]Integrating from [25920000] to [26784000] ...\n",
      " 30.00% ETA: [26.1s]Integrating from [26784000] to [27648000] ...\n",
      " 31.00% ETA: [24.9s]Integrating from [27648000] to [28512000] ...\n",
      " 32.00% ETA: [23.8s]Integrating from [28512000] to [29376000] ...\n",
      " 33.00% ETA: [22.8s]Integrating from [29376000] to [30240000] ...\n",
      " 34.00% ETA: [21.9s]Integrating from [30240000] to [31104000] ...\n",
      " 35.00% ETA: [21.0s]Integrating from [31104000] to [31968000] ...\n",
      " 36.00% ETA: [20.1s]Integrating from [31968000] to [32832000] ...\n",
      " 37.00% ETA: [19.3s]Integrating from [32832000] to [33696000] ...\n",
      " 38.00% ETA: [18.5s]Integrating from [33696000] to [34560000] ...\n",
      " 39.00% ETA: [17.8s]Integrating from [34560000] to [35424000] ...\n",
      " 40.00% ETA: [17.1s]Integrating from [35424000] to [36288000] ...\n",
      " 41.00% ETA: [16.5s]Integrating from [36288000] to [37152000] ...\n",
      " 42.00% ETA: [15.8s]Integrating from [37152000] to [38016000] ...\n",
      " 43.00% ETA: [15.2s]Integrating from [38016000] to [38880000] ...\n",
      " 44.00% ETA: [14.7s]Integrating from [38880000] to [39744000] ...\n",
      " 45.00% ETA: [14.1s]Integrating from [39744000] to [40608000] ...\n",
      " 46.00% ETA: [13.6s]Integrating from [40608000] to [41472000] ...\n",
      " 47.00% ETA: [13.1s]Integrating from [41472000] to [42336000] ...\n",
      " 48.00% ETA: [12.6s]Integrating from [42336000] to [43200000] ...\n",
      " 49.00% ETA: [12.1s]Integrating from [43200000] to [44064000] ...\n",
      " 50.00% ETA: [11.7s]Integrating from [44064000] to [44928000] ...\n",
      " 51.00% ETA: [11.2s]Integrating from [44928000] to [45792000] ...\n",
      " 52.00% ETA: [10.8s]Integrating from [45792000] to [46656000] ...\n",
      " 53.00% ETA: [10.4s]Integrating from [46656000] to [47520000] ...\n",
      " 54.00% ETA: [10.0s]Integrating from [47520000] to [48384000] ...\n",
      " 55.00% ETA: [09.7s]Integrating from [48384000] to [49248000] ...\n",
      " 56.00% ETA: [09.3s]Integrating from [49248000] to [50112000] ...\n",
      " 57.00% ETA: [08.9s]Integrating from [50112000] to [50976000] ...\n",
      " 58.00% ETA: [08.6s]Integrating from [50976000] to [51840000] ...\n",
      " 59.00% ETA: [08.3s]Integrating from [51840000] to [52704000] ...\n",
      " 60.00% ETA: [08.0s]Integrating from [52704000] to [53568000] ...\n",
      " 61.00% ETA: [07.6s]Integrating from [53568000] to [54432000] ...\n",
      " 62.00% ETA: [07.3s]Integrating from [54432000] to [55296000] ...\n",
      " 63.00% ETA: [07.0s]Integrating from [55296000] to [56160000] ...\n",
      " 64.00% ETA: [06.8s]Integrating from [56160000] to [57024000] ...\n",
      " 65.00% ETA: [06.5s]Integrating from [57024000] to [57888000] ...\n",
      " 66.00% ETA: [06.2s]Integrating from [57888000] to [58752000] ...\n",
      " 67.00% ETA: [06.0s]Integrating from [58752000] to [59616000] ...\n",
      " 68.00% ETA: [05.8s]Integrating from [59616000] to [60480000] ...\n",
      " 69.00% ETA: [05.5s]Integrating from [60480000] to [61344000] ...\n",
      " 70.00% ETA: [05.3s]Integrating from [61344000] to [62208000] ...\n",
      " 71.00% ETA: [05.0s]Integrating from [62208000] to [63072000] ...\n",
      " 72.00% ETA: [04.8s]Integrating from [63072000] to [63936000] ...\n",
      " 73.00% ETA: [04.6s]Integrating from [63936000] to [64800000] ...\n",
      " 74.00% ETA: [04.4s]Integrating from [64800000] to [65664000] ...\n",
      " 75.00% ETA: [04.4s]Integrating from [65664000] to [66528000] ...\n",
      " 76.00% ETA: [04.1s]Integrating from [66528000] to [67392000] ...\n",
      " 77.00% ETA: [03.9s]Integrating from [67392000] to [68256000] ...\n",
      " 78.00% ETA: [03.7s]Integrating from [68256000] to [69120000] ...\n",
      " 79.00% ETA: [03.5s]Integrating from [69120000] to [69984000] ...\n",
      " 80.00% ETA: [03.3s]Integrating from [69984000] to [70848000] ...\n",
      " 81.00% ETA: [03.1s]Integrating from [70848000] to [71712000] ...\n",
      " 82.00% ETA: [02.9s]Integrating from [71712000] to [72576000] ...\n",
      " 83.00% ETA: [02.7s]Integrating from [72576000] to [73440000] ...\n",
      " 84.00% ETA: [02.5s]Integrating from [73440000] to [74304000] ...\n",
      " 85.00% ETA: [02.4s]Integrating from [74304000] to [75168000] ...\n",
      " 86.00% ETA: [02.2s]Integrating from [75168000] to [76032000] ...\n",
      " 87.00% ETA: [02.0s]Integrating from [76032000] to [76896000] ...\n",
      " 88.00% ETA: [01.8s]Integrating from [76896000] to [77760000] ...\n",
      " 89.00% ETA: [01.7s]Integrating from [77760000] to [78624000] ...\n",
      " 90.00% ETA: [01.5s]Integrating from [78624000] to [79488000] ...\n",
      " 91.00% ETA: [01.3s]Integrating from [79488000] to [80352000] ...\n",
      " 92.00% ETA: [01.2s]Integrating from [80352000] to [81216000] ...\n",
      " 93.00% ETA: [01.0s]Integrating from [81216000] to [82080000] ...\n",
      " 94.00% ETA: [00.9s]Integrating from [82080000] to [82944000] ...\n",
      " 95.00% ETA: [00.7s]Integrating from [82944000] to [83808000] ...\n",
      " 96.00% ETA: [00.6s]Integrating from [83808000] to [84672000] ...\n",
      " 97.00% ETA: [00.4s]Integrating from [84672000] to [85536000] ...\n",
      " 98.00% ETA: [00.3s]Integrating from [85536000] to [86400000] ...\n",
      " 99.00% ETA: [00.1s]                              \n",
      " 100.00% ETA: [00.0s]The simulation has finished successfully!\n",
      " 100.00% ETA: [00.0s]                              \n",
      " 100.00% ETA: [00.0s]--------------------------------------------------------------\n",
      " 100.00% ETA: [00.0s]                             Time (s)   Rel.time (%)    Count\n",
      " 100.00% ETA: [00.0s]--------------------------------------------------------------\n",
      " 100.00% ETA: [00.0s]Simulation:                   \n",
      " 100.00% ETA: [00.0s]  Initialization                0.901              -        -\n",
      " 100.00% ETA: [00.0s]  Solve initial                 1.273          13.24        -\n",
      " 100.00% ETA: [00.0s]  Integration                   8.342          86.76        -\n",
      " 100.00% ETA: [00.0s]  Integ. + solve init.          9.615         100.00        -\n",
      " 100.00% ETA: [00.0s]  Lin.sol. + Resid.             0.637           6.62        -\n",
      " 100.00% ETA: [00.0s]  ------------------------------------------------------------\n",
      " 100.00% ETA: [00.0s]  Total                        10.516              -        -\n",
      " 100.00% ETA: [00.0s]--------------------------------------------------------------\n",
      " 100.00% ETA: [00.0s]DAE solver [Sundials IDAS]:   \n",
      " 100.00% ETA: [00.0s]  Steps                             -              -      114\n"
     ]
    },
    {
     "name": "stdout",
     "output_type": "stream",
     "text": [
      " 100.00% ETA: [00.0s]  Error test fails                  -              -        1\n",
      "  Residuals (DAE)                   -              -      144\n",
      " 100.00% ETA: [00.0s]  Residuals (total)             0.637           6.62      161\n",
      " 100.00% ETA: [00.0s]--------------------------------------------------------------\n",
      " 100.00% ETA: [00.0s]Non-linear solver [Sundials modified Newton]:\n",
      " 100.00% ETA: [00.0s]  Iterations                        -              -      142\n",
      " 100.00% ETA: [00.0s]  Conv. fails                       -              -        0\n",
      " 100.00% ETA: [00.0s]--------------------------------------------------------------\n",
      " 100.00% ETA: [00.0s]Linear solver [Sundials LU]:  \n",
      " 100.00% ETA: [00.0s]  Setup                         0.000           0.00        0\n",
      " 100.00% ETA: [00.0s]  Jacobian                      0.539           5.61       23\n",
      " 100.00% ETA: [00.0s]  Solve                         0.000           0.00        0\n",
      " 100.00% ETA: [00.0s]  Total LA                      0.000           0.00        -\n",
      " 100.00% ETA: [00.0s]--------------------------------------------------------------\n",
      " 100.00% ETA: [00.0s]Number of equations 2458\n"
     ]
    }
   ],
   "source": [
    "simulate.main(\n",
    "    name=filename,\n",
    "    input=\"{}_{}_pumped.json\".format(filename,suffix),\n",
    "    output=\"{}_{}_pumped.out.json\".format(filename,suffix),\n",
    "    initial_condition=\"{}_{}.out.json\".format(filename, suffix),\n",
    "    #init=\"{}_{}.out.json.init\".format(filename, suffix),\n",
    "    reporting_interval=10*24*3600,\n",
    "    time_horizon=1000*24*3600,\n",
    "    relative_tolerance=1e-3,\n",
    "    MaxStep=10*24*3600,\n",
    "    MaxNumSteps=100,\n",
    ")"
   ]
  },
  {
   "cell_type": "code",
   "execution_count": 31,
   "metadata": {
    "ExecuteTime": {
     "end_time": "2021-02-15T18:08:43.783648Z",
     "start_time": "2021-02-15T18:08:43.652040Z"
    }
   },
   "outputs": [],
   "source": [
    "with open(\"{}_{}_pumped.out.json\".format(filename,suffix)) as f:\n",
    "    json_data=f.read()\n",
    "output = json.loads(json_data)"
   ]
  },
  {
   "cell_type": "code",
   "execution_count": 32,
   "metadata": {
    "ExecuteTime": {
     "end_time": "2021-02-15T18:08:45.080207Z",
     "start_time": "2021-02-15T18:08:45.068153Z"
    }
   },
   "outputs": [],
   "source": [
    "data4_s = data4.copy()\n",
    "\n",
    "data4_s[\"node_B\"] = {\n",
    "    \"kind\": \"node\",\n",
    "    \"module\": \"models.river_pumped_source2\",\n",
    "    \"class\": \"RiverPumpedSource\",\n",
    "    \"states\": {\"stnPump\": 'Dynamic'},\n",
    "    \"steady_state\": True,\n",
    "    \"specifications\": {\n",
    "    },\n",
    "    \"parameters\": {\n",
    "        \"Text0\": Tin,\n",
    "        \"Pext\": Pin,\n",
    "        \"w0\": wB,\n",
    "        \"x\": 0.0,\n",
    "        \"y\": 0.0,\n",
    "        \"z\": 0.0,\n",
    "        \"alpha1\": Tin,\n",
    "        \"alpha2\": 4,\n",
    "        \"tau\": 0,\n",
    "        \"a0\": c[0],\n",
    "        \"a1\": c[1],\n",
    "        \"a2\": c[2],\n",
    "                \n",
    "    },\n",
    "    \"initial_guess\": {\n",
    "        \"w\": m,\n",
    "        \"P\": Pin,\n",
    "        \"T\": Tin\n",
    "    }\n",
    "}\n",
    "with open(\"{}_{}_pumped_season.json\".format(filename, suffix), 'w') as outfile:\n",
    "    json.dump(data4_s, outfile, indent=4)\n"
   ]
  },
  {
   "cell_type": "code",
   "execution_count": 33,
   "metadata": {
    "ExecuteTime": {
     "end_time": "2021-02-15T18:08:57.848506Z",
     "start_time": "2021-02-15T18:08:45.853276Z"
    }
   },
   "outputs": [
    {
     "name": "stdout",
     "output_type": "stream",
     "text": [
      "Creating the system...        \n",
      "The system created successfully.\n",
      " 0.00% ETA: [00.0s]Starting the initialization of the system... Done.\n",
      " 0.00% ETA: [00.0s]Saving Initialization Values\n",
      "Integrating from [0] to [864000] ...\n",
      " 0.00% ETA: [00.0s]Integrating from [0.010000000019176] to [864000] ...\n",
      " 0.00% ETA: [00.0s]Integrating from [10] to [864000] ...\n",
      " 0.00% ETA: [00.0s]Integrating from [864000] to [1728000] ...\n",
      " 1.00% ETA: [16m 58.7s]Integrating from [1728000] to [2592000] ...\n",
      " 2.00% ETA: [08m 27.3s]Integrating from [2592000] to [3456000] ...\n",
      " 3.00% ETA: [05m 53.8s]Integrating from [3456000] to [4320000] ...\n",
      " 4.00% ETA: [04m 23.5s]Integrating from [4320000] to [5184000] ...\n",
      " 5.00% ETA: [03m 29.1s]Integrating from [5184000] to [6048000] ...\n",
      " 6.00% ETA: [02m 52.8s]Integrating from [6048000] to [6912000] ...\n",
      " 7.00% ETA: [02m 26.8s]Integrating from [6912000] to [7776000] ...\n",
      " 8.00% ETA: [02m 07.7s]Integrating from [7776000] to [8640000] ...\n",
      " 9.00% ETA: [01m 52.5s]Integrating from [8640000] to [9504000] ...\n",
      " 10.00% ETA: [01m 40.4s]Integrating from [9504000] to [10368000] ...\n",
      " 11.00% ETA: [01m 30.4s]Integrating from [10368000] to [11232000] ...\n",
      " 12.00% ETA: [01m 22.2s]Integrating from [11232000] to [12096000] ...\n",
      " 13.00% ETA: [01m 15.1s]Integrating from [12096000] to [12960000] ...\n",
      " 14.00% ETA: [01m 09.1s]Integrating from [12960000] to [13824000] ...\n",
      " 15.00% ETA: [01m 03.9s]Integrating from [13824000] to [14688000] ...\n",
      " 16.00% ETA: [59.3s]Integrating from [14688000] to [15552000] ...\n",
      " 17.00% ETA: [55.3s]Integrating from [15552000] to [16416000] ...\n",
      " 18.00% ETA: [51.7s]Integrating from [16416000] to [17280000] ...\n",
      " 19.00% ETA: [48.5s]Integrating from [17280000] to [18144000] ...\n",
      " 20.00% ETA: [45.6s]Integrating from [18144000] to [19008000] ...\n",
      " 21.00% ETA: [43.0s]Integrating from [19008000] to [19872000] ...\n",
      " 22.00% ETA: [40.6s]Integrating from [19872000] to [20736000] ...\n",
      " 23.00% ETA: [38.4s]Integrating from [20736000] to [21600000] ...\n",
      " 24.00% ETA: [36.5s]Integrating from [21600000] to [22464000] ...\n",
      " 25.00% ETA: [34.6s]Integrating from [22464000] to [23328000] ...\n",
      " 26.00% ETA: [32.9s]Integrating from [23328000] to [24192000] ...\n",
      " 27.00% ETA: [31.3s]Integrating from [24192000] to [25056000] ...\n",
      " 28.00% ETA: [29.9s]Integrating from [25056000] to [25920000] ...\n",
      " 29.00% ETA: [28.5s]Integrating from [25920000] to [26784000] ...\n",
      " 30.00% ETA: [27.2s]Integrating from [26784000] to [27648000] ...\n",
      " 31.00% ETA: [26.0s]Integrating from [27648000] to [28512000] ...\n",
      " 32.00% ETA: [24.9s]Integrating from [28512000] to [29376000] ...\n",
      " 33.00% ETA: [23.9s]Integrating from [29376000] to [30240000] ...\n",
      " 34.00% ETA: [22.9s]Integrating from [30240000] to [31104000] ...\n",
      " 35.00% ETA: [21.9s]Integrating from [31104000] to [31968000] ...\n",
      " 36.00% ETA: [21.0s]Integrating from [31968000] to [32832000] ...\n",
      " 37.00% ETA: [20.2s]Integrating from [32832000] to [33696000] ...\n",
      " 38.00% ETA: [19.4s]Integrating from [33696000] to [34560000] ...\n",
      " 39.00% ETA: [18.7s]Integrating from [34560000] to [35424000] ...\n",
      " 40.00% ETA: [17.9s]Integrating from [35424000] to [36288000] ...\n",
      " 41.00% ETA: [17.2s]Integrating from [36288000] to [37152000] ...\n",
      " 42.00% ETA: [16.6s]Integrating from [37152000] to [38016000] ...\n",
      " 43.00% ETA: [16.0s]Integrating from [38016000] to [38880000] ...\n",
      " 44.00% ETA: [15.4s]Integrating from [38880000] to [39744000] ...\n",
      " 45.00% ETA: [14.8s]Integrating from [39744000] to [40608000] ...\n",
      " 46.00% ETA: [14.3s]Integrating from [40608000] to [41472000] ...\n",
      " 47.00% ETA: [13.7s]Integrating from [41472000] to [42336000] ...\n",
      " 48.00% ETA: [13.2s]Integrating from [42336000] to [43200000] ...\n",
      " 49.00% ETA: [12.7s]Integrating from [43200000] to [44064000] ...\n",
      " 50.00% ETA: [12.3s]Integrating from [44064000] to [44928000] ...\n",
      " 51.00% ETA: [11.8s]Integrating from [44928000] to [45792000] ...\n",
      " 52.00% ETA: [11.4s]Integrating from [45792000] to [46656000] ...\n",
      " 53.00% ETA: [11.5s]Integrating from [46656000] to [47520000] ...\n",
      " 54.00% ETA: [11.1s]Integrating from [47520000] to [48384000] ...\n",
      " 55.00% ETA: [10.7s]Integrating from [48384000] to [49248000] ...\n",
      " 56.00% ETA: [10.3s]Integrating from [49248000] to [50112000] ...\n",
      " 57.00% ETA: [09.9s]Integrating from [50112000] to [50976000] ...\n",
      " 58.00% ETA: [09.5s]Integrating from [50976000] to [51840000] ...\n",
      " 59.00% ETA: [09.2s]Integrating from [51840000] to [52704000] ...\n",
      " 60.00% ETA: [08.8s]Integrating from [52704000] to [53568000] ...\n",
      " 61.00% ETA: [08.5s]Integrating from [53568000] to [54432000] ...\n",
      " 62.00% ETA: [08.2s]Integrating from [54432000] to [55296000] ...\n",
      " 63.00% ETA: [07.8s]Integrating from [55296000] to [56160000] ...\n",
      " 64.00% ETA: [07.5s]Integrating from [56160000] to [57024000] ...\n",
      " 65.00% ETA: [07.2s]Integrating from [57024000] to [57888000] ...\n",
      " 66.00% ETA: [06.9s]Integrating from [57888000] to [58752000] ...\n",
      " 67.00% ETA: [06.6s]Integrating from [58752000] to [59616000] ...\n",
      " 68.00% ETA: [06.3s]Integrating from [59616000] to [60480000] ...\n",
      " 69.00% ETA: [06.1s]Integrating from [60480000] to [61344000] ...\n",
      " 70.00% ETA: [05.8s]Integrating from [61344000] to [62208000] ...\n",
      " 71.00% ETA: [05.5s]Integrating from [62208000] to [63072000] ...\n",
      " 72.00% ETA: [05.3s]Integrating from [63072000] to [63936000] ...\n",
      " 73.00% ETA: [05.0s]Integrating from [63936000] to [64800000] ...\n",
      " 74.00% ETA: [04.8s]Integrating from [64800000] to [65664000] ...\n",
      " 75.00% ETA: [04.5s]Integrating from [65664000] to [66528000] ...\n",
      " 76.00% ETA: [04.3s]Integrating from [66528000] to [67392000] ...\n",
      " 77.00% ETA: [04.1s]Integrating from [67392000] to [68256000] ...\n",
      " 78.00% ETA: [03.9s]Integrating from [68256000] to [69120000] ...\n",
      " 79.00% ETA: [03.7s]Integrating from [69120000] to [69984000] ...\n",
      " 80.00% ETA: [03.4s]Integrating from [69984000] to [70848000] ...\n",
      " 81.00% ETA: [03.2s]Integrating from [70848000] to [71712000] ...\n",
      " 82.00% ETA: [03.0s]Integrating from [71712000] to [72576000] ...\n",
      " 83.00% ETA: [02.8s]Integrating from [72576000] to [73440000] ...\n",
      " 84.00% ETA: [02.6s]Integrating from [73440000] to [74304000] ...\n",
      " 85.00% ETA: [02.5s]Integrating from [74304000] to [75168000] ...\n",
      " 86.00% ETA: [02.3s]Integrating from [75168000] to [76032000] ...\n",
      " 87.00% ETA: [02.1s]Integrating from [76032000] to [76896000] ...\n",
      " 88.00% ETA: [01.9s]Integrating from [76896000] to [77760000] ...\n",
      " 89.00% ETA: [01.7s]Integrating from [77760000] to [78624000] ...\n",
      " 90.00% ETA: [01.6s]Integrating from [78624000] to [79488000] ...\n",
      " 91.00% ETA: [01.4s]Integrating from [79488000] to [80352000] ...\n",
      " 92.00% ETA: [01.2s]Integrating from [80352000] to [81216000] ...\n",
      " 93.00% ETA: [01.1s]Integrating from [81216000] to [82080000] ...\n",
      " 94.00% ETA: [00.9s]Integrating from [82080000] to [82944000] ...\n",
      " 95.00% ETA: [00.7s]Integrating from [82944000] to [83808000] ...\n",
      " 96.00% ETA: [00.6s]Integrating from [83808000] to [84672000] ...\n",
      " 97.00% ETA: [00.4s]Integrating from [84672000] to [85536000] ...\n",
      " 98.00% ETA: [00.3s]Integrating from [85536000] to [86400000] ...\n",
      " 99.00% ETA: [00.1s]                              \n",
      " 100.00% ETA: [00.0s]The simulation has finished successfully!\n",
      " 100.00% ETA: [00.0s]                              \n",
      " 100.00% ETA: [00.0s]--------------------------------------------------------------\n",
      " 100.00% ETA: [00.0s]                             Time (s)   Rel.time (%)    Count\n",
      " 100.00% ETA: [00.0s]--------------------------------------------------------------\n",
      " 100.00% ETA: [00.0s]Simulation:                   \n",
      " 100.00% ETA: [00.0s]  Initialization                0.922              -        -\n",
      " 100.00% ETA: [00.0s]  Solve initial                 1.355          13.32        -\n",
      " 100.00% ETA: [00.0s]  Integration                   8.817          86.68        -\n",
      " 100.00% ETA: [00.0s]  Integ. + solve init.         10.172         100.00        -\n",
      " 100.00% ETA: [00.0s]  Lin.sol. + Resid.             0.675           6.63        -\n",
      " 100.00% ETA: [00.0s]  ------------------------------------------------------------\n",
      " 100.00% ETA: [00.0s]  Total                        11.093              -        -\n",
      " 100.00% ETA: [00.0s]--------------------------------------------------------------\n",
      " 100.00% ETA: [00.0s]DAE solver [Sundials IDAS]:   \n",
      " 100.00% ETA: [00.0s]  Steps                             -              -      114\n"
     ]
    },
    {
     "name": "stdout",
     "output_type": "stream",
     "text": [
      " 100.00% ETA: [00.0s]  Error test fails                  -              -        1\n",
      "  Residuals (DAE)                   -              -      145\n",
      " 100.00% ETA: [00.0s]  Residuals (total)             0.675           6.63      164\n",
      " 100.00% ETA: [00.0s]--------------------------------------------------------------\n",
      " 100.00% ETA: [00.0s]Non-linear solver [Sundials modified Newton]:\n",
      " 100.00% ETA: [00.0s]  Iterations                        -              -      143\n",
      " 100.00% ETA: [00.0s]  Conv. fails                       -              -        0\n",
      " 100.00% ETA: [00.0s]--------------------------------------------------------------\n",
      " 100.00% ETA: [00.0s]Linear solver [Sundials LU]:  \n",
      " 100.00% ETA: [00.0s]  Setup                         0.000           0.00        0\n",
      " 100.00% ETA: [00.0s]  Jacobian                      0.529           5.20       22\n",
      " 100.00% ETA: [00.0s]  Solve                         0.000           0.00        0\n",
      " 100.00% ETA: [00.0s]  Total LA                      0.000           0.00        -\n",
      " 100.00% ETA: [00.0s]--------------------------------------------------------------\n",
      " 100.00% ETA: [00.0s]Number of equations 2459\n"
     ]
    }
   ],
   "source": [
    "simulate.main(\n",
    "    name=filename,\n",
    "    input=\"{}_{}_pumped_season.json\".format(filename, suffix),\n",
    "    output=\"{}_{}_pumped_season.out.json\".format(filename, suffix),\n",
    "    initial_condition=\"{}_{}.out.json\".format(filename, suffix),\n",
    "    #init=\"{}_{}.out.json.init\".format(filename, suffix),\n",
    "    reporting_interval=10*24*3600,\n",
    "    time_horizon=1000*24*3600,\n",
    "    relative_tolerance=1e-3,\n",
    "    MaxStep=10*24*3600,\n",
    "    MaxNumSteps=100,\n",
    ")"
   ]
  },
  {
   "cell_type": "code",
   "execution_count": null,
   "metadata": {},
   "outputs": [],
   "source": []
  }
 ],
 "metadata": {
  "kernelspec": {
   "display_name": "Python 3",
   "language": "python",
   "name": "python3"
  },
  "language_info": {
   "codemirror_mode": {
    "name": "ipython",
    "version": 3
   },
   "file_extension": ".py",
   "mimetype": "text/x-python",
   "name": "python",
   "nbconvert_exporter": "python",
   "pygments_lexer": "ipython3",
   "version": "3.6.8"
  },
  "varInspector": {
   "cols": {
    "lenName": 16,
    "lenType": 16,
    "lenVar": 40
   },
   "kernels_config": {
    "python": {
     "delete_cmd_postfix": "",
     "delete_cmd_prefix": "del ",
     "library": "var_list.py",
     "varRefreshCmd": "print(var_dic_list())"
    },
    "r": {
     "delete_cmd_postfix": ") ",
     "delete_cmd_prefix": "rm(",
     "library": "var_list.r",
     "varRefreshCmd": "cat(var_dic_list()) "
    }
   },
   "types_to_exclude": [
    "module",
    "function",
    "builtin_function_or_method",
    "instance",
    "_Feature"
   ],
   "window_display": false
  }
 },
 "nbformat": 4,
 "nbformat_minor": 2
}
