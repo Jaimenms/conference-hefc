{
 "cells": [
  {
   "cell_type": "markdown",
   "metadata": {},
   "source": [
    "# Navajo - Dirty Startup"
   ]
  },
  {
   "cell_type": "markdown",
   "metadata": {
    "ExecuteTime": {
     "end_time": "2021-02-02T22:51:48.294510Z",
     "start_time": "2021-02-02T22:51:48.291780Z"
    }
   },
   "source": [
    "#### Packages"
   ]
  },
  {
   "cell_type": "code",
   "execution_count": 1,
   "metadata": {
    "ExecuteTime": {
     "end_time": "2021-02-14T15:00:21.522978Z",
     "start_time": "2021-02-14T15:00:20.915834Z"
    },
    "code_folding": []
   },
   "outputs": [],
   "source": [
    "import json\n",
    "from math import pi, ceil, sin, floor\n",
    "from scipy.optimize import root\n",
    "import numpy as np\n",
    "import os.path\n",
    "import sys\n",
    "sys.path.append(\"../\")\n",
    "import simulate\n",
    "from scipy.optimize import curve_fit\n",
    "\n",
    "from water_properties import density, viscosity, conductivity, heat_capacity\n",
    "from water_at_saturation_properties import saturation_temperature, vapour_density, vapour_total_compressibility,vaporization_enthalpy\n",
    "\n",
    "from simplified_simulation import *"
   ]
  },
  {
   "cell_type": "markdown",
   "metadata": {},
   "source": [
    "## Inputs e parameters"
   ]
  },
  {
   "cell_type": "code",
   "execution_count": 2,
   "metadata": {
    "ExecuteTime": {
     "end_time": "2021-02-14T15:00:21.529308Z",
     "start_time": "2021-02-14T15:00:21.525626Z"
    }
   },
   "outputs": [],
   "source": [
    "filename = \"navajo\"\n",
    "suffix = \"ds\" #dirty startup"
   ]
  },
  {
   "cell_type": "markdown",
   "metadata": {},
   "source": [
    "#### Constants"
   ]
  },
  {
   "cell_type": "code",
   "execution_count": 3,
   "metadata": {
    "ExecuteTime": {
     "end_time": "2021-02-14T15:00:21.536876Z",
     "start_time": "2021-02-14T15:00:21.532907Z"
    }
   },
   "outputs": [],
   "source": [
    "g = 9.80665 # m/s2 - gravitational acceleration\n",
    "pi = pi # pi"
   ]
  },
  {
   "cell_type": "markdown",
   "metadata": {},
   "source": [
    "#### Water Inlet"
   ]
  },
  {
   "cell_type": "code",
   "execution_count": 4,
   "metadata": {
    "ExecuteTime": {
     "end_time": "2021-02-14T15:00:21.543417Z",
     "start_time": "2021-02-14T15:00:21.540096Z"
    }
   },
   "outputs": [],
   "source": [
    "m = 16360 # kg/s cooling Water\n",
    "Tin = 29 + 273.15 # K\n",
    "Pin = 200000 # Pa"
   ]
  },
  {
   "cell_type": "markdown",
   "metadata": {},
   "source": [
    "#### Pipe Information"
   ]
  },
  {
   "cell_type": "code",
   "execution_count": 5,
   "metadata": {
    "ExecuteTime": {
     "end_time": "2021-02-14T15:00:21.551883Z",
     "start_time": "2021-02-14T15:00:21.546035Z"
    }
   },
   "outputs": [
    {
     "name": "stdout",
     "output_type": "stream",
     "text": [
      "Pipe diameter is 2.0453534779846856 m \n",
      "Pipe lenght is 50 m \n"
     ]
    }
   ],
   "source": [
    "v_pipe = 5.0 # m/s\n",
    "L_pipe = 50 # m\n",
    "water_density=density(Tin, Pin, simplified = True)\n",
    "water_viscosity = viscosity(Tin, Pin, simplified = True)\n",
    "D_pipe = 2 * (m / (pi * water_density * v_pipe )) ** 0.5\n",
    "print(\"Pipe diameter is {} m \".format(D_pipe))\n",
    "print(\"Pipe lenght is {} m \".format(L_pipe))"
   ]
  },
  {
   "cell_type": "markdown",
   "metadata": {},
   "source": [
    "#### Heat Exchanger Information"
   ]
  },
  {
   "cell_type": "code",
   "execution_count": 6,
   "metadata": {
    "ExecuteTime": {
     "end_time": "2021-02-14T15:00:21.563468Z",
     "start_time": "2021-02-14T15:00:21.555413Z"
    }
   },
   "outputs": [
    {
     "name": "stdout",
     "output_type": "stream",
     "text": [
      "Number of tubes per row are  834.5333333333333\n",
      "Number of rows is 30\n",
      "Number of tubes is 25036\n"
     ]
    }
   ],
   "source": [
    "Do = 0.0222 # m external diameter\n",
    "Di = Do - 2*0.0007 # m external diameter\n",
    "n_tubes = 25036\n",
    "arrange = \"triangle\"\n",
    "#arrange = \"square\"\n",
    "\n",
    "L = 18.3 # m tube length\n",
    "W = 1.8 * 2 # m bundle width\n",
    "ep = 5e-6 # m - roughness\n",
    "kwall = 11.8 # W / ( m * K )\n",
    "pitch = 0.0286 # m\n",
    "Rows = 30\n",
    "row_pitch = pitch\n",
    "tubes_per_width = n_tubes/Rows\n",
    "ResF= 0 # K/W\n",
    "ResF_to_film= 4.8e-5 # K/W ###############CLEAN\n",
    "\n",
    "Vext = L * W ** 2 # shell volume in m3\n",
    "\n",
    "print(\"Number of tubes per row are \", tubes_per_width)\n",
    "print(\"Number of rows is {number:.{digits}f}\".format(number=Rows,digits=0))\n",
    "print(\"Number of tubes is {number:.{digits}f}\".format(number=Rows*tubes_per_width,digits=0))"
   ]
  },
  {
   "cell_type": "code",
   "execution_count": 7,
   "metadata": {
    "ExecuteTime": {
     "end_time": "2021-02-14T15:00:21.572177Z",
     "start_time": "2021-02-14T15:00:21.566645Z"
    }
   },
   "outputs": [],
   "source": [
    "N_wetters = []\n",
    "row_index = np.linspace(1,Rows,num=Rows)\n",
    "for i in row_index:\n",
    "    if arrange == \"triangle\":\n",
    "        N_wetters.append(ceil(i/2)-1)\n",
    "    else:\n",
    "        N_wetters = row_index-1\n",
    "N_wetters = np.array(N_wetters)\n",
    "fNtub = ((N_wetters+1) ** (5/6) - N_wetters ** (5/6))"
   ]
  },
  {
   "cell_type": "code",
   "execution_count": 8,
   "metadata": {
    "ExecuteTime": {
     "end_time": "2021-02-14T15:00:21.586676Z",
     "start_time": "2021-02-14T15:00:21.578213Z"
    }
   },
   "outputs": [
    {
     "name": "stdout",
     "output_type": "stream",
     "text": [
      "Wall internal diameter is 0.0208\n",
      "Fouling internal diameter is 0.020550\n",
      "Fouling thickness is 124.95 um\n",
      "Fouling deposit mass is 0.337574 kg/m2\n"
     ]
    }
   ],
   "source": [
    "# Fouling\n",
    "Alc=300\n",
    "pH=10.5\n",
    "Ca=49.42\n",
    "\n",
    "# Fouling\n",
    "kf = 2.19 # W / ( m * K ) (Calcium carbonate)\n",
    "\n",
    "rhof = 2.71e3 # kg/m3\n",
    "Df = Di * np.exp(- (ResF_to_film* (pi * Di * L)) * 2 * kf / Di)\n",
    "lf = 1e6*(Di-Df)/2  # um fouling thickness\n",
    "\n",
    "mf = (Di ** 2 - Df ** 2) * rhof / (4 * Di) + 1e-3\n",
    "Rf = ResF * L / (pi * Di) \n",
    "\n",
    "print(\"Wall internal diameter is {number:.{digits}f}\".format(number=Di,digits=4))\n",
    "print(\"Fouling internal diameter is {number:.{digits}f}\".format(number=Df,digits=6))\n",
    "print(\"Fouling thickness is {number:.{digits}f} um\".format(number=1e6*(Di-Df)/2,digits=2))\n",
    "print(\"Fouling deposit mass is {number:.{digits}f} kg/m2\".format(number=mf,digits=6))"
   ]
  },
  {
   "cell_type": "markdown",
   "metadata": {
    "ExecuteTime": {
     "end_time": "2021-02-02T22:58:14.160605Z",
     "start_time": "2021-02-02T22:58:14.157780Z"
    }
   },
   "source": [
    "#### Operational Conditions"
   ]
  },
  {
   "cell_type": "code",
   "execution_count": 9,
   "metadata": {
    "ExecuteTime": {
     "end_time": "2021-02-14T15:00:21.595355Z",
     "start_time": "2021-02-14T15:00:21.590604Z"
    }
   },
   "outputs": [],
   "source": [
    "# Expected\n",
    "Tout_mean_expected = 45 + 273.15\n",
    "Pvap_expected = 13136# Pa\n",
    "Tvap_expected = 51.07 + 273.15\n",
    "Pout_expected = 177000\n",
    "Pout = 177000 # Pa\n",
    "Tout = Tout_mean_expected * np.ones(Rows) # K"
   ]
  },
  {
   "cell_type": "code",
   "execution_count": 10,
   "metadata": {
    "ExecuteTime": {
     "end_time": "2021-02-14T15:00:21.610104Z",
     "start_time": "2021-02-14T15:00:21.599747Z"
    }
   },
   "outputs": [
    {
     "name": "stdout",
     "output_type": "stream",
     "text": [
      "Expected heat duty to 1093.77 MW.\n",
      "Expected steam mass flowrate 459.69 kg/s.\n",
      "The exhaust steam density is equal to 0.08763 kg/m3.\n",
      "The exhaust steam vaporization heat is equal to 2379375 J/kg.\n"
     ]
    }
   ],
   "source": [
    "Tm_expected = 0.5 * (Tin + Tout_mean_expected) # K - mean cooling water temperature\n",
    "Pm_expected = 0.5 * (Pin + Pout) # Pa - mean cooling water pressure\n",
    "water_heat_capacity = heat_capacity(Tm_expected, Pm_expected, simplified = True)\n",
    "\n",
    "exhaust_steam_density = vapour_density(Pvap_expected, simplified = True)\n",
    "exhaust_vaporization_heat = vaporization_enthalpy(Pvap_expected, simplified = True)\n",
    "\n",
    "Q_expected = water_heat_capacity * m * (Tout_mean_expected - Tin)\n",
    "kvap_expected = Q_expected/exhaust_vaporization_heat\n",
    "\n",
    "\n",
    "print(\"Expected heat duty to {number:.{digits}f} MW.\".format(number=Q_expected*1e-6, digits=2))\n",
    "print(\"Expected steam mass flowrate {number:.{digits}f} kg/s.\".format(number=kvap_expected, digits=2))\n",
    "print(\"The exhaust steam density is equal to {number:.{digits}f} kg/m3.\"\\\n",
    "      .format(number=exhaust_steam_density, digits=5))\n",
    "print(\"The exhaust steam vaporization heat is equal to {number:.{digits}f} J/kg.\"\\\n",
    "      .format(number=exhaust_vaporization_heat, digits=0))\n",
    "#vaporization_enthalpy(Pvap, simplified=True)\n",
    "#print(Pvap, exhaust_vaporization_heat, vaporization_enthalpy(Pvap, simplified=True))"
   ]
  },
  {
   "cell_type": "markdown",
   "metadata": {},
   "source": [
    "#### Simulation specification"
   ]
  },
  {
   "cell_type": "code",
   "execution_count": 11,
   "metadata": {
    "ExecuteTime": {
     "end_time": "2021-02-14T15:00:21.618574Z",
     "start_time": "2021-02-14T15:00:21.614057Z"
    }
   },
   "outputs": [],
   "source": [
    "# Set\n",
    "Pvap = 13030 # Pa\n",
    "Tvap = saturation_temperature(Pvap, simplified = True)\n",
    "#print(Pvap, Tvap, saturation_temperature(Pvap, simplified=True))"
   ]
  },
  {
   "cell_type": "markdown",
   "metadata": {},
   "source": [
    "## Simplified model"
   ]
  },
  {
   "cell_type": "code",
   "execution_count": 12,
   "metadata": {
    "ExecuteTime": {
     "end_time": "2021-02-14T15:00:21.632973Z",
     "start_time": "2021-02-14T15:00:21.622565Z"
    }
   },
   "outputs": [],
   "source": [
    "Tout = Tout_mean_expected * np.ones(Rows) # K\n",
    "Tf_in = 1*Tin + 0*Tout + 0*Tvap\n",
    "Tf_out = 0*Tin + 1*Tout + 0*Tvap\n",
    "Ti_in = 1*Tin + 0*Tout + 0*Tvap\n",
    "Ti_out = 0*Tin + 1*Tout + 0*Tvap\n",
    "To_in = 0.5*Tin + 0*Tout + 0.5*Tvap\n",
    "To_out = 0*Tin + 0.5*Tout + 0.5*Tvap\n",
    "m_tube = 0*Tout + m/n_tubes\n",
    "x0 = [Pout_expected]\n",
    "\n",
    "for i in range(0, Rows):\n",
    "     x0 +=[Tout[i], Tf_in[i], Tf_out[i], Ti_in[i], Ti_out[i], To_in[i], To_out[i], m_tube[i]]"
   ]
  },
  {
   "cell_type": "code",
   "execution_count": 13,
   "metadata": {
    "ExecuteTime": {
     "end_time": "2021-02-14T15:00:23.452142Z",
     "start_time": "2021-02-14T15:00:21.636036Z"
    }
   },
   "outputs": [
    {
     "name": "stdout",
     "output_type": "stream",
     "text": [
      "\n",
      " -- ROW 0 --\n",
      "Restotal is 0.000235 W/(K)\n",
      "The row external convection coefficient is 14801.55 W/(K*m2)\n",
      "The row internal convection coefficient is 9805.51 W/(K*m2)\n",
      "The last row calculated internal resistance x length is 0.000086 K/W\n",
      "The last row calculated external resistance x length is 0.000053 K/W\n",
      "LMTD is 11.11 K\n",
      "The heat rate per tube is 47241.81 W\n",
      "U*A per tube is 4250.53 W/K\n",
      "Reswall is 0.000048 K/W\n",
      "Resint is 0.000086 K/W\n",
      "Resext is 0.000053 K/W\n",
      "Tf is 315.66 K\n",
      "Ti is 318.36 K\n",
      "To is 321.07 K\n",
      "Tvap is 324.06 K\n",
      "Cooling water inlet temperature is 302.15 K\n",
      "Cooling water outlet temperature is 319.43 W/K\n",
      "Water mean velocity is 1.99 m/s.\n",
      "Inlet Pressure is 200000.00 Pa.\n",
      "Outlet Pressure :  163687.87775248912\n",
      "Tube mass flowrate (kg/s) :  0.6543719835542475\n",
      "ResFouling (K/W) :  4.800000000000005e-05\n",
      "dmfdt (kg/m2day) :  3.290472092486912e-08\n",
      "\n",
      " -- ROW 29 --\n",
      "Restotal is 0.000300 W/(K)\n",
      "The row external convection coefficient is 6723.42 W/(K*m2)\n",
      "The row internal convection coefficient is 9687.05 W/(K*m2)\n",
      "The last row calculated internal resistance x length is 0.000087 K/W\n",
      "The last row calculated external resistance x length is 0.000117 K/W\n",
      "LMTD is 12.65 K\n",
      "The heat rate per tube is 42163.47 W\n",
      "U*A per tube is 3334.21 W/K\n",
      "Reswall is 0.000048 K/W\n",
      "Resint is 0.000087 K/W\n",
      "Resext is 0.000117 K/W\n",
      "Tf is 314.01 K\n",
      "Ti is 316.28 K\n",
      "To is 318.55 K\n",
      "Tvap is 324.06 K\n",
      "Cooling water inlet temperature is 302.15 K\n",
      "Cooling water outlet temperature is 317.60 W/K\n",
      "Water mean velocity is 1.98 m/s.\n",
      "Inlet Pressure is 200000.00 Pa.\n",
      "Outlet Pressure :  163687.87775248912\n",
      "Tube mass flowrate (kg/s) :  0.6530742335232124\n",
      "ResFouling (K/W) :  4.800000000000005e-05\n",
      "dmfdt (kg/m2day) :  3.212322820047249e-08\n"
     ]
    }
   ],
   "source": [
    "args = (m, Tvap, Tin, Pin, Pvap, fNtub, Rows, tubes_per_width, kf, kwall, ep, L, Df, Do, Di, Ca, Alc, pH)\n",
    "        \n",
    "x = solve(x0, *args)\n",
    "\n",
    "results = calculate_results(x,*args)"
   ]
  },
  {
   "cell_type": "code",
   "execution_count": 14,
   "metadata": {
    "ExecuteTime": {
     "end_time": "2021-02-14T15:00:23.462868Z",
     "start_time": "2021-02-14T15:00:23.454710Z"
    }
   },
   "outputs": [
    {
     "name": "stdout",
     "output_type": "stream",
     "text": [
      "The total steam flowrate is 459.36 kg/s\n",
      "The total heat load of condensation is 1093.18 MW\n",
      "The cooling water CALCULATED mean outlet temperature is 318.14 K\n",
      "The cooling water EXPECTED mean outlet temperature is 318.15 K\n",
      "Cooling Water outlet temp deviation is -0.02 %\n",
      "Steam temp deviation is -0.32 %\n"
     ]
    }
   ],
   "source": [
    "# Calculating final results\n",
    "Q_total = 0\n",
    "kvap_calc = 0\n",
    "Tout_mean = 0\n",
    "Pout_mean = Pout\n",
    "m_tube_aux = 0\n",
    "for i in range(0, Rows):\n",
    "    Q_total += results[i][\"Q\"]*tubes_per_width\n",
    "    kvap_calc += results[i][\"kvap\"]\n",
    "    Tout_mean += results[i][\"Tout\"]*results[i][\"m_tube\"]\n",
    "    m_tube_aux += results[i][\"m_tube\"]\n",
    "Tout_mean = Tout_mean/m_tube_aux\n",
    "    \n",
    "print(\"The total steam flowrate is {number:.{digits}f} kg/s\".format(number=kvap_calc, digits=2))\n",
    "print(\"The total heat load of condensation is {number:.{digits}f} MW\".format(number=1e-6*Q_total, digits=2))\n",
    "print(\"The cooling water CALCULATED mean outlet temperature is {number:.{digits}f} K\".format(number=Tout_mean,digits=2))\n",
    "print(\"The cooling water EXPECTED mean outlet temperature is {number:.{digits}f} K\".format(number=Tout_mean_expected,digits=2))\n",
    "print(\"Cooling Water outlet temp deviation is {number:.{digits}f} %\".format(number=(Tout_mean-Tout_mean_expected)/(Tout_mean_expected-273.15)*100,digits=2))\n",
    "print(\"Steam temp deviation is {number:.{digits}f} %\".format(number=(Tvap-Tvap_expected)/(Tvap_expected - 273.15)*100,digits=2))"
   ]
  },
  {
   "cell_type": "markdown",
   "metadata": {
    "ExecuteTime": {
     "end_time": "2021-02-03T23:27:46.228526Z",
     "start_time": "2021-02-03T23:27:46.225902Z"
    }
   },
   "source": [
    "## Daetools Simulations "
   ]
  },
  {
   "cell_type": "code",
   "execution_count": 15,
   "metadata": {
    "ExecuteTime": {
     "end_time": "2021-02-14T15:00:23.467733Z",
     "start_time": "2021-02-14T15:00:23.465140Z"
    }
   },
   "outputs": [],
   "source": [
    "Nelements = 15"
   ]
  },
  {
   "cell_type": "code",
   "execution_count": 16,
   "metadata": {
    "ExecuteTime": {
     "end_time": "2021-02-14T15:00:23.473853Z",
     "start_time": "2021-02-14T15:00:23.470143Z"
    }
   },
   "outputs": [],
   "source": [
    "def prepare_initial_estimate(results, key1, key2):\n",
    "    return np.array([list(np.linspace(result[key1], result[key2], Nelements)) for result in results]).T.tolist()"
   ]
  },
  {
   "cell_type": "markdown",
   "metadata": {},
   "source": [
    "#### Initial estimate for Steady State with fixed To"
   ]
  },
  {
   "cell_type": "code",
   "execution_count": 17,
   "metadata": {
    "ExecuteTime": {
     "end_time": "2021-02-14T15:01:19.030406Z",
     "start_time": "2021-02-14T15:00:23.476683Z"
    }
   },
   "outputs": [
    {
     "name": "stdout",
     "output_type": "stream",
     "text": [
      "Creating the system...        \n",
      "The system created successfully.\n",
      " 0.00% ETA: [00.0s]Starting the initialization of the system... Done.\n",
      " 0.00% ETA: [00.0s]Saving Initialization Values\n",
      "Integrating from [0] to [1] ...\n",
      " 0.00% ETA: [00.0s]                              \n",
      " 100.00% ETA: [00.0s]The simulation has finished successfully!\n",
      " 100.00% ETA: [00.0s]                              \n",
      " 100.00% ETA: [00.0s]--------------------------------------------------------------\n",
      " 100.00% ETA: [00.0s]                             Time (s)   Rel.time (%)    Count\n",
      " 100.00% ETA: [00.0s]--------------------------------------------------------------\n",
      " 100.00% ETA: [00.0s]Simulation:                   \n",
      " 100.00% ETA: [00.0s]  Initialization                2.316              -        -\n",
      " 100.00% ETA: [00.0s]  Solve initial                16.863          31.79        -\n",
      " 100.00% ETA: [00.0s]  Integration                  36.185          68.21        -\n",
      " 100.00% ETA: [00.0s]  Integ. + solve init.         53.048         100.00        -\n",
      " 100.00% ETA: [00.0s]  Lin.sol. + Resid.             0.291           0.55        -\n",
      " 100.00% ETA: [00.0s]  ------------------------------------------------------------\n",
      " 100.00% ETA: [00.0s]  Total                        55.364              -        -\n",
      " 100.00% ETA: [00.0s]--------------------------------------------------------------\n",
      " 100.00% ETA: [00.0s]DAE solver [Sundials IDAS]:   \n",
      " 100.00% ETA: [00.0s]  Steps                             -              -       11\n",
      " 100.00% ETA: [00.0s]  Error test fails                  -              -        0\n",
      " 100.00% ETA: [00.0s]  Residuals (DAE)                   -              -       30\n",
      " 100.00% ETA: [00.0s]  Residuals (total)             0.291           0.55       30\n",
      " 100.00% ETA: [00.0s]--------------------------------------------------------------\n",
      " 100.00% ETA: [00.0s]Non-linear solver [Sundials modified Newton]:\n",
      " 100.00% ETA: [00.0s]  Iterations                        -              -       25\n",
      " 100.00% ETA: [00.0s]  Conv. fails                       -              -        0\n",
      " 100.00% ETA: [00.0s]--------------------------------------------------------------\n",
      " 100.00% ETA: [00.0s]Linear solver [Sundials LU]:  \n",
      " 100.00% ETA: [00.0s]  Setup                         0.000           0.00        0\n",
      " 100.00% ETA: [00.0s]  Jacobian                      0.849           1.60       12\n",
      " 100.00% ETA: [00.0s]  Solve                         0.000           0.00        0\n",
      " 100.00% ETA: [00.0s]  Total LA                      0.000           0.00        -\n",
      " 100.00% ETA: [00.0s]--------------------------------------------------------------\n",
      " 100.00% ETA: [00.0s]Number of equations 6398\n"
     ]
    }
   ],
   "source": [
    "data = {\n",
    "\n",
    "    \"node_B\": {\n",
    "        \"kind\": \"node\",\n",
    "        \"module\": \"models.source\",\n",
    "        \"class\": \"Source\",\n",
    "        \"steady_state\": True,\n",
    "        \"specifications\": {\n",
    "            \"w\": m,\n",
    "        },\n",
    "        \"parameters\": {\n",
    "            \"Text\": Tin,\n",
    "            \"Pext\": Pin,\n",
    "            \"x\": 0.0,\n",
    "            \"y\": 0.0,\n",
    "            \"z\": 0.0\n",
    "        },\n",
    "        \"initial_guess\": {\n",
    "            \"w\": m,\n",
    "            \"P\": Pin,\n",
    "            \"T\": Tin\n",
    "        }\n",
    "    },   \n",
    "    \n",
    "        \"condenser\": {\n",
    "        \"kind\": \"edge\",\n",
    "\n",
    "        \"module\": \"models.carbfilmed_fixed_external_temperature_tube_arrange\",\n",
    "        \"class\": \"CarbfilmedFixedExternalTemperatureTubeArrange\",\n",
    "\n",
    "        #\"module\": \"models.tube_arrange\",\n",
    "        #\"class\": \"TubeArrange\",\n",
    "\n",
    "        \"from\": \"node_B\",\n",
    "        \"to\": \"node_C\",\n",
    "        \"domains\": {\n",
    "            \"x\": {\n",
    "                \"initial\": 0.0,\n",
    "                \"final\": 1.0,\n",
    "                \"N\": Nelements\n",
    "            },\n",
    "            \"y\": {\n",
    "                \"N\": Rows\n",
    "            },\n",
    "\n",
    "        },\n",
    "        \"states\": {\n",
    "            'stnFouling': \"Static\",\n",
    "        },\n",
    "        \"parameters\": {\n",
    "            \"Di\": Di,\n",
    "            \"tetha\": 0.0,\n",
    "            \"L\": L,\n",
    "            \"epw\": ep,\n",
    "            \"Klb\": 0.0,\n",
    "            \"Kub\": 0.0,\n",
    "            \"Npipes\": n_tubes/Rows,\n",
    "            \"kwall\": kwall,\n",
    "            \"Do\": Do,\n",
    "            \"ResF\": 0.0,\n",
    "            \"mfi\": mf,\n",
    "            \"Alc\": Alc,\n",
    "            \"pH\": pH,\n",
    "            \"Ca\": Ca,\n",
    "\n",
    "\n",
    "\n",
    "        },\n",
    "        \"steady_state\": True,\n",
    "        \"specifications\": {\n",
    "            \"To\": prepare_initial_estimate(results, \"To_in\", \"To_out\"),\n",
    "        },\n",
    "        \"initial_guess\": {\n",
    "            \"D\": Df,\n",
    "            \"v\": prepare_initial_estimate(results, \"v\", \"v\"),\n",
    "            \"k\": prepare_initial_estimate(results, \"m_tube\", \"m_tube\"),\n",
    "            \"T\": prepare_initial_estimate(results, \"Tin\", \"Tout\"),\n",
    "            \"P\": prepare_initial_estimate(results, \"Pin\", \"Pout\"),\n",
    "            \"hint\": prepare_initial_estimate(results, \"hint\", \"hint\"),\n",
    "            \"Ti\": prepare_initial_estimate(results, \"Ti_in\", \"Ti_out\"),\n",
    "            \"mf\": mf,\n",
    "            \"Rf\": Rf,\n",
    "            \"phid\": prepare_initial_estimate(results, \"phid\", \"phid\"),\n",
    "            \"phir\": prepare_initial_estimate(results, \"phir\", \"phir\"),\n",
    "        }\n",
    "    },\n",
    "    \n",
    "        \"node_C\": {\n",
    "        \"kind\": \"node\",\n",
    "        \"module\": \"models.sink\",\n",
    "        \"class\": \"Sink\",\n",
    "        \"steady_state\": True,\n",
    "        \"specifications\": {\n",
    "            \"P\": Pout,\n",
    "        },\n",
    "        \"parameters\": {\n",
    "            \"Text\": Tout_mean,\n",
    "            \"Pext\": Pout,\n",
    "            \"x\": 0.0,\n",
    "            \"y\": 0.0,\n",
    "            \"z\": 0.0\n",
    "        },\n",
    "        \"initial_guess\": {\n",
    "            \"w\": m,\n",
    "            \"P\": Pout,\n",
    "            \"T\": Tout_mean\n",
    "\n",
    "        }\n",
    "    }, \n",
    "    \n",
    "}\n",
    "\n",
    "with open(\"{}_{}_pre.json\".format(filename, suffix), 'w') as outfile:\n",
    "    json.dump(data, outfile, indent=4)\n",
    "    \n",
    "simulate.main(\n",
    "    name=filename,\n",
    "    input=\"{}_{}_pre.json\".format(filename, suffix),\n",
    "    output=\"{}_{}_pre.out.json\".format(filename, suffix),\n",
    "    reporting_interval=1,\n",
    "    time_horizon=1,\n",
    "    relative_tolerance=1e-1,\n",
    "    MaxStep=1,\n",
    "    MaxNumSteps=1000000,\n",
    ")"
   ]
  },
  {
   "cell_type": "markdown",
   "metadata": {
    "ExecuteTime": {
     "end_time": "2021-02-12T07:49:15.344674Z",
     "start_time": "2021-02-12T07:49:15.341881Z"
    }
   },
   "source": [
    "#### Initial Estimate with complete model"
   ]
  },
  {
   "cell_type": "code",
   "execution_count": 18,
   "metadata": {
    "ExecuteTime": {
     "end_time": "2021-02-14T15:03:17.691413Z",
     "start_time": "2021-02-14T15:01:19.033039Z"
    }
   },
   "outputs": [
    {
     "name": "stdout",
     "output_type": "stream",
     "text": [
      "Creating the system...        \n",
      "The system created successfully.\n",
      " 0.00% ETA: [00.0s]Starting the initialization of the system... Done.\n",
      " 0.00% ETA: [00.0s]Saving Initialization Values\n",
      "Integrating from [0] to [1] ...\n",
      " 0.00% ETA: [00.0s]                              \n",
      " 100.00% ETA: [00.0s]The simulation has finished successfully!\n",
      " 100.00% ETA: [00.0s]                              \n",
      " 100.00% ETA: [00.0s]--------------------------------------------------------------\n",
      " 100.00% ETA: [00.0s]                             Time (s)   Rel.time (%)    Count\n",
      " 100.00% ETA: [00.0s]--------------------------------------------------------------\n",
      " 100.00% ETA: [00.0s]Simulation:                   \n",
      " 100.00% ETA: [00.0s]  Initialization                3.119              -        -\n",
      " 100.00% ETA: [00.0s]  Solve initial                35.791          31.13        -\n",
      " 100.00% ETA: [00.0s]  Integration                  79.194          68.87        -\n",
      " 100.00% ETA: [00.0s]  Integ. + solve init.        114.985         100.00        -\n",
      " 100.00% ETA: [00.0s]  Lin.sol. + Resid.             0.434           0.38        -\n",
      " 100.00% ETA: [00.0s]  ------------------------------------------------------------\n",
      " 100.00% ETA: [00.0s]  Total                       118.104              -        -\n",
      " 100.00% ETA: [00.0s]--------------------------------------------------------------\n",
      " 100.00% ETA: [00.0s]DAE solver [Sundials IDAS]:   \n",
      " 100.00% ETA: [00.0s]  Steps                             -              -       11\n",
      " 100.00% ETA: [00.0s]  Error test fails                  -              -        0\n",
      " 100.00% ETA: [00.0s]  Residuals (DAE)                   -              -       37\n",
      " 100.00% ETA: [00.0s]  Residuals (total)             0.434           0.38       37\n",
      " 100.00% ETA: [00.0s]--------------------------------------------------------------\n",
      " 100.00% ETA: [00.0s]Non-linear solver [Sundials modified Newton]:\n",
      " 100.00% ETA: [00.0s]  Iterations                        -              -       27\n",
      " 100.00% ETA: [00.0s]  Conv. fails                       -              -        0\n",
      " 100.00% ETA: [00.0s]--------------------------------------------------------------\n",
      " 100.00% ETA: [00.0s]Linear solver [Sundials LU]:  \n",
      " 100.00% ETA: [00.0s]  Setup                         0.000           0.00        0\n",
      " 100.00% ETA: [00.0s]  Jacobian                      0.795           0.69       12\n",
      " 100.00% ETA: [00.0s]  Solve                         0.000           0.00        0\n",
      " 100.00% ETA: [00.0s]  Total LA                      0.000           0.00        -\n",
      " 100.00% ETA: [00.0s]--------------------------------------------------------------\n",
      " 100.00% ETA: [00.0s]Number of equations 7302\n",
      "Simulated Steam Pressure 12625.015885 Pa\n",
      "Simulated Steam Temperature 50.27 oC\n",
      "Simulated Cooling Water Inlet Temperature 29.00 oC\n",
      "Simulated Cooling Water Outlet Temperature 45.21 oC\n",
      "Simulated Steam flowrate 459.36 kg/s\n",
      "Simulated Steam Pressure 1093.88 Pa\n",
      "Cooling Water outlet temp deviation is 0.46 %\n",
      "Steam temp deviation is -1.57 %\n"
     ]
    }
   ],
   "source": [
    "data2 = data.copy()\n",
    "\n",
    "data2[\"condenser\"] = {\n",
    "        \"kind\": \"edge\",\n",
    "\n",
    "        \"module\": \"models.carbfilmed_external_film_cond_tube_arrange\",\n",
    "        \"class\": \"CarbfilmedExternalFilmCondensationTubeArrange\",\n",
    "\n",
    "        \"from\": \"node_B\",\n",
    "        \"to\": \"node_C\",\n",
    "        \"domains\": {\n",
    "            \"x\": {\n",
    "                \"initial\": 0.0,\n",
    "                \"final\": 1.0,\n",
    "                \"N\": Nelements\n",
    "            },\n",
    "            \"y\": {\n",
    "                \"N\": Rows\n",
    "            },\n",
    "\n",
    "        },\n",
    "        \"states\": {\n",
    "            'stnRegulator': 'Closed',\n",
    "            'stnShellPressure': 'Variable',\n",
    "            'stnFouling': \"Static\",\n",
    "        },\n",
    "\n",
    "        \"parameters\": {\n",
    "            \"Di\": Di,\n",
    "            \"tetha\": 0.0,\n",
    "            \"L\": L,\n",
    "            \"epw\": ep,\n",
    "            \"Klb\": 0.0,\n",
    "            \"Kub\": 0.0,\n",
    "            \"Npipes\": n_tubes/Rows,\n",
    "            \"kwall\": kwall,\n",
    "            \"Do\": Do,\n",
    "            \"PextH\": 100000,\n",
    "            \"PextSP\": -1,\n",
    "            \"Pext0\": Pvap,\n",
    "            \"Vext\": Vext,\n",
    "            \"kvap\": kvap_calc,\n",
    "            \"fNtub\": list(fNtub),\n",
    "            \"ResF\": 0.0,\n",
    "            \"mfi\": mf,\n",
    "             \"Alc\": Alc,\n",
    "            \"pH\": pH,\n",
    "            \"Ca\": Ca,\n",
    "\n",
    "\n",
    "\n",
    "        },\n",
    "        \"steady_state\": True,\n",
    "        \"specifications\": {\n",
    "            #\"kcond\": 0.0,\n",
    "            #\"Pext\": Pvap,\n",
    "            #\"Text\": Tvap,\n",
    "            #\"wext\": 0.0,\n",
    "            #\"To\": prepare_initial_estimate(results, \"To_in\", \"To_out\"),\n",
    "        },\n",
    "        \"initial_guess\": {\n",
    "            \"D\": Df,\n",
    "            \"v\": prepare_initial_estimate(results, \"v\", \"v\"),\n",
    "            \"k\": prepare_initial_estimate(results, \"m_tube\", \"m_tube\"),\n",
    "            \"T\": prepare_initial_estimate(results, \"Tin\", \"Tout\"),\n",
    "            \"P\": prepare_initial_estimate(results, \"Pin\", \"Pout\"),\n",
    "            \"hint\": prepare_initial_estimate(results, \"hint\", \"hint\"),\n",
    "            \"hext\": prepare_initial_estimate(results, \"hext\", \"hext\"),\n",
    "            \"Pext\": Pvap,\n",
    "            \"Text\": Tvap,\n",
    "            \"Ti\": prepare_initial_estimate(results, \"Ti_in\", \"Ti_out\"),\n",
    "            #\"Qout\": 0.0,\n",
    "            \"To\": prepare_initial_estimate(results, \"To_in\", \"To_out\"),\n",
    "            \"kcond\": kvap_calc,\n",
    "            #\"wext\": 0.0,\n",
    "            \"mf\": mf,\n",
    "            \"Rf\": Rf,\n",
    "            \"phid\": prepare_initial_estimate(results, \"phid\", \"phid\"),\n",
    "            \"phir\": prepare_initial_estimate(results, \"phir\", \"phir\"),\n",
    "        }\n",
    "}\n",
    "\n",
    "with open(\"{}_{}.json\".format(filename, suffix), 'w') as outfile:\n",
    "    json.dump(data2, outfile, indent=4)\n",
    "    \n",
    "simulate.main(\n",
    "    name=filename,\n",
    "    input=\"{}_{}.json\".format(filename, suffix),\n",
    "    output=\"{}_{}.out.json\".format(filename, suffix),\n",
    "    initial_condition=\"{}_{}_pre.out.json\".format(filename, suffix),\n",
    "    reporting_interval=1,\n",
    "    time_horizon=1,\n",
    "    relative_tolerance=1e-3,\n",
    "    MaxStep=1,\n",
    "    MaxNumSteps=1000000,\n",
    "\n",
    ")\n",
    "\n",
    "with open(\"{}_{}.out.json\".format(filename, suffix)) as f:\n",
    "    json_data=f.read()\n",
    "output = json.loads(json_data)\n",
    "\n",
    "Tout_sim = output[\"node_C.T\"][\"Values\"][-1]\n",
    "Tvap_sim = output[\"condenser.Text\"][\"Values\"][-1]\n",
    "\n",
    "print(\"Simulated Steam Pressure {number:.{digits}f} Pa\".format(\n",
    "    number=output[\"condenser.Pext\"][\"Values\"][-1],digits=6)\n",
    "     )\n",
    "print(\"Simulated Steam Temperature {number:.{digits}f} oC\".format(\n",
    "    number=Tvap_sim-273.15,digits=2)\n",
    "     )\n",
    "print(\"Simulated Cooling Water Inlet Temperature {number:.{digits}f} oC\".format(\n",
    "    number=output[\"node_B.T\"][\"Values\"][-1]-273.15,digits=2)\n",
    "     )\n",
    "print(\"Simulated Cooling Water Outlet Temperature {number:.{digits}f} oC\".format(\n",
    "    number=Tout_sim-273.15,digits=2)\n",
    "     )\n",
    "print(\"Simulated Steam flowrate {number:.{digits}f} kg/s\".format(\n",
    "    number=output[\"condenser.kvap\"][\"Values\"][-1],digits=2)\n",
    "     )\n",
    "print(\"Simulated Steam Pressure {number:.{digits}f} Pa\".format(\n",
    "    number=sum(np.array(output[\"condenser.Qtotal\"][\"Values\"][-1]))/1e6,digits=2)\n",
    "     )\n",
    "\n",
    "print(\"Cooling Water outlet temp deviation is {number:.{digits}f} %\".format(number=(Tout_sim-Tout_mean_expected)/(Tout_mean_expected-273.15)*100,digits=2))\n",
    "print(\"Steam temp deviation is {number:.{digits}f} %\".format(number=(Tvap_sim-Tvap_expected)/(Tvap_expected - 273.15)*100,digits=2))"
   ]
  },
  {
   "cell_type": "code",
   "execution_count": null,
   "metadata": {},
   "outputs": [],
   "source": []
  }
 ],
 "metadata": {
  "kernelspec": {
   "display_name": "Python 3",
   "language": "python",
   "name": "python3"
  },
  "language_info": {
   "codemirror_mode": {
    "name": "ipython",
    "version": 3
   },
   "file_extension": ".py",
   "mimetype": "text/x-python",
   "name": "python",
   "nbconvert_exporter": "python",
   "pygments_lexer": "ipython3",
   "version": "3.6.8"
  },
  "varInspector": {
   "cols": {
    "lenName": 16,
    "lenType": 16,
    "lenVar": 40
   },
   "kernels_config": {
    "python": {
     "delete_cmd_postfix": "",
     "delete_cmd_prefix": "del ",
     "library": "var_list.py",
     "varRefreshCmd": "print(var_dic_list())"
    },
    "r": {
     "delete_cmd_postfix": ") ",
     "delete_cmd_prefix": "rm(",
     "library": "var_list.r",
     "varRefreshCmd": "cat(var_dic_list()) "
    }
   },
   "types_to_exclude": [
    "module",
    "function",
    "builtin_function_or_method",
    "instance",
    "_Feature"
   ],
   "window_display": false
  }
 },
 "nbformat": 4,
 "nbformat_minor": 2
}
