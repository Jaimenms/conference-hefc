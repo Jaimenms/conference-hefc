{
 "cells": [
  {
   "cell_type": "code",
   "execution_count": 1,
   "id": "fresh-denial",
   "metadata": {
    "ExecuteTime": {
     "end_time": "2021-02-14T15:06:35.747184Z",
     "start_time": "2021-02-14T15:06:35.352585Z"
    }
   },
   "outputs": [],
   "source": [
    "import numpy as np\n",
    "import matplotlib\n",
    "import matplotlib.pyplot as plt\n",
    "import json\n",
    "plt.style.use('./paper.mplstyle')"
   ]
  },
  {
   "cell_type": "code",
   "execution_count": 2,
   "id": "funny-documentary",
   "metadata": {
    "ExecuteTime": {
     "end_time": "2021-02-14T15:06:35.781072Z",
     "start_time": "2021-02-14T15:06:35.750257Z"
    }
   },
   "outputs": [
    {
     "name": "stdout",
     "output_type": "stream",
     "text": [
      "Pvap [ 5185.47537253 12625.01588457  6578.7068181 ]\n",
      "Tvap [306.76676871 323.42047514 311.01396193]\n",
      "kvap [101.1398116  459.36300671  33.13153565]\n",
      "Tout [300.6471981  318.35816166 303.64019978]\n",
      "m [ 3859. 16360.  2448.]\n"
     ]
    }
   ],
   "source": [
    "cases = (\"colesoncove_ds.out.json\", \"navajo_ds.out.json\", \"belchatow_ds.out.json\")\n",
    "labels = (\n",
    "    \"Coleson Cove\\nGeneration Station\",\n",
    "    \"Navajo\\nGeneration Station\",\n",
    "    \"Condenser at\\nBechatow, Poland\",\n",
    ")\n",
    "\n",
    "Pvap = []\n",
    "Tvap = []\n",
    "kvap = []\n",
    "Tout = []\n",
    "m = []\n",
    "\n",
    "for case in cases:\n",
    "    with open(case) as f:\n",
    "        json_data=f.read()\n",
    "    output = json.loads(json_data)\n",
    "    Pvap.append(output[\"condenser.Pext\"][\"Values\"][-1])\n",
    "    Tvap.append(output[\"condenser.Text\"][\"Values\"][-1])\n",
    "    kvap.append(output[\"condenser.kvap\"][\"Values\"][-1])\n",
    "    Tout.append(output[\"node_C.T\"][\"Values\"][-1])\n",
    "    m.append(output[\"node_C.w\"][\"Values\"][-1])\n",
    "Pvap = np.array(Pvap)\n",
    "Tvap = np.array(Tvap)\n",
    "kvap = np.array(kvap)\n",
    "Tout = np.array(Tout)\n",
    "m = np.array(m)\n",
    "Tvap_Celsius = Tvap - 273.15\n",
    "\n",
    "print(\"Pvap\", Pvap)\n",
    "print(\"Tvap\", Tvap)\n",
    "print(\"kvap\", kvap)\n",
    "print(\"Tout\", Tout)\n",
    "print(\"m\", m)"
   ]
  },
  {
   "cell_type": "code",
   "execution_count": 3,
   "id": "complete-tennis",
   "metadata": {
    "ExecuteTime": {
     "end_time": "2021-02-14T15:06:35.790402Z",
     "start_time": "2021-02-14T15:06:35.786729Z"
    }
   },
   "outputs": [],
   "source": [
    "Tvap_exp = np.array([34.3, 51.07, 37.96])\n",
    "Tvap_tga = Tvap_exp * (1 + np.array([-9.43, -3.79, -1.15])/100)"
   ]
  },
  {
   "cell_type": "code",
   "execution_count": 4,
   "id": "engaged-finland",
   "metadata": {
    "ExecuteTime": {
     "end_time": "2021-02-14T15:06:35.801773Z",
     "start_time": "2021-02-14T15:06:35.794143Z"
    }
   },
   "outputs": [],
   "source": [
    "def autolabel(rects):\n",
    "    \"\"\"Attach a text label above each bar in *rects*, displaying its height.\"\"\"\n",
    "    for rect in rects:\n",
    "        height = rect.get_height()\n",
    "        ax.annotate(\"{number:.{digits}f}\".format(number=height, digits=2),\n",
    "                    xy=(rect.get_x() + rect.get_width() / 2, height),\n",
    "                    xytext=(0, 3),  # 3 points vertical offset\n",
    "                    textcoords=\"offset points\",\n",
    "                    fontsize=13,\n",
    "                    ha='center', va='bottom')"
   ]
  },
  {
   "cell_type": "code",
   "execution_count": 5,
   "id": "russian-valuation",
   "metadata": {
    "ExecuteTime": {
     "end_time": "2021-02-14T15:06:40.297423Z",
     "start_time": "2021-02-14T15:06:35.804882Z"
    }
   },
   "outputs": [
    {
     "data": {
      "image/png": "[encoded data removed]",
      "text/plain": [
       "<Figure size 504x432 with 1 Axes>"
      ]
     },
     "metadata": {
      "needs_background": "light"
     },
     "output_type": "display_data"
    }
   ],
   "source": [
    "x = np.arange(len(labels))  # the label locations\n",
    "width = 0.25  # the width of the bars\n",
    "\n",
    "fig, ax = plt.subplots(figsize=(7, 6))\n",
    "rects1 = ax.bar(x - width, Tvap_exp, width, edgecolor='black', color=\"white\", label='Measured', hatch=\"///\")\n",
    "rects2 = ax.bar(x + 0, Tvap_Celsius, width, edgecolor='black', color=\"red\", label='Simulated', hatch=\"--\")\n",
    "rects3 = ax.bar(x + width, Tvap_tga, width, edgecolor='black', color=\"blue\", label='Shin et al., 2020', hatch=\"\\\\\\\\\\\\\")\n",
    "\n",
    "# Add some text for labels, title and custom x-axis tick labels, etc.\n",
    "ax.set_ylabel('Steam Temperature (°C)')\n",
    "#ax.set_title('Validation')\n",
    "ax.set_xticks(x)\n",
    "ax.set_xticklabels(labels)\n",
    "plt.tick_params(\n",
    "    axis='x', which='both', bottom=False, top=False, labelbottom=True)\n",
    "ax.legend()\n",
    "plt.ylim(0, 60)\n",
    "\n",
    "autolabel(rects1)\n",
    "autolabel(rects2)\n",
    "autolabel(rects3)\n",
    "\n",
    "#fig.tight_layout()\n",
    "\n",
    "plt.savefig('./figures/validation.pdf')\n",
    "plt.show()\n"
   ]
  },
  {
   "cell_type": "code",
   "execution_count": null,
   "id": "homeless-blind",
   "metadata": {},
   "outputs": [],
   "source": []
  }
 ],
 "metadata": {
  "kernelspec": {
   "display_name": "Python 3",
   "language": "python",
   "name": "python3"
  },
  "language_info": {
   "codemirror_mode": {
    "name": "ipython",
    "version": 3
   },
   "file_extension": ".py",
   "mimetype": "text/x-python",
   "name": "python",
   "nbconvert_exporter": "python",
   "pygments_lexer": "ipython3",
   "version": "3.6.8"
  },
  "varInspector": {
   "cols": {
    "lenName": 16,
    "lenType": 16,
    "lenVar": 40
   },
   "kernels_config": {
    "python": {
     "delete_cmd_postfix": "",
     "delete_cmd_prefix": "del ",
     "library": "var_list.py",
     "varRefreshCmd": "print(var_dic_list())"
    },
    "r": {
     "delete_cmd_postfix": ") ",
     "delete_cmd_prefix": "rm(",
     "library": "var_list.r",
     "varRefreshCmd": "cat(var_dic_list()) "
    }
   },
   "types_to_exclude": [
    "module",
    "function",
    "builtin_function_or_method",
    "instance",
    "_Feature"
   ],
   "window_display": false
  }
 },
 "nbformat": 4,
 "nbformat_minor": 5
}
