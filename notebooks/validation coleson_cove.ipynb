{
 "cells": [
  {
   "cell_type": "markdown",
   "metadata": {},
   "source": [
    "# Validation - Coleson Cove Case"
   ]
  },
  {
   "cell_type": "markdown",
   "metadata": {},
   "source": [
    "Shin et al (2020)"
   ]
  },
  {
   "cell_type": "markdown",
   "metadata": {
    "ExecuteTime": {
     "end_time": "2021-02-02T22:51:48.294510Z",
     "start_time": "2021-02-02T22:51:48.291780Z"
    }
   },
   "source": [
    "#### Packages"
   ]
  },
  {
   "cell_type": "code",
   "execution_count": 1,
   "metadata": {
    "ExecuteTime": {
     "end_time": "2021-02-07T22:40:03.329149Z",
     "start_time": "2021-02-07T22:40:02.859312Z"
    },
    "code_folding": []
   },
   "outputs": [],
   "source": [
    "import json\n",
    "from math import pi, ceil, sin, floor\n",
    "from iapws.iapws97 import _Region4, _Region2, _Region1\n",
    "from iapws._iapws import _ThCond, _Viscosity\n",
    "from constructors import *\n",
    "from scipy.optimize import root\n",
    "import numpy as np\n",
    "import os.path\n",
    "import sys\n",
    "sys.path.append(\"../\")\n",
    "import simulate\n",
    "\n",
    "from water_properties import density, viscosity, conductivity, heat_capacity\n",
    "from water_at_saturation_properties import saturation_temperature, vapour_density, vapour_total_compressibility,vaporization_enthalpy\n"
   ]
  },
  {
   "cell_type": "markdown",
   "metadata": {},
   "source": [
    "## Preliminar Analysis"
   ]
  },
  {
   "cell_type": "markdown",
   "metadata": {},
   "source": [
    "#### Constants"
   ]
  },
  {
   "cell_type": "code",
   "execution_count": 44,
   "metadata": {
    "ExecuteTime": {
     "end_time": "2021-02-07T22:58:33.458817Z",
     "start_time": "2021-02-07T22:58:33.455453Z"
    }
   },
   "outputs": [],
   "source": [
    "g = 9.80665 # m/s2 - gravitational acceleration\n",
    "pi = pi # pi"
   ]
  },
  {
   "cell_type": "markdown",
   "metadata": {},
   "source": [
    "#### Heat Exchanger Information"
   ]
  },
  {
   "cell_type": "code",
   "execution_count": 45,
   "metadata": {
    "ExecuteTime": {
     "end_time": "2021-02-07T22:58:36.005683Z",
     "start_time": "2021-02-07T22:58:35.998870Z"
    }
   },
   "outputs": [
    {
     "name": "stdout",
     "output_type": "stream",
     "text": [
      "Number of tubes per row are  216.7741935483871\n",
      "Number of rows is 31\n",
      "Number of tubes is 6720\n"
     ]
    }
   ],
   "source": [
    "Do = 0.0254 # m external diameter\n",
    "Di = Do - 2*0.00125 # m external diameter\n",
    "n_tubes = 6720\n",
    "arrange = \"triangle\"\n",
    "#arrange = \"square\"\n",
    "\n",
    "L = 17 # m tube length\n",
    "W = 1.8 * 2 # m bundle width\n",
    "ep = 45e-6 # m - roughness\n",
    "kwall = 16 # W / ( m * K )\n",
    "pitch = 0.0333 # m\n",
    "Rows = 31\n",
    "row_pitch = pitch\n",
    "tubes_per_width = n_tubes/Rows\n",
    "ResF= 6.03e-5 # K/W\n",
    "Vext = L * W ** 2 # shell volume in m3\n",
    "\n",
    "\n",
    "print(\"Number of tubes per row are \", tubes_per_width)\n",
    "print(\"Number of rows is {number:.{digits}f}\".format(number=Rows,digits=0))\n",
    "print(\"Number of tubes is {number:.{digits}f}\".format(number=Rows*tubes_per_width,digits=0))"
   ]
  },
  {
   "cell_type": "code",
   "execution_count": 46,
   "metadata": {
    "ExecuteTime": {
     "end_time": "2021-02-07T22:58:38.556953Z",
     "start_time": "2021-02-07T22:58:38.551618Z"
    }
   },
   "outputs": [],
   "source": [
    "N_wetters = []\n",
    "row_index = np.linspace(1,Rows,num=Rows)\n",
    "for i in row_index:\n",
    "    if arrange == \"triangle\":\n",
    "        N_wetters.append(ceil(i/2)-1)\n",
    "    else:\n",
    "        N_wetters = row_index-1\n",
    "N_wetters = np.array(N_wetters)\n",
    "fNtub = ((N_wetters+1) ** (5/6) - N_wetters ** (5/6))"
   ]
  },
  {
   "cell_type": "code",
   "execution_count": 47,
   "metadata": {
    "ExecuteTime": {
     "end_time": "2021-02-07T22:58:40.795238Z",
     "start_time": "2021-02-07T22:58:40.787846Z"
    }
   },
   "outputs": [
    {
     "name": "stdout",
     "output_type": "stream",
     "text": [
      "Wall internal diameter is 0.0229\n",
      "Fouling internal diameter is 0.022470\n",
      "Fouling thickness is 214.85 um\n",
      "Fouling deposit mass is 0.576787 kg/m2\n"
     ]
    }
   ],
   "source": [
    "# Fouling\n",
    "kf = 2.941 # W / ( m * K ) (Calcium carbonate)\n",
    "rhof = 2.71e3 # kg/m3\n",
    "Df = Di * np.exp(- (ResF* (pi * Di * L)) * 2 * kf / Di)\n",
    "lf = 1e6*(Di-Df)/2  # um fouling thickness\n",
    "\n",
    "mf = (Di ** 2 - Df ** 2) * rhof / (4 * Di)\n",
    "\n",
    "print(\"Wall internal diameter is {number:.{digits}f}\".format(number=Di,digits=4))\n",
    "print(\"Fouling internal diameter is {number:.{digits}f}\".format(number=Df,digits=6))\n",
    "print(\"Fouling thickness is {number:.{digits}f} um\".format(number=1e6*(Di-Df)/2,digits=2))\n",
    "print(\"Fouling deposit mass is {number:.{digits}f} kg/m2\".format(number=mf,digits=6))"
   ]
  },
  {
   "cell_type": "markdown",
   "metadata": {
    "ExecuteTime": {
     "end_time": "2021-02-02T22:58:14.160605Z",
     "start_time": "2021-02-02T22:58:14.157780Z"
    }
   },
   "source": [
    "#### Operational Conditions"
   ]
  },
  {
   "cell_type": "code",
   "execution_count": 48,
   "metadata": {
    "ExecuteTime": {
     "end_time": "2021-02-07T22:58:43.124259Z",
     "start_time": "2021-02-07T22:58:43.118385Z"
    }
   },
   "outputs": [],
   "source": [
    "m = 3859 # kg/s cooling Water\n",
    "# Expected\n",
    "Tout_mean_expected = 26.73 + 273.15\n",
    "Pvap_expected = 5414# Pa\n",
    "Tvap_expected = 34.3 + 273.15\n",
    "Pout_expected = 177000\n",
    "Tin = 11.58 + 273.15 # K\n",
    "Pin = 200000 # Pa\n",
    "Pout = 177000 # Pa\n",
    "Tout = Tout_mean_expected * np.ones(Rows) # K"
   ]
  },
  {
   "cell_type": "code",
   "execution_count": 49,
   "metadata": {
    "ExecuteTime": {
     "end_time": "2021-02-07T22:58:45.690678Z",
     "start_time": "2021-02-07T22:58:45.683607Z"
    }
   },
   "outputs": [
    {
     "name": "stdout",
     "output_type": "stream",
     "text": [
      "Expected heat duty to 244.78 MW.\n",
      "Expected steam mass flowrate 101.17 kg/s.\n",
      "The exhaust steam density is equal to 0.03802 kg/m3.\n",
      "The exhaust steam vaporization heat is equal to 2419426 J/kg.\n"
     ]
    }
   ],
   "source": [
    "Tm_expected = 0.5 * (Tin + Tout_mean_expected) # K - mean cooling water temperature\n",
    "Pm_expected = 0.5 * (Pin + Pout) # Pa - mean cooling water pressure\n",
    "water_heat_capacity = heat_capacity(Tm_expected, Pm_expected, simplified = True)\n",
    "\n",
    "exhaust_steam_density = vapour_density(Pvap_expected, simplified = True)\n",
    "exhaust_vaporization_heat = vaporization_enthalpy(Pvap_expected, simplified = True)\n",
    "\n",
    "Q_expected = water_heat_capacity * m * (Tout_mean_expected - Tin)\n",
    "kvap_expected = Q_expected/exhaust_vaporization_heat\n",
    "\n",
    "\n",
    "print(\"Expected heat duty to {number:.{digits}f} MW.\".format(number=Q_expected*1e-6, digits=2))\n",
    "print(\"Expected steam mass flowrate {number:.{digits}f} kg/s.\".format(number=kvap_expected, digits=2))\n",
    "print(\"The exhaust steam density is equal to {number:.{digits}f} kg/m3.\"\\\n",
    "      .format(number=exhaust_steam_density, digits=5))\n",
    "print(\"The exhaust steam vaporization heat is equal to {number:.{digits}f} J/kg.\"\\\n",
    "      .format(number=exhaust_vaporization_heat, digits=0))\n",
    "#vaporization_enthalpy(Pvap, simplified=True)\n",
    "#print(Pvap, exhaust_vaporization_heat, vaporization_enthalpy(Pvap, simplified=True))"
   ]
  },
  {
   "cell_type": "markdown",
   "metadata": {},
   "source": [
    "#### Simulation input"
   ]
  },
  {
   "cell_type": "code",
   "execution_count": 50,
   "metadata": {
    "ExecuteTime": {
     "end_time": "2021-02-07T22:58:49.217101Z",
     "start_time": "2021-02-07T22:58:49.214044Z"
    }
   },
   "outputs": [],
   "source": [
    "# Set\n",
    "Pvap = 5130 # Pa\n",
    "Tvap = saturation_temperature(Pvap, simplified = True)\n",
    "#print(Pvap, Tvap, saturation_temperature(Pvap, simplified=True))"
   ]
  },
  {
   "cell_type": "markdown",
   "metadata": {
    "ExecuteTime": {
     "end_time": "2021-02-02T23:09:55.982737Z",
     "start_time": "2021-02-02T23:09:55.980176Z"
    }
   },
   "source": [
    "#### Hydraulic Calculations"
   ]
  },
  {
   "cell_type": "code",
   "execution_count": 51,
   "metadata": {
    "ExecuteTime": {
     "end_time": "2021-02-07T22:58:51.703563Z",
     "start_time": "2021-02-07T22:58:51.696251Z"
    },
    "scrolled": true
   },
   "outputs": [],
   "source": [
    "def calculate_darcy(fD0, ep, D, Re):\n",
    "    \"\"\"Calculate the darcy friction factor\"\"\"\n",
    "    def idarcy(ifD, ep, D, Re):\n",
    "        return ifD + 2. * np.log10(ep / 3.72 / D + (2.51 / Re) * ifD )\n",
    "    sol = root(idarcy, fD0 ** -0.5, args=(ep, D, Re),)\n",
    "    return  sol.x[0] ** -2\n",
    "\n",
    "def calculate_fanning(ep, D, Re):\n",
    "    \"\"\"Calculate the fanning friction factor\"\"\"\n",
    "    A = (2.457*np.log(((7/Re)**0.9+0.27*ep/D)**-1))**16\n",
    "    B = (37530/Re)**16\n",
    "    ff = 2 *((8/Re)**12 + (A+B)**-1.5) ** (1/12)\n",
    "    return  ff"
   ]
  },
  {
   "cell_type": "markdown",
   "metadata": {},
   "source": [
    "#### LMTD"
   ]
  },
  {
   "cell_type": "code",
   "execution_count": 52,
   "metadata": {
    "ExecuteTime": {
     "end_time": "2021-02-07T22:58:55.367509Z",
     "start_time": "2021-02-07T22:58:55.350237Z"
    }
   },
   "outputs": [],
   "source": [
    "def calculate_int(Tin, Tout, Pin, Pout, m_tube, ep, Di, L):\n",
    "    \n",
    "    T = 0.5 * (Tin + Tout)\n",
    "    P = 0.5 * (Pin + Pout)\n",
    "    \n",
    "    # Calculating properties\n",
    "    int_film_density=density(T, P, simplified = True)\n",
    "    int_film_heat_capacity = heat_capacity(T, P, simplified = True)\n",
    "    int_film_conductivity = conductivity(T, P, simplified = True)\n",
    "    int_film_viscosity = viscosity(T, P, simplified = True)\n",
    "    int_film_prandtl = int_film_heat_capacity * int_film_viscosity / int_film_conductivity\n",
    "\n",
    "    v = (m_tube/int_film_density)/(0.25 * pi * Di**2) # m/s\n",
    "    v_abs = abs(v)\n",
    "\n",
    "    Re_tube = Di * int_film_density * v_abs / int_film_viscosity\n",
    "\n",
    "    ff = calculate_fanning(ep, Di, Re_tube)\n",
    "    fD_tube = 4 * ff\n",
    "    \n",
    "    # Calculating Darcy\n",
    "    int_film_Re = Di * int_film_density * v_abs / int_film_viscosity\n",
    "    int_film_fD = calculate_darcy(fD_tube, ep, Di, int_film_Re)\n",
    "\n",
    "    # Calculates the Nussel dimensionless number using Petukhov correlation modified by Gnielinski. See Incropera 4th Edition [8.63]\n",
    "    nusselt = (int_film_fD / 8.) * (int_film_Re - 1000.) * int_film_prandtl / ( 1. + 12.7 * (int_film_fD / 8.) ** 0.5 * (int_film_prandtl ** (2 / 3) - 1.))\n",
    "\n",
    "    hint = nusselt * int_film_conductivity / Di # W/m2K\n",
    "    Resint = 1 / (pi * Di * hint * L) # W/K\n",
    "\n",
    "    tau = (1/8)*fD_tube*int_film_density*v**2\n",
    "    hL = 0.5 * fD_tube * v ** 2 /  (Di * g )\n",
    "    DeltaP = g * int_film_density * hL\n",
    "    pressure_loss_in_tube = DeltaP * L\n",
    "    Pout_ = Pin - pressure_loss_in_tube\n",
    "    \n",
    "    return hint, Resint, int_film_heat_capacity, Pout_, fD_tube, pressure_loss_in_tube, v, Re_tube\n",
    "\n",
    "\n",
    "def calculate_ext(Tvap, Pvap, To, fNtub_tube, L):\n",
    "    \n",
    "    # Calculating properties\n",
    "    T = 0.5*(Tvap + To)\n",
    "    \n",
    "    g = 9.80665\n",
    "    \n",
    "    film_density=density(T, Pvap, simplified = True)\n",
    "    film_heat_capacity = heat_capacity(T, Pvap, simplified = True)\n",
    "    film_conductivity = conductivity(T, Pvap, simplified = True)\n",
    "    film_viscosity = viscosity(T, Pvap, simplified = True)\n",
    "    film_prandtl = film_heat_capacity * film_viscosity / film_conductivity\n",
    "    \n",
    "    exhaust_steam_density = vapour_density(Pvap, simplified = True)\n",
    "    exhaust_vaporization_heat = vaporization_enthalpy(Pvap, simplified = True)\n",
    "    \n",
    "    num = (g * film_density * (film_density - exhaust_steam_density) * film_conductivity ** 3. * exhaust_vaporization_heat)\n",
    "    den = film_viscosity * (Tvap - To) * Do\n",
    "    hext_row1 = 0.729 * (num / den) ** 0.25\n",
    "    Resext_row1 = 1 / (pi * Do * hext_row1 * L)\n",
    "\n",
    "    hext = hext_row1 * fNtub_tube\n",
    "    Resext = Resext_row1 / fNtub_tube\n",
    "    \n",
    "    return hext, Resext, exhaust_vaporization_heat\n",
    "    \n",
    "    \n",
    "def calculate_wall(Do, Di, kwall, L):\n",
    "    \n",
    "    Reswall = np.log(Do / Di) / (2 * pi * kwall * L)\n",
    "    \n",
    "    return Reswall"
   ]
  },
  {
   "cell_type": "code",
   "execution_count": 53,
   "metadata": {
    "ExecuteTime": {
     "end_time": "2021-02-07T22:58:58.201907Z",
     "start_time": "2021-02-07T22:58:58.183995Z"
    }
   },
   "outputs": [],
   "source": [
    "def calculate_heat(k_tube,\n",
    "                   cp,\n",
    "                   Tin,\n",
    "                   Tout):\n",
    "    \"\"\"Calculate the duty\"\"\"\n",
    "    return k_tube * cp * (Tout - Tin)\n",
    "\n",
    "\n",
    "def calculate_LMTD(T1a, T1b, T2a, T2b):\n",
    "    \"\"\"Calculate LMTD\"\"\"\n",
    "    dT1 = T1a - T1b\n",
    "    dT2 = T2a - T2b\n",
    "    return (dT1 - dT2) / np.log(dT1/dT2)\n",
    "\n",
    "def calculate_heat_via_LMTD( UA, LMTD):\n",
    "    \"\"\"Calculate heat exchanger via LMTD\"\"\"\n",
    "    return UA * LMTD\n",
    "\n",
    "def fun(x, Tvap, Tin, Pin, fNtub, ResF):\n",
    "\n",
    "    f = []\n",
    "    \n",
    "    m_ = 0\n",
    "    \n",
    "    Pout = x[0]\n",
    "    \n",
    "    for i in range(0,Rows):\n",
    "        \n",
    "        fNtub_i = fNtub[i]\n",
    "        \n",
    "        Tout, Tf_in, Tf_out, Ti_in, Ti_out, To_in, To_out, m_tube = x[(8*i+1):(8*(i+1)+1)]\n",
    "        \n",
    "        m_ += m_tube * tubes_per_width\n",
    "\n",
    "        #### WALL RESISTANCE\n",
    "        Reswall = calculate_wall(Do, Di, kwall, L)\n",
    "\n",
    "\n",
    "        #### EXTERNAL RESISTANCE\n",
    "        To = 0.5 * (To_in + To_out)\n",
    "        hext, Resext, _ = calculate_ext(Tvap, Pvap, To, fNtub_i, L)\n",
    "\n",
    "\n",
    "        #### INTERNAL RESISTANCE\n",
    "        hint, Resint, cp, Pout_, fD_tube, pressure_loss_in_tube, v, Re_tube = calculate_int(\n",
    "            Tin, Tout, Pin, Pout, m_tube, ep, Di, L\n",
    "        )\n",
    "\n",
    "        # Calculate Overall he\n",
    "        Restotal = Resext + Resint + Reswall + ResF  # W/K\n",
    "\n",
    "        UA = 1/Restotal  # W/K\n",
    "\n",
    "        # Wall conduction\n",
    "        Reswall = np.log(Do / Di) / (2 * pi * kwall * L)\n",
    "\n",
    "        LMTD = calculate_LMTD(Tvap, Tin, Tvap, Tout)\n",
    "\n",
    "        Q1 = calculate_heat_via_LMTD( UA, LMTD)\n",
    "\n",
    "        Q2 = calculate_heat( m_tube, cp, Tin, Tout)\n",
    "\n",
    "        Q_at_inlet = (Tvap - Tin) / Restotal # W\n",
    "        Q_at_outlet = (Tvap - Tout) / Restotal # W\n",
    "\n",
    "                \n",
    "        f += [\n",
    "            Pout - Pout_,\n",
    "            Q1 - Q2,\n",
    "            To_in - Tvap + Q_at_inlet*Resext,\n",
    "            Ti_in - To_in + Q_at_inlet*Reswall,\n",
    "            Tf_in - Ti_in + Q_at_inlet*ResF,\n",
    "            To_out - Tvap + Q_at_outlet*Resext,\n",
    "            Ti_out - To_out + Q_at_outlet*Reswall,\n",
    "            Tf_out - Ti_out + Q_at_outlet*ResF\n",
    "        ]\n",
    "        \n",
    "    f.append(m - m_)\n",
    "    \n",
    "    out = np.array(f)\n",
    "    \n",
    "    #print(np.sum(out**2))\n",
    "    \n",
    "    return out\n",
    "\n",
    "def solve(x0, *args):\n",
    "    sol = root(fun, x0, args=args)\n",
    "    return  sol.x"
   ]
  },
  {
   "cell_type": "code",
   "execution_count": 54,
   "metadata": {
    "ExecuteTime": {
     "end_time": "2021-02-07T22:59:00.551433Z",
     "start_time": "2021-02-07T22:59:00.546009Z"
    }
   },
   "outputs": [],
   "source": [
    "Tout = Tout_mean_expected * np.ones(Rows) # K\n",
    "Tf_in = 1*Tin + 0*Tout + 0*Tvap\n",
    "Tf_out = 0*Tin + 1*Tout + 0*Tvap\n",
    "Ti_in = 1*Tin + 0*Tout + 0*Tvap\n",
    "Ti_out = 0*Tin + 1*Tout + 0*Tvap\n",
    "To_in = 0.5*Tin + 0*Tout + 0.5*Tvap\n",
    "To_out = 0*Tin + 0.5*Tout + 0.5*Tvap\n",
    "m_tube = 0*Tout + m/n_tubes"
   ]
  },
  {
   "cell_type": "code",
   "execution_count": 55,
   "metadata": {
    "ExecuteTime": {
     "end_time": "2021-02-07T22:59:05.158918Z",
     "start_time": "2021-02-07T22:59:02.975071Z"
    }
   },
   "outputs": [
    {
     "name": "stdout",
     "output_type": "stream",
     "text": [
      "Initial residue 370335049.4312819\n",
      "Final residue 2.219529599054847e-06\n"
     ]
    }
   ],
   "source": [
    "x0 = [Pout_expected]\n",
    "\n",
    "for i in range(0, Rows):\n",
    "     x0 +=[Tout[i], Tf_in[i], Tf_out[i], Ti_in[i], Ti_out[i], To_in[i], To_out[i], m_tube[i]]\n",
    "\n",
    "res0 = fun(x0, Tvap, Tin, Pin, fNtub, ResF)\n",
    "x = solve(x0, Tvap, Tin, Pin, fNtub, ResF )\n",
    "res = fun(x, Tvap, Tin, Pin, fNtub, ResF)\n",
    "\n",
    "Pout = x[0]\n",
    "for i in range(0,Rows):\n",
    "    Tout[i], Tf_in[i], Tf_out[i], Ti_in[i], Ti_out[i], To_in[i], To_out[i], m_tube[i] = x[(8*i+1):(8*(i+1)+1)]    \n",
    "    \n",
    "print(\"Initial residue\", np.sum(res0**2))\n",
    "print(\"Final residue\", np.sum(res**2))"
   ]
  },
  {
   "cell_type": "code",
   "execution_count": 56,
   "metadata": {
    "ExecuteTime": {
     "end_time": "2021-02-07T22:59:08.147881Z",
     "start_time": "2021-02-07T22:59:08.115117Z"
    }
   },
   "outputs": [
    {
     "name": "stdout",
     "output_type": "stream",
     "text": [
      "\n",
      " -- ROW 0 --\n",
      "Restotal is 0.000304 W/(K)\n",
      "The row external convection coefficient is 13325.81 W/(K*m2)\n",
      "The row internal convection coefficient is 6419.56 W/(K*m2)\n",
      "The last row calculated internal resistance x length is 0.000127 K/W\n",
      "The last row calculated external resistance x length is 0.000055 K/W\n",
      "LMTD is 11.90 K\n",
      "The heat rate per tube is 39194.72 W\n",
      "U*A per tube is 3293.66 W/K\n",
      "ResF is 0.000060 K/W\n",
      "Reswall is 0.000061 K/W\n",
      "Resint is 0.000127 K/W\n",
      "Resext is 0.000055 K/W\n",
      "Tf is 298.62 K\n",
      "Ti is 301.34 K\n",
      "To is 304.08 K\n",
      "Tvap is 306.58 K\n",
      "Cooling water inlet temperature is 284.73 K\n",
      "Cooling water outlet temperature is 301.02 W/K\n",
      "Water mean velocity is 1.40 m/s.\n",
      "Inlet Pressure is 200000.00 Pa.\n",
      "Outlet Pressure :  179557.37484283876\n",
      "Tube mass flowrate (kg/s) :  0.5747415238687366\n",
      "\n",
      " -- ROW 30 --\n",
      "Restotal is 0.000375 W/(K)\n",
      "The row external convection coefficient is 5909.76 W/(K*m2)\n",
      "The row internal convection coefficient is 6336.92 W/(K*m2)\n",
      "The last row calculated internal resistance x length is 0.000129 K/W\n",
      "The last row calculated external resistance x length is 0.000125 K/W\n",
      "LMTD is 13.19 K\n",
      "The heat rate per tube is 35212.42 W\n",
      "U*A per tube is 2668.85 W/K\n",
      "ResF is 0.000060 K/W\n",
      "Reswall is 0.000061 K/W\n",
      "Resint is 0.000129 K/W\n",
      "Resext is 0.000125 K/W\n",
      "Tf is 297.06 K\n",
      "Ti is 299.39 K\n",
      "To is 301.74 K\n",
      "Tvap is 306.58 K\n",
      "Cooling water inlet temperature is 284.73 K\n",
      "Cooling water outlet temperature is 299.38 W/K\n",
      "Water mean velocity is 1.40 m/s.\n",
      "Inlet Pressure is 200000.00 Pa.\n",
      "Outlet Pressure :  179557.37484283876\n",
      "Tube mass flowrate (kg/s) :  0.5740449276580913\n"
     ]
    }
   ],
   "source": [
    "results = []\n",
    "\n",
    "\n",
    "for i in range(0,Rows):\n",
    "    \n",
    "    Tf = 0.5 * (Tf_in[i] + Tf_out[i])\n",
    "    Ti = 0.5 * (Ti_in[i] + Ti_out[i])\n",
    "    To = 0.5 * (To_in[i] + To_out[i])\n",
    "\n",
    "    \n",
    "    #### WALL RESISTANCE\n",
    "    Reswall = calculate_wall(Do, Di, kwall, L)\n",
    "\n",
    "    \n",
    "    #### EXTERNAL RESISTANCE\n",
    "    hext, Resext, exhaust_vaporization_heat = calculate_ext(Tvap, Pvap, To, fNtub[i], L)\n",
    "\n",
    "\n",
    "    #### INTERNAL RESISTANCE\n",
    "    hint, Resint, cp, Pout_, fD_tube, pressure_loss_in_tube, v, Re_tube = calculate_int(\n",
    "        Tin, Tout[i], Pin, Pout, m_tube[i], ep, Di, L\n",
    "    )\n",
    "\n",
    "    # Calculate Overall he\n",
    "    Restotal = Resext + Resint + Reswall + ResF  # W/K\n",
    "\n",
    "    UA = 1/Restotal  # W/K\n",
    "\n",
    "    # Calculate LMTD\n",
    "    LMTD = calculate_LMTD(Tvap,Tin,Tvap,Tout[i])\n",
    "    Q = calculate_heat_via_LMTD(UA, LMTD)\n",
    "\n",
    "    results.append({\n",
    "        \"UA\": UA,\n",
    "        \"LMTD\": LMTD,\n",
    "        \"Q\": Q,\n",
    "        \"hint\": hint,\n",
    "        \"hext\": hext,\n",
    "        \"Restotal\": Restotal, # W/K\n",
    "        \"Resint\": Resint, # W/K\n",
    "        \"Resext\": Resext, # W/K\n",
    "        \"Reswall\": Reswall, # W/K\n",
    "        \"Tf_in\": Tf_in[i],\n",
    "        \"Ti_in\": Ti_in[i],\n",
    "        \"To_in\": To_in[i],\n",
    "        \"Tf_out\": Tf_out[i],\n",
    "        \"Ti_out\": Ti_out[i],\n",
    "        \"To_out\": To_out[i],\n",
    "        \"Tf\": Tf,\n",
    "        \"Ti\": Ti,\n",
    "        \"To\": To,\n",
    "        \"Tin\": Tin,\n",
    "        \"Tout\": Tout[i],\n",
    "        \"Pin\": Pin,\n",
    "        \"Pout\": Pout,\n",
    "        \"Df\": Df,\n",
    "        \"Pout\": Pout,\n",
    "        \"v\": v,\n",
    "        \"Re\": Re_tube,\n",
    "        \"m_tube\": m_tube[i],\n",
    "        \"kvap\": Q/exhaust_vaporization_heat*tubes_per_width\n",
    "\n",
    "    })\n",
    "\n",
    "    \n",
    "    if i in (0, Rows-1):\n",
    "\n",
    "        print(\"\")\n",
    "        print(\" -- ROW {} --\".format(i))\n",
    "\n",
    "        results_i = results[i]\n",
    "\n",
    "        print(\"Restotal is {number:.{digits}f} W/(K)\".format(number=results_i[\"Restotal\"],digits=6))\n",
    "        print(\"The row external convection coefficient is {number:.{digits}f} W/(K*m2)\".format(number=results_i[\"hext\"],digits=2))\n",
    "        print(\"The row internal convection coefficient is {number:.{digits}f} W/(K*m2)\".format(number=results_i[\"hint\"],digits=2))\n",
    "\n",
    "        print(\"The last row calculated internal resistance x length is {number:.{digits}f} K/W\".format(number=results_i[\"Resint\"],digits=6))\n",
    "        print(\"The last row calculated external resistance x length is {number:.{digits}f} K/W\".format(number=results_i[\"Resext\"],digits=6))\n",
    "        print(\"LMTD is {number:.{digits}f} K\".format(number=results_i[\"LMTD\"],digits=2))\n",
    "        print(\"The heat rate per tube is {number:.{digits}f} W\".format(number=results_i[\"Q\"],digits=2))\n",
    "        print(\"U*A per tube is {number:.{digits}f} W/K\".format(number=results_i[\"UA\"],digits=2))\n",
    "\n",
    "        print(\"ResF is {number:.{digits}f} K/W\".format(number=ResF,digits=6))\n",
    "        print(\"Reswall is {number:.{digits}f} K/W\".format(number=results_i[\"Reswall\"],digits=6))\n",
    "        print(\"Resint is {number:.{digits}f} K/W\".format(number=results_i[\"Resint\"],digits=6))\n",
    "        print(\"Resext is {number:.{digits}f} K/W\".format(number=results_i[\"Resext\"],digits=6))\n",
    "\n",
    "        print(\"Tf is {number:.{digits}f} K\".format(number=results_i[\"Tf\"],digits=2))\n",
    "        print(\"Ti is {number:.{digits}f} K\".format(number=results_i[\"Ti\"],digits=2))\n",
    "        print(\"To is {number:.{digits}f} K\".format(number=results_i[\"To\"],digits=2))\n",
    "        print(\"Tvap is {number:.{digits}f} K\".format(number=Tvap,digits=2))\n",
    "        print(\"Cooling water inlet temperature is {number:.{digits}f} K\".format(number=Tin,digits=2))\n",
    "        print(\"Cooling water outlet temperature is {number:.{digits}f} W/K\".format(number=results_i[\"Tout\"],digits=2))\n",
    "        \n",
    "        print(\"Water mean velocity is {number:.{digits}f} m/s.\".format(number=results_i[\"v\"], digits=2))\n",
    "        print(\"Inlet Pressure is {number:.{digits}f} Pa.\".format(number=results_i[\"Pin\"], digits=2))\n",
    "        print(\"Outlet Pressure : \", results_i[\"Pout\"])\n",
    "        print(\"Tube mass flowrate (kg/s) : \", results_i[\"m_tube\"])"
   ]
  },
  {
   "cell_type": "code",
   "execution_count": 58,
   "metadata": {
    "ExecuteTime": {
     "end_time": "2021-02-07T23:00:51.263993Z",
     "start_time": "2021-02-07T23:00:51.253493Z"
    }
   },
   "outputs": [
    {
     "name": "stdout",
     "output_type": "stream",
     "text": [
      "The total steam flowrate is 101.05 kg/s\n",
      "The total heat load of condensation is 244.71 MW\n",
      "The cooling water CALCULATED mean outlet temperature is 299.88 K\n",
      "The cooling water EXPECTED mean outlet temperature is 299.88 K\n",
      "Cooling Water outlet temp deviation is -0.01 %\n",
      "Steam temp deviation is -2.54 %\n"
     ]
    }
   ],
   "source": [
    "# Calculating final results\n",
    "Q_total = 0\n",
    "kvap_calc = 0\n",
    "Tout_mean = 0\n",
    "Pout_mean = Pout\n",
    "m_tube_aux = 0\n",
    "for i in range(0, Rows):\n",
    "    Q_total += results[i][\"Q\"]*tubes_per_width\n",
    "    kvap_calc += results[i][\"kvap\"]\n",
    "    Tout_mean += results[i][\"Tout\"]*results[i][\"m_tube\"]\n",
    "    m_tube_aux += results[i][\"m_tube\"]\n",
    "Tout_mean = Tout_mean/m_tube_aux\n",
    "    \n",
    "print(\"The total steam flowrate is {number:.{digits}f} kg/s\".format(number=kvap_calc, digits=2))\n",
    "print(\"The total heat load of condensation is {number:.{digits}f} MW\".format(number=1e-6*Q_total, digits=2))\n",
    "print(\"The cooling water CALCULATED mean outlet temperature is {number:.{digits}f} K\".format(number=Tout_mean,digits=2))\n",
    "print(\"The cooling water EXPECTED mean outlet temperature is {number:.{digits}f} K\".format(number=Tout_mean_expected,digits=2))\n",
    "print(\"Cooling Water outlet temp deviation is {number:.{digits}f} %\".format(number=(Tout_mean-Tout_mean_expected)/(Tout_mean_expected-273.15)*100,digits=2))\n",
    "print(\"Steam temp deviation is {number:.{digits}f} %\".format(number=(Tvap-Tvap_expected)/(Tvap_expected - 273.15)*100,digits=2))"
   ]
  },
  {
   "cell_type": "markdown",
   "metadata": {
    "ExecuteTime": {
     "end_time": "2021-02-03T23:27:46.228526Z",
     "start_time": "2021-02-03T23:27:46.225902Z"
    }
   },
   "source": [
    "## Simulations "
   ]
  },
  {
   "cell_type": "markdown",
   "metadata": {},
   "source": [
    "### Initial Estimates"
   ]
  },
  {
   "cell_type": "code",
   "execution_count": 39,
   "metadata": {
    "ExecuteTime": {
     "end_time": "2021-02-07T22:50:13.671535Z",
     "start_time": "2021-02-07T22:49:17.498444Z"
    }
   },
   "outputs": [
    {
     "name": "stdout",
     "output_type": "stream",
     "text": [
      "Creating the system...        \n",
      "The system created successfully.\n",
      " 0.00% ETA: [00.0s]Starting the initialization of the system... Done.\n",
      " 0.00% ETA: [00.0s]Integrating from [0] to [1] ...\n",
      " 0.00% ETA: [00.0s]                              \n",
      " 100.00% ETA: [00.0s]The simulation has finished successfully!\n",
      " 100.00% ETA: [00.0s]                              \n",
      " 100.00% ETA: [00.0s]--------------------------------------------------------------\n",
      " 100.00% ETA: [00.0s]                             Time (s)   Rel.time (%)    Count\n",
      " 100.00% ETA: [00.0s]--------------------------------------------------------------\n",
      " 100.00% ETA: [00.0s]Simulation:                   \n",
      " 100.00% ETA: [00.0s]  Initialization                2.126              -        -\n",
      " 100.00% ETA: [00.0s]  Solve initial                22.819          42.35        -\n",
      " 100.00% ETA: [00.0s]  Integration                  31.061          57.65        -\n",
      " 100.00% ETA: [00.0s]  Integ. + solve init.         53.881         100.00        -\n",
      " 100.00% ETA: [00.0s]  Lin.sol. + Resid.             2.761           5.12        -\n",
      " 100.00% ETA: [00.0s]  ------------------------------------------------------------\n",
      " 100.00% ETA: [00.0s]  Total                        56.006              -        -\n",
      " 100.00% ETA: [00.0s]--------------------------------------------------------------\n",
      " 100.00% ETA: [00.0s]DAE solver [Sundials IDAS]:   \n",
      " 100.00% ETA: [00.0s]  Steps                             -              -       11\n",
      " 100.00% ETA: [00.0s]  Error test fails                  -              -        0\n",
      " 100.00% ETA: [00.0s]  Residuals (DAE)                   -              -      337\n",
      " 100.00% ETA: [00.0s]  Residuals (total)             2.761           5.12      337\n",
      " 100.00% ETA: [00.0s]--------------------------------------------------------------\n",
      " 100.00% ETA: [00.0s]Non-linear solver [Sundials modified Newton]:\n",
      " 100.00% ETA: [00.0s]  Iterations                        -              -       25\n",
      " 100.00% ETA: [00.0s]  Conv. fails                       -              -        0\n",
      " 100.00% ETA: [00.0s]--------------------------------------------------------------\n",
      " 100.00% ETA: [00.0s]Linear solver [Sundials LU]:  \n",
      " 100.00% ETA: [00.0s]  Setup                         0.000           0.00        0\n",
      " 100.00% ETA: [00.0s]  Jacobian                      0.758           1.41       12\n",
      " 100.00% ETA: [00.0s]  Solve                         0.000           0.00        0\n",
      " 100.00% ETA: [00.0s]  Total LA                      0.000           0.00        -\n",
      " 100.00% ETA: [00.0s]--------------------------------------------------------------\n",
      " 100.00% ETA: [00.0s]Number of equations 5681\n"
     ]
    }
   ],
   "source": [
    "Nelements = 15\n",
    "\n",
    "def prepare_initial_estimate(results, key1, key2):\n",
    "    return np.array([list(np.linspace(result[key1], result[key2], Nelements)) for result in results]).T.tolist()\n",
    "\n",
    "\n",
    "data = {\n",
    "    \"node_A\": {\n",
    "        \"kind\": \"node\",\n",
    "        \"module\": \"models.source\",\n",
    "        \"class\": \"Source\",\n",
    "        \"steady_state\": True,\n",
    "        \"specifications\": {\n",
    "            \"w\": m,\n",
    "        },\n",
    "        \"parameters\": {\n",
    "            \"Text\": Tin,\n",
    "            \"Pext\": Pin,\n",
    "            \"x\": 0.0,\n",
    "            \"y\": 0.0,\n",
    "            \"z\": 0.0\n",
    "        },\n",
    "        \"initial_guess\": {\n",
    "            \"w\": m,\n",
    "            \"P\": Pin,\n",
    "            \"T\": Tin\n",
    "\n",
    "        }\n",
    "    },\n",
    "    \"condenser\": {\n",
    "        \"kind\": \"edge\",\n",
    "\n",
    "        \"module\": \"models.fixed_external_temperature_tube_arrange\",\n",
    "        \"class\": \"FixedExternalTemperatureTubeArrange\",\n",
    "\n",
    "        #\"module\": \"models.tube_arrange\",\n",
    "        #\"class\": \"TubeArrange\",\n",
    "\n",
    "        \"from\": \"node_A\",\n",
    "        \"to\": \"node_B\",\n",
    "        \"domains\": {\n",
    "            \"x\": {\n",
    "                \"initial\": 0.0,\n",
    "                \"final\": 1.0,\n",
    "                \"N\": Nelements\n",
    "            },\n",
    "            \"y\": {\n",
    "                \"N\": Rows\n",
    "            },\n",
    "\n",
    "        },\n",
    "        \"states\": {\n",
    "        },\n",
    "        \"parameters\": {\n",
    "            \"Di\": Di,\n",
    "            \"tetha\": 0.0,\n",
    "            \"L\": L,\n",
    "            \"epw\": ep,\n",
    "            \"Klb\": 0.0,\n",
    "            \"Kub\": 0.0,\n",
    "            \"Npipes\": n_tubes/Rows,\n",
    "            \"kwall\": kwall,\n",
    "            \"Do\": Do,\n",
    "            \"ResF\": ResF\n",
    "\n",
    "        },\n",
    "        \"steady_state\": True,\n",
    "        \"specifications\": {\n",
    "            \"To\": prepare_initial_estimate(results, \"To_in\", \"To_out\"),\n",
    "        },\n",
    "        \"initial_guess\": {\n",
    "            \"ep\": ep,\n",
    "            \"Re\": prepare_initial_estimate(results, \"Re\", \"Re\"),\n",
    "            \"D\": Di,\n",
    "            \"v\": prepare_initial_estimate(results, \"v\", \"v\"),\n",
    "            \"k\": prepare_initial_estimate(results, \"m_tube\", \"m_tube\"),\n",
    "            \"T\": prepare_initial_estimate(results, \"Tin\", \"Tout\"),\n",
    "            \"P\": prepare_initial_estimate(results, \"Pin\", \"Pout\"),\n",
    "            \"hint\": prepare_initial_estimate(results, \"hint\", \"hint\"),\n",
    "            \"Ti\": prepare_initial_estimate(results, \"Ti_in\", \"Ti_out\"),\n",
    "\n",
    "        }\n",
    "    },\n",
    "    \"node_B\": {\n",
    "        \"kind\": \"node\",\n",
    "        \"module\": \"models.sink\",\n",
    "        \"class\": \"Sink\",\n",
    "        \"steady_state\": True,\n",
    "        \"specifications\": {\n",
    "            \"P\": Pout,\n",
    "        },\n",
    "        \"parameters\": {\n",
    "            \"Text\": Tout_mean,\n",
    "            \"Pext\": Pout,\n",
    "            \"x\": 0.0,\n",
    "            \"y\": 0.0,\n",
    "            \"z\": 0.0\n",
    "        },\n",
    "        \"initial_guess\": {\n",
    "            \"w\": m,\n",
    "            \"P\": Pout,\n",
    "            \"T\": Tout_mean\n",
    "        }\n",
    "    },\n",
    "}\n",
    "\n",
    "with open(\"colesoncove_pre.json\", 'w') as outfile:\n",
    "    json.dump(data, outfile, indent=4)\n",
    "    \n",
    "simulate.main(\n",
    "    name=\"colesoncove_pre\",\n",
    "    input=\"colesoncove_pre.json\",\n",
    "    output=\"colesoncove_pre.out.json\",\n",
    "    reporting_interval=1,\n",
    "    time_horizon=1,\n",
    "    relative_tolerance=1e-3,\n",
    "    MaxStep=1,\n",
    "    MaxNumSteps=1000000,\n",
    ")"
   ]
  },
  {
   "cell_type": "markdown",
   "metadata": {},
   "source": [
    "### Simulation"
   ]
  },
  {
   "cell_type": "code",
   "execution_count": 40,
   "metadata": {
    "ExecuteTime": {
     "end_time": "2021-02-07T22:50:25.873388Z",
     "start_time": "2021-02-07T22:50:25.830230Z"
    }
   },
   "outputs": [],
   "source": [
    "Nelements = 15\n",
    "\n",
    "def prepare_initial_estimate(results, key1, key2):\n",
    "    return np.array([list(np.linspace(result[key1], result[key2], Nelements)) for result in results]).T.tolist()\n",
    "    \n",
    "\n",
    "data = {\n",
    "    \"node_A\": {\n",
    "        \"kind\": \"node\",\n",
    "        \"module\": \"models.source\",\n",
    "        \"class\": \"Source\",\n",
    "        \"steady_state\": True,\n",
    "        \"specifications\": {\n",
    "            \"w\": m,\n",
    "        },\n",
    "        \"parameters\": {\n",
    "            \"Text\": Tin,\n",
    "            \"Pext\": Pin,\n",
    "            \"x\": 0.0,\n",
    "            \"y\": 0.0,\n",
    "            \"z\": 0.0\n",
    "        },\n",
    "        \"initial_guess\": {\n",
    "            \"w\": m,\n",
    "            \"P\": Pin,\n",
    "            \"T\": Tin\n",
    "\n",
    "        }\n",
    "    },\n",
    "    \"condenser\": {\n",
    "        \"kind\": \"edge\",\n",
    "\n",
    "        \"module\": \"models.external_film_condensation_tube_arrange\",\n",
    "        \"class\": \"ExternalFilmCondensationTubeArrange\",\n",
    "\n",
    "        \"from\": \"node_A\",\n",
    "        \"to\": \"node_B\",\n",
    "        \"domains\": {\n",
    "            \"x\": {\n",
    "                \"initial\": 0.0,\n",
    "                \"final\": 1.0,\n",
    "                \"N\": Nelements\n",
    "            },\n",
    "            \"y\": {\n",
    "                \"N\": Rows\n",
    "            },\n",
    "\n",
    "        },\n",
    "        \"states\": {\n",
    "            'stnRegulator': 'Closed',\n",
    "            'stnShellPressure': 'Variable'\n",
    "        },\n",
    "        \"parameters\": {\n",
    "            \"Di\": Di,\n",
    "            \"tetha\": 0.0,\n",
    "            \"L\": L,\n",
    "            \"epw\": ep,\n",
    "            \"Klb\": 0.0,\n",
    "            \"Kub\": 0.0,\n",
    "            \"Npipes\": n_tubes/Rows,\n",
    "            \"kwall\": kwall,\n",
    "            \"Do\": Do,\n",
    "            \"PextH\": 100000,\n",
    "            \"PextSP\": -1,\n",
    "            \"Pext0\": Pvap,\n",
    "            \"Vext\": Vext,\n",
    "            \"kvap\": kvap_calc,\n",
    "            \"fNtub\": list(fNtub),\n",
    "            \"ResF\": ResF\n",
    "            #\"Text\": Tvap,\n",
    "        },\n",
    "        \"steady_state\": True,\n",
    "        \"specifications\": {\n",
    "            #\"kcond\": 0.0,\n",
    "            #\"Pext\": Pvap,\n",
    "            #\"Text\": Tvap,\n",
    "            #\"wext\": 0.0,\n",
    "            #\"To\": prepare_initial_estimate(results, \"To_in\", \"To_out\"),\n",
    "        },\n",
    "        \"initial_guess\": {\n",
    "            \"ep\": ep,\n",
    "            \"Re\": prepare_initial_estimate(results, \"Re\", \"Re\"),\n",
    "            \"D\": Di,\n",
    "            \"v\": prepare_initial_estimate(results, \"v\", \"v\"),\n",
    "            \"k\": prepare_initial_estimate(results, \"m_tube\", \"m_tube\"),\n",
    "            \"T\": prepare_initial_estimate(results, \"Tin\", \"Tout\"),\n",
    "            \"P\": prepare_initial_estimate(results, \"Pin\", \"Pout\"),\n",
    "            \"hint\": prepare_initial_estimate(results, \"hint\", \"hint\"),\n",
    "            \"hext\": prepare_initial_estimate(results, \"hext\", \"hext\"),\n",
    "            \"Pext\": Pvap,\n",
    "            \"Text\": Tvap,\n",
    "            \"Ti\": prepare_initial_estimate(results, \"Ti_in\", \"Ti_out\"),\n",
    "            #\"Qout\": prepare_initial_estimate(results, \"Qout_in\", \"Qout_out\"),\n",
    "            \"To\": prepare_initial_estimate(results, \"To_in\", \"To_out\"),\n",
    "            #\"kcond\": kvap_calc,\n",
    "            #\"wext\": 0.0,\n",
    "            #\"Resistance\": prepare_initial_estimate(results, \"Restotal\", \"Restotal\"),\n",
    "\n",
    "        }\n",
    "    },\n",
    "    \"node_B\": {\n",
    "        \"kind\": \"node\",\n",
    "        \"module\": \"models.sink\",\n",
    "        \"class\": \"Sink\",\n",
    "        \"steady_state\": True,\n",
    "        \"specifications\": {\n",
    "            \"P\": Pout,\n",
    "        },\n",
    "        \"parameters\": {\n",
    "            \"Text\": Tout_mean,\n",
    "            \"Pext\": Pout,\n",
    "            \"x\": 0.0,\n",
    "            \"y\": 0.0,\n",
    "            \"z\": 0.0\n",
    "        },\n",
    "        \"initial_guess\": {\n",
    "            \"w\": m,\n",
    "            \"P\": Pout,\n",
    "            \"T\": Tout_mean\n",
    "        }\n",
    "    },\n",
    "}\n",
    "\n",
    "with open(\"colesoncove.json\", 'w') as outfile:\n",
    "    json.dump(data, outfile, indent=4)"
   ]
  },
  {
   "cell_type": "code",
   "execution_count": 41,
   "metadata": {
    "ExecuteTime": {
     "end_time": "2021-02-07T22:51:38.198785Z",
     "start_time": "2021-02-07T22:50:27.944887Z"
    }
   },
   "outputs": [
    {
     "name": "stdout",
     "output_type": "stream",
     "text": [
      "Creating the system...        \n",
      "The system created successfully.\n",
      " 0.00% ETA: [00.0s]Starting the initialization of the system... Done.\n",
      " 0.00% ETA: [00.0s]Integrating from [0] to [10] ...\n",
      " 0.00% ETA: [00.0s]                              \n",
      " 100.00% ETA: [00.0s]The simulation has finished successfully!\n",
      " 100.00% ETA: [00.0s]                              \n",
      " 100.00% ETA: [00.0s]--------------------------------------------------------------\n",
      " 100.00% ETA: [00.0s]                             Time (s)   Rel.time (%)    Count\n",
      " 100.00% ETA: [00.0s]--------------------------------------------------------------\n",
      " 100.00% ETA: [00.0s]Simulation:                   \n",
      " 100.00% ETA: [00.0s]  Initialization                2.107              -        -\n",
      " 100.00% ETA: [00.0s]  Solve initial                17.590          25.87        -\n",
      " 100.00% ETA: [00.0s]  Integration                  50.416          74.13        -\n",
      " 100.00% ETA: [00.0s]  Integ. + solve init.         68.006         100.00        -\n",
      " 100.00% ETA: [00.0s]  Lin.sol. + Resid.             0.497           0.73        -\n",
      " 100.00% ETA: [00.0s]  ------------------------------------------------------------\n",
      " 100.00% ETA: [00.0s]  Total                        70.113              -        -\n",
      " 100.00% ETA: [00.0s]--------------------------------------------------------------\n",
      " 100.00% ETA: [00.0s]DAE solver [Sundials IDAS]:   \n",
      " 100.00% ETA: [00.0s]  Steps                             -              -       17\n",
      " 100.00% ETA: [00.0s]  Error test fails                  -              -        0\n",
      " 100.00% ETA: [00.0s]  Residuals (DAE)                   -              -       60\n",
      " 100.00% ETA: [00.0s]  Residuals (total)             0.497           0.73       60\n",
      " 100.00% ETA: [00.0s]--------------------------------------------------------------\n",
      " 100.00% ETA: [00.0s]Non-linear solver [Sundials modified Newton]:\n",
      " 100.00% ETA: [00.0s]  Iterations                        -              -       32\n",
      " 100.00% ETA: [00.0s]  Conv. fails                       -              -        0\n",
      " 100.00% ETA: [00.0s]--------------------------------------------------------------\n",
      " 100.00% ETA: [00.0s]Linear solver [Sundials LU]:  \n",
      " 100.00% ETA: [00.0s]  Setup                         0.000           0.00        0\n",
      " 100.00% ETA: [00.0s]  Jacobian                      0.582           0.86        9\n",
      " 100.00% ETA: [00.0s]  Solve                         0.000           0.00        0\n",
      " 100.00% ETA: [00.0s]  Total LA                      0.000           0.00        -\n",
      " 100.00% ETA: [00.0s]--------------------------------------------------------------\n",
      " 100.00% ETA: [00.0s]Number of equations 6615\n"
     ]
    }
   ],
   "source": [
    "simulate.main(\n",
    "    name=\"colesoncove\",\n",
    "    input=\"colesoncove.json\",\n",
    "    output=\"colesoncove.out.json\",\n",
    "    initial_condition=\"colesoncove_pre.out.json\",\n",
    "    reporting_interval=10,\n",
    "    time_horizon=10,\n",
    "    relative_tolerance=1e-9,\n",
    "    MaxStep=1,\n",
    "    MaxNumSteps=1000000,\n",
    ")"
   ]
  },
  {
   "cell_type": "markdown",
   "metadata": {
    "ExecuteTime": {
     "end_time": "2021-02-06T18:02:26.095702Z",
     "start_time": "2021-02-06T18:02:26.092845Z"
    }
   },
   "source": [
    "## Results"
   ]
  },
  {
   "cell_type": "code",
   "execution_count": 42,
   "metadata": {
    "ExecuteTime": {
     "end_time": "2021-02-07T22:51:41.907011Z",
     "start_time": "2021-02-07T22:51:41.896197Z"
    }
   },
   "outputs": [],
   "source": [
    "with open(\"colesoncove.out.json\") as f:\n",
    "    json_data=f.read()\n",
    "output = json.loads(json_data)"
   ]
  },
  {
   "cell_type": "code",
   "execution_count": 43,
   "metadata": {
    "ExecuteTime": {
     "end_time": "2021-02-07T22:51:44.557207Z",
     "start_time": "2021-02-07T22:51:44.544342Z"
    }
   },
   "outputs": [
    {
     "name": "stdout",
     "output_type": "stream",
     "text": [
      "Simulated Steam Pressure 5107.946245 Pa\n",
      "Simulated Steam Temperature 33.35 oC\n",
      "Simulated Cooling Water Inlet Temperature 11.58 oC\n",
      "Simulated Cooling Water Outlet Temperature 27.50 oC\n",
      "Simulated Steam flowrate 101.05 kg/s\n",
      "Simulated Steam Pressure 244.74 Pa\n",
      "Cooling Water outlet temp deviation is 2.87 %\n",
      "Steam temp deviation is -2.76 %\n"
     ]
    }
   ],
   "source": [
    "Tout_sim = output[\"node_B.T\"][\"Values\"][-1]\n",
    "Tvap_sim = output[\"condenser.Text\"][\"Values\"][-1]\n",
    "\n",
    "print(\"Simulated Steam Pressure {number:.{digits}f} Pa\".format(\n",
    "    number=output[\"condenser.Pext\"][\"Values\"][-1],digits=6)\n",
    "     )\n",
    "print(\"Simulated Steam Temperature {number:.{digits}f} oC\".format(\n",
    "    number=Tvap_sim-273.15,digits=2)\n",
    "     )\n",
    "print(\"Simulated Cooling Water Inlet Temperature {number:.{digits}f} oC\".format(\n",
    "    number=output[\"node_A.T\"][\"Values\"][-1]-273.15,digits=2)\n",
    "     )\n",
    "print(\"Simulated Cooling Water Outlet Temperature {number:.{digits}f} oC\".format(\n",
    "    number=Tout_sim-273.15,digits=2)\n",
    "     )\n",
    "print(\"Simulated Steam flowrate {number:.{digits}f} kg/s\".format(\n",
    "    number=output[\"condenser.kvap\"][\"Values\"][-1],digits=2)\n",
    "     )\n",
    "print(\"Simulated Steam Pressure {number:.{digits}f} Pa\".format(\n",
    "    number=sum(np.array(output[\"condenser.Qtotal\"][\"Values\"][-1]))/1e6,digits=2)\n",
    "     )\n",
    "\n",
    "print(\"Cooling Water outlet temp deviation is {number:.{digits}f} %\".format(number=(Tout_sim-Tout_mean_expected)/(Tout_mean_expected-273.15)*100,digits=2))\n",
    "print(\"Steam temp deviation is {number:.{digits}f} %\".format(number=(Tvap_sim-Tvap_expected)/(Tvap_expected - 273.15)*100,digits=2))"
   ]
  },
  {
   "cell_type": "code",
   "execution_count": 21,
   "metadata": {
    "ExecuteTime": {
     "end_time": "2021-02-07T18:40:16.593328Z",
     "start_time": "2021-02-07T18:40:16.587344Z"
    }
   },
   "outputs": [
    {
     "name": "stdout",
     "output_type": "stream",
     "text": [
      "[284.730002838559, 284.730002838559, 284.730002838559, 284.730002838559, 284.730002838559, 284.730002838559, 284.730002838559, 284.730002838559, 284.730002838559, 284.730002838559, 284.730002838559, 284.730002838559, 284.730002838559, 284.730002838559, 284.730002838559, 284.730002838559, 284.730002838559, 284.730002838559, 284.730002838559, 284.730002838559, 284.730002838559, 284.730002838559, 284.730002838559, 284.730002838559, 284.730002838559, 284.730002838559, 284.730002838559, 284.730002838559, 284.730002838559, 284.730002838559, 284.730002838559]\n"
     ]
    }
   ],
   "source": [
    "print(output[\"condenser.T\"][\"Values\"][-1][0])"
   ]
  },
  {
   "cell_type": "code",
   "execution_count": 22,
   "metadata": {
    "ExecuteTime": {
     "end_time": "2021-02-07T18:40:16.601503Z",
     "start_time": "2021-02-07T18:40:16.597104Z"
    }
   },
   "outputs": [
    {
     "name": "stdout",
     "output_type": "stream",
     "text": [
      "[301.5014538739156, 301.50145387391564, 301.0166600645525, 301.01666006455247, 300.8095366873045, 300.80953668730456, 300.6646949538038, 300.6646949538038, 300.55143644307276, 300.5514364430728, 300.4576892475295, 300.4576892475295, 300.3773255927066, 300.37732559270665, 300.30677035255223, 300.3067703525523, 300.24374159872906, 300.24374159872906, 300.18668751402237, 300.18668751402237, 300.134501644644, 300.134501644644, 300.08636552800886, 300.0863655280088, 300.0416556395831, 300.0416556395831, 299.9998853596973, 299.9998853596973, 299.96066718256, 299.96066718256, 299.92368720992124]\n"
     ]
    }
   ],
   "source": [
    "print(output[\"condenser.T\"][\"Values\"][-1][-1])"
   ]
  },
  {
   "cell_type": "code",
   "execution_count": null,
   "metadata": {},
   "outputs": [],
   "source": []
  }
 ],
 "metadata": {
  "kernelspec": {
   "display_name": "Python 3",
   "language": "python",
   "name": "python3"
  },
  "language_info": {
   "codemirror_mode": {
    "name": "ipython",
    "version": 3
   },
   "file_extension": ".py",
   "mimetype": "text/x-python",
   "name": "python",
   "nbconvert_exporter": "python",
   "pygments_lexer": "ipython3",
   "version": "3.6.8"
  },
  "varInspector": {
   "cols": {
    "lenName": 16,
    "lenType": 16,
    "lenVar": 40
   },
   "kernels_config": {
    "python": {
     "delete_cmd_postfix": "",
     "delete_cmd_prefix": "del ",
     "library": "var_list.py",
     "varRefreshCmd": "print(var_dic_list())"
    },
    "r": {
     "delete_cmd_postfix": ") ",
     "delete_cmd_prefix": "rm(",
     "library": "var_list.r",
     "varRefreshCmd": "cat(var_dic_list()) "
    }
   },
   "types_to_exclude": [
    "module",
    "function",
    "builtin_function_or_method",
    "instance",
    "_Feature"
   ],
   "window_display": false
  }
 },
 "nbformat": 4,
 "nbformat_minor": 2
}
