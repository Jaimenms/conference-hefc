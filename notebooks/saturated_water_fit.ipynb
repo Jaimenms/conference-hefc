{
 "cells": [
  {
   "cell_type": "code",
   "execution_count": 28,
   "metadata": {
    "ExecuteTime": {
     "end_time": "2021-02-07T20:38:25.826131Z",
     "start_time": "2021-02-07T20:38:25.816063Z"
    }
   },
   "outputs": [],
   "source": [
    "import os, sys, inspect\n",
    "\n",
    "currentdir = os.path.dirname(os.path.abspath(inspect.getfile(inspect.currentframe())))\n",
    "if os.path.basename(currentdir) == 'notebooks':\n",
    "    parentdir = os.path.dirname(currentdir)\n",
    "    sys.path.insert(0,parentdir)\n",
    "elif os.path.basename(currentdir) == 'celldeposit-condenser':\n",
    "    currentdir = os.path.join(currentdir, 'notebooks')\n",
    "    os.chdir(currentdir)\n",
    "\n",
    "import numpy as np\n",
    "import matplotlib.pyplot as plt\n",
    "from scipy.optimize import curve_fit\n",
    "from water_at_saturation_properties import density, enthalpy, heat_capacity, conductivity, viscosity\n",
    "from water_at_saturation_properties import saturation_temperature, vapour_density, vaporization_enthalpy"
   ]
  },
  {
   "cell_type": "code",
   "execution_count": 29,
   "metadata": {
    "ExecuteTime": {
     "end_time": "2021-02-07T20:38:26.746490Z",
     "start_time": "2021-02-07T20:38:26.741040Z"
    }
   },
   "outputs": [],
   "source": [
    "def simplified_model_for_fit1(x, a00, a01, a02, a03):\n",
    "    \n",
    "    c = np.array([a00, a01, a02, a03])\n",
    "    \n",
    "    return simplified_model1(x, c)\n",
    "\n",
    "def simplified_model_for_fit2(x, a00, a01, a02, a03, a04, a05):\n",
    "    \n",
    "    c = np.array([a00, a01, a02, a03, a04, a05])\n",
    "    \n",
    "    return simplified_model2(x, c)"
   ]
  },
  {
   "cell_type": "code",
   "execution_count": 30,
   "metadata": {
    "ExecuteTime": {
     "end_time": "2021-02-07T20:38:27.578721Z",
     "start_time": "2021-02-07T20:38:27.571624Z"
    }
   },
   "outputs": [],
   "source": [
    "def simplified_model(x, c):\n",
    "    \n",
    "    if c.shape[0] == 4:\n",
    "        return simplified_model1(x,c)\n",
    "    else:\n",
    "        return simplified_model2(x,c)\n",
    "\n",
    "def simplified_model1(x,c):\n",
    "\n",
    "    f = 0.\n",
    "\n",
    "    for i in range(c.shape[0]):\n",
    "        f += c[i] * (x ** i)\n",
    "        \n",
    "    return f\n",
    "\n",
    "def simplified_model2(x,c):\n",
    "\n",
    "    f = 0.\n",
    "\n",
    "    for i in range(c.shape[0]-2):\n",
    "        f += c[i] * (x ** i)\n",
    "        \n",
    "    f += c[-2] * np.log(c[-1]*x)\n",
    "\n",
    "    return f"
   ]
  },
  {
   "cell_type": "code",
   "execution_count": 31,
   "metadata": {
    "ExecuteTime": {
     "end_time": "2021-02-07T20:38:28.131576Z",
     "start_time": "2021-02-07T20:38:28.127344Z"
    }
   },
   "outputs": [],
   "source": [
    "def calculate_output(func,X,*args):\n",
    "    Z = np.zeros_like(X)\n",
    "    for i in range(X.shape[0]):                     \n",
    "        Z[i,] = func(X[i],*args)\n",
    "    return Z"
   ]
  },
  {
   "cell_type": "code",
   "execution_count": 32,
   "metadata": {
    "ExecuteTime": {
     "end_time": "2021-02-07T20:38:28.738939Z",
     "start_time": "2021-02-07T20:38:28.732217Z"
    }
   },
   "outputs": [],
   "source": [
    "def fit(model, X, simplified_model_for_fit):\n",
    "\n",
    "    Z = calculate_output(model,X)\n",
    "    c, pcov = curve_fit(simplified_model_for_fit, X, Z)\n",
    "    \n",
    "    Z_fit = simplified_model(X,c)\n",
    "    \n",
    "    # residual sum of squares\n",
    "    ss_res = np.sum((Z - Z_fit) ** 2)\n",
    "\n",
    "    # total sum of squares\n",
    "    ss_tot = np.sum((Z - np.mean(Z)) ** 2)\n",
    "\n",
    "    # r-squared\n",
    "    r2 = 1 - (ss_res / ss_tot)\n",
    "    \n",
    "    return (c, Z_fit, Z, r2)\n",
    "\n",
    "def fit1(model, X):\n",
    "    return fit(model, X, simplified_model_for_fit1)\n",
    "\n",
    "def fit2(model, X):\n",
    "    return fit(model, X, simplified_model_for_fit2)\n"
   ]
  },
  {
   "cell_type": "code",
   "execution_count": 33,
   "metadata": {
    "ExecuteTime": {
     "end_time": "2021-02-07T20:38:29.428749Z",
     "start_time": "2021-02-07T20:38:29.425183Z"
    }
   },
   "outputs": [],
   "source": [
    "from iapws.iapws97 import _Region4, _Region1\n",
    "from iapws._iapws import _ThCond, _Viscosity"
   ]
  },
  {
   "cell_type": "code",
   "execution_count": 34,
   "metadata": {
    "ExecuteTime": {
     "end_time": "2021-02-07T20:38:30.429561Z",
     "start_time": "2021-02-07T20:38:30.297795Z"
    }
   },
   "outputs": [],
   "source": [
    "limits = [0.01, 1]\n",
    "npoints = 50\n",
    "X = 1e5*np.hstack((np.linspace(0.01, 0.1, num=npoints), np.linspace(0.1, 1, num=npoints)))\n",
    "#print(X)\n",
    "out = fit1(vapour_density, X)\n",
    "#print(out)"
   ]
  },
  {
   "cell_type": "code",
   "execution_count": 35,
   "metadata": {
    "ExecuteTime": {
     "end_time": "2021-02-07T20:38:31.514155Z",
     "start_time": "2021-02-07T20:38:31.183578Z"
    },
    "scrolled": true
   },
   "outputs": [
    {
     "name": "stdout",
     "output_type": "stream",
     "text": [
      "VAPOUR DENSITY\n"
     ]
    },
    {
     "data": {
      "image/png": "[encoded data removed]",
      "text/plain": [
       "<Figure size 432x288 with 1 Axes>"
      ]
     },
     "metadata": {
      "needs_background": "light"
     },
     "output_type": "display_data"
    },
    {
     "name": "stdout",
     "output_type": "stream",
     "text": [
      "Parameters: [ 2.37652486e-03  6.65298567e-06 -1.31408942e-11  5.49191279e-17]\n",
      "R2: 0.9999940245534227\n"
     ]
    }
   ],
   "source": [
    "print(\"VAPOUR DENSITY\")\n",
    "c, Z_fit, Z, r2 = fit1(vapour_density, X)\n",
    "plt.plot(X, Z, 'r') # plotting t, a separately \n",
    "plt.plot(X, Z_fit, 'b') # plotting t, b separately \n",
    "plt.show()\n",
    "print(\"Parameters:\",c)\n",
    "print(\"R2:\", r2)\n",
    "c_dict = dict()\n",
    "c_dict['vapour_density'] = c"
   ]
  },
  {
   "cell_type": "code",
   "execution_count": 9,
   "metadata": {
    "ExecuteTime": {
     "end_time": "2021-02-06T14:41:12.490198Z",
     "start_time": "2021-02-06T14:41:12.299161Z"
    },
    "scrolled": true
   },
   "outputs": [
    {
     "name": "stdout",
     "output_type": "stream",
     "text": [
      "VAPOUR TOTAL COMPRESSIBILITY\n"
     ]
    },
    {
     "data": {
      "image/png": "[encoded data removed]",
      "text/plain": [
       "<Figure size 432x288 with 1 Axes>"
      ]
     },
     "metadata": {
      "needs_background": "light"
     },
     "output_type": "display_data"
    },
    {
     "name": "stdout",
     "output_type": "stream",
     "text": [
      "Parameters: [ 2.37652486e-03  6.65298567e-06 -1.31408942e-11  5.49191279e-17]\n",
      "Parameters: [ 6.65298567e-06 -2.62817883e-11  1.64757384e-16]\n",
      "R2: 0.9999940245534227\n"
     ]
    }
   ],
   "source": [
    "print(\"VAPOUR TOTAL COMPRESSIBILITY\")\n",
    "c_v_density = c_dict['vapour_density']\n",
    "c = np.zeros((c_v_density.shape[0]-1,))\n",
    "i = 0\n",
    "for ci in c_v_density:\n",
    "    if i > 0:\n",
    "        c[i-1] = i*ci\n",
    "    i += 1\n",
    "Z_fit = simplified_model(X,c)\n",
    "plt.plot(X, Z_fit, 'b') # plotting t, b separately \n",
    "plt.show()\n",
    "print(\"Parameters:\",c_v_density)\n",
    "print(\"Parameters:\",c)\n",
    "print(\"R2:\", r2)\n",
    "c_dict['vapour_total_compressibility'] = c"
   ]
  },
  {
   "cell_type": "code",
   "execution_count": 10,
   "metadata": {
    "ExecuteTime": {
     "end_time": "2021-02-06T14:41:14.200750Z",
     "start_time": "2021-02-06T14:41:13.968544Z"
    },
    "scrolled": true
   },
   "outputs": [
    {
     "name": "stdout",
     "output_type": "stream",
     "text": [
      "SATURATION TEMPERATURE\n"
     ]
    },
    {
     "name": "stderr",
     "output_type": "stream",
     "text": [
      "/Users/jaimenms/WorkingFolder/study-daetools/venv/lib/python3.6/site-packages/ipykernel_launcher.py:24: RuntimeWarning: invalid value encountered in log\n"
     ]
    },
    {
     "data": {
      "image/png": "[encoded data removed]",
      "text/plain": [
       "<Figure size 432x288 with 1 Axes>"
      ]
     },
     "metadata": {
      "needs_background": "light"
     },
     "output_type": "display_data"
    },
    {
     "name": "stdout",
     "output_type": "stream",
     "text": [
      "Parameters: [ 2.48404503e+02  4.67253143e-04 -4.09934326e-09  1.72548088e-14\n",
      "  1.53833719e+01  7.37059350e-03]\n",
      "R2: 0.999980656665439\n"
     ]
    }
   ],
   "source": [
    "print(\"SATURATION TEMPERATURE\")\n",
    "c, Z_fit, Z, r2 = fit2(saturation_temperature, X)\n",
    "plt.plot(X, Z, 'r') # plotting t, a separately \n",
    "plt.plot(X, Z_fit, 'b') # plotting t, b separately \n",
    "plt.show()\n",
    "print(\"Parameters:\",c)\n",
    "print(\"R2:\", r2)\n",
    "c_dict['saturation_temperature'] = c"
   ]
  },
  {
   "cell_type": "code",
   "execution_count": 15,
   "metadata": {
    "ExecuteTime": {
     "end_time": "2021-02-06T14:41:58.631431Z",
     "start_time": "2021-02-06T14:41:58.383896Z"
    },
    "scrolled": true
   },
   "outputs": [
    {
     "name": "stdout",
     "output_type": "stream",
     "text": [
      "DENSITY\n"
     ]
    },
    {
     "name": "stderr",
     "output_type": "stream",
     "text": [
      "/Users/jaimenms/WorkingFolder/study-daetools/venv/lib/python3.6/site-packages/ipykernel_launcher.py:24: RuntimeWarning: invalid value encountered in log\n"
     ]
    },
    {
     "data": {
      "image/png": "[encoded data removed]",
      "text/plain": [
       "<Figure size 432x288 with 1 Axes>"
      ]
     },
     "metadata": {
      "needs_background": "light"
     },
     "output_type": "display_data"
    },
    {
     "name": "stdout",
     "output_type": "stream",
     "text": [
      "Parameters: [ 1.01836874e+03 -6.74336724e-04  6.06149751e-09 -2.58678900e-14\n",
      " -2.25901488e+00  1.82321986e+00]\n",
      "R2: 0.9997931282053976\n"
     ]
    }
   ],
   "source": [
    "print(\"DENSITY\")\n",
    "c, Z_fit, Z, r2 = fit2(density, X)\n",
    "plt.plot(X, Z, 'r') # plotting t, a separately \n",
    "plt.plot(X, Z_fit, 'b') # plotting t, b separately \n",
    "plt.show()\n",
    "print(\"Parameters:\",c)\n",
    "print(\"R2:\", r2)\n",
    "c_dict['density'] = c"
   ]
  },
  {
   "cell_type": "code",
   "execution_count": 18,
   "metadata": {
    "ExecuteTime": {
     "end_time": "2021-02-06T14:42:09.384812Z",
     "start_time": "2021-02-06T14:42:09.114189Z"
    }
   },
   "outputs": [
    {
     "name": "stdout",
     "output_type": "stream",
     "text": [
      "ENTHALPY\n"
     ]
    },
    {
     "name": "stderr",
     "output_type": "stream",
     "text": [
      "/Users/jaimenms/WorkingFolder/study-daetools/venv/lib/python3.6/site-packages/ipykernel_launcher.py:24: RuntimeWarning: invalid value encountered in log\n"
     ]
    },
    {
     "data": {
      "image/png": "[encoded data removed]",
      "text/plain": [
       "<Figure size 432x288 with 1 Axes>"
      ]
     },
     "metadata": {
      "needs_background": "light"
     },
     "output_type": "display_data"
    },
    {
     "name": "stdout",
     "output_type": "stream",
     "text": [
      "Parameters: [-6.08505954e+05  1.94062497e+00 -1.68186492e-05  7.06340277e-11\n",
      "  6.43850329e+04  1.88345119e+01]\n",
      "R2: 0.9999818577830879\n"
     ]
    }
   ],
   "source": [
    "print(\"ENTHALPY\")\n",
    "c, Z_fit, Z, r2 = fit2(enthalpy, X)\n",
    "plt.plot(X, Z, 'r') # plotting t, a separately \n",
    "plt.plot(X, Z_fit, 'b') # plotting t, b separately \n",
    "plt.show()\n",
    "print(\"Parameters:\",c)\n",
    "print(\"R2:\", r2)\n",
    "c_dict['enthalpy'] = c"
   ]
  },
  {
   "cell_type": "code",
   "execution_count": 20,
   "metadata": {
    "ExecuteTime": {
     "end_time": "2021-02-06T14:42:18.266349Z",
     "start_time": "2021-02-06T14:42:18.005932Z"
    }
   },
   "outputs": [
    {
     "name": "stdout",
     "output_type": "stream",
     "text": [
      "VISCOSITY\n"
     ]
    },
    {
     "name": "stderr",
     "output_type": "stream",
     "text": [
      "/Users/jaimenms/WorkingFolder/study-daetools/venv/lib/python3.6/site-packages/ipykernel_launcher.py:24: RuntimeWarning: invalid value encountered in log\n"
     ]
    },
    {
     "data": {
      "image/png": "[encoded data removed]",
      "text/plain": [
       "<Figure size 432x288 with 1 Axes>"
      ]
     },
     "metadata": {
      "needs_background": "light"
     },
     "output_type": "display_data"
    },
    {
     "name": "stdout",
     "output_type": "stream",
     "text": [
      "Parameters: [ 5.17865934e-03  2.55434669e-08 -3.01011890e-13  1.39267038e-18\n",
      " -4.25522968e-04  8.56155473e+00]\n",
      "R2: 0.9968829341847661\n"
     ]
    }
   ],
   "source": [
    "print(\"VISCOSITY\")\n",
    "c, Z_fit, Z, r2 = fit2(viscosity, X)\n",
    "plt.plot(X, Z, 'r') # plotting t, a separately \n",
    "plt.plot(X, Z_fit, 'b') # plotting t, b separately \n",
    "plt.show()\n",
    "print(\"Parameters:\",c)\n",
    "print(\"R2:\", r2)\n",
    "c_dict['viscosity'] = c"
   ]
  },
  {
   "cell_type": "code",
   "execution_count": 22,
   "metadata": {
    "ExecuteTime": {
     "end_time": "2021-02-06T14:42:34.091016Z",
     "start_time": "2021-02-06T14:42:33.825207Z"
    }
   },
   "outputs": [
    {
     "name": "stdout",
     "output_type": "stream",
     "text": [
      "HEAT_CAPACITY\n"
     ]
    },
    {
     "name": "stderr",
     "output_type": "stream",
     "text": [
      "/Users/jaimenms/WorkingFolder/study-daetools/venv/lib/python3.6/site-packages/ipykernel_launcher.py:24: RuntimeWarning: invalid value encountered in log\n"
     ]
    },
    {
     "data": {
      "image/png": "[encoded data removed]",
      "text/plain": [
       "<Figure size 432x288 with 1 Axes>"
      ]
     },
     "metadata": {
      "needs_background": "light"
     },
     "output_type": "display_data"
    },
    {
     "name": "stdout",
     "output_type": "stream",
     "text": [
      "Parameters: [ 4.22512004e+03  1.88493270e-03 -1.78694338e-08  7.96209770e-14\n",
      " -1.44442248e+01  8.41137683e-03]\n",
      "R2: 0.9947199031608539\n"
     ]
    }
   ],
   "source": [
    "print(\"HEAT_CAPACITY\")\n",
    "c, Z_fit, Z, r2 = fit2(heat_capacity, X)\n",
    "plt.plot(X, Z, 'r') # plotting t, a separately \n",
    "plt.plot(X, Z_fit, 'b') # plotting t, b separately \n",
    "plt.show()\n",
    "print(\"Parameters:\",c)\n",
    "print(\"R2:\", r2)\n",
    "c_dict['heat_capacity'] = c"
   ]
  },
  {
   "cell_type": "code",
   "execution_count": 24,
   "metadata": {
    "ExecuteTime": {
     "end_time": "2021-02-06T14:42:57.366757Z",
     "start_time": "2021-02-06T14:42:57.104652Z"
    }
   },
   "outputs": [
    {
     "name": "stdout",
     "output_type": "stream",
     "text": [
      "CONDUCTIVITY\n"
     ]
    },
    {
     "name": "stderr",
     "output_type": "stream",
     "text": [
      "/Users/jaimenms/WorkingFolder/study-daetools/venv/lib/python3.6/site-packages/ipykernel_launcher.py:24: RuntimeWarning: invalid value encountered in log\n"
     ]
    },
    {
     "data": {
      "image/png": "[encoded data removed]",
      "text/plain": [
       "<Figure size 432x288 with 1 Axes>"
      ]
     },
     "metadata": {
      "needs_background": "light"
     },
     "output_type": "display_data"
    },
    {
     "name": "stdout",
     "output_type": "stream",
     "text": [
      "Parameters: [ 3.20875162e-01 -6.91454761e-07  6.24672812e-12 -2.71195484e-17\n",
      "  2.96320329e-02  5.13558596e+00]\n",
      "R2: 0.9999293230900341\n"
     ]
    }
   ],
   "source": [
    "print(\"CONDUCTIVITY\")\n",
    "c, Z_fit, Z, r2 = fit2(conductivity, X)\n",
    "plt.plot(X, Z, 'r') # plotting t, a separately \n",
    "plt.plot(X, Z_fit, 'b') # plotting t, b separately \n",
    "plt.show()\n",
    "print(\"Parameters:\",c)\n",
    "print(\"R2:\", r2)\n",
    "c_dict['conductivity'] = c"
   ]
  },
  {
   "cell_type": "code",
   "execution_count": 26,
   "metadata": {
    "ExecuteTime": {
     "end_time": "2021-02-06T14:43:06.752693Z",
     "start_time": "2021-02-06T14:43:06.456614Z"
    }
   },
   "outputs": [
    {
     "name": "stdout",
     "output_type": "stream",
     "text": [
      "VAPORIZATION ENTHALPY\n"
     ]
    },
    {
     "name": "stderr",
     "output_type": "stream",
     "text": [
      "/Users/jaimenms/WorkingFolder/study-daetools/venv/lib/python3.6/site-packages/ipykernel_launcher.py:24: RuntimeWarning: invalid value encountered in log\n"
     ]
    },
    {
     "data": {
      "image/png": "[encoded data removed]",
      "text/plain": [
       "<Figure size 432x288 with 1 Axes>"
      ]
     },
     "metadata": {
      "needs_background": "light"
     },
     "output_type": "display_data"
    },
    {
     "name": "stdout",
     "output_type": "stream",
     "text": [
      "Parameters: [ 2.96216663e+06 -1.20540634e+00  9.85003104e-06 -4.10994887e-11\n",
      " -3.61781700e+04  5.09057715e+02]\n",
      "R2: 0.9999827196642053\n"
     ]
    }
   ],
   "source": [
    "print(\"VAPORIZATION ENTHALPY\")\n",
    "c, Z_fit, Z, r2 = fit2(vaporization_enthalpy, X)\n",
    "plt.plot(X, Z, 'r') # plotting t, a separately \n",
    "plt.plot(X, Z_fit, 'b') # plotting t, b separately \n",
    "plt.show()\n",
    "print(\"Parameters:\",c)\n",
    "print(\"R2:\", r2)\n",
    "c_dict['vaporization_enthalpy'] = c"
   ]
  },
  {
   "cell_type": "code",
   "execution_count": 27,
   "metadata": {
    "ExecuteTime": {
     "end_time": "2021-02-06T14:43:11.682643Z",
     "start_time": "2021-02-06T14:43:11.674044Z"
    }
   },
   "outputs": [
    {
     "name": "stdout",
     "output_type": "stream",
     "text": [
      "{'conductivity': array([ 3.20875162e-01, -6.91454761e-07,  6.24672812e-12, -2.71195484e-17,\n",
      "        2.96320329e-02,  5.13558596e+00]),\n",
      " 'density': array([ 1.01836874e+03, -6.74336724e-04,  6.06149751e-09, -2.58678900e-14,\n",
      "       -2.25901488e+00,  1.82321986e+00]),\n",
      " 'enthalpy': array([-6.08505954e+05,  1.94062497e+00, -1.68186492e-05,  7.06340277e-11,\n",
      "        6.43850329e+04,  1.88345119e+01]),\n",
      " 'heat_capacity': array([ 4.22512004e+03,  1.88493270e-03, -1.78694338e-08,  7.96209770e-14,\n",
      "       -1.44442248e+01,  8.41137683e-03]),\n",
      " 'saturation_temperature': array([ 2.48404503e+02,  4.67253143e-04, -4.09934326e-09,  1.72548088e-14,\n",
      "        1.53833719e+01,  7.37059350e-03]),\n",
      " 'vaporization_enthalpy': array([ 2.96216663e+06, -1.20540634e+00,  9.85003104e-06, -4.10994887e-11,\n",
      "       -3.61781700e+04,  5.09057715e+02]),\n",
      " 'vapour_density': array([ 2.37652486e-03,  6.65298567e-06, -1.31408942e-11,  5.49191279e-17]),\n",
      " 'vapour_total_compressibility': array([ 6.65298567e-06, -2.62817883e-11,  1.64757384e-16]),\n",
      " 'viscosity': array([ 5.17865934e-03,  2.55434669e-08, -3.01011890e-13,  1.39267038e-18,\n",
      "       -4.25522968e-04,  8.56155473e+00])}\n"
     ]
    }
   ],
   "source": [
    "import pprint\n",
    "pprint.pprint(c_dict)"
   ]
  },
  {
   "cell_type": "code",
   "execution_count": null,
   "metadata": {},
   "outputs": [],
   "source": []
  },
  {
   "cell_type": "code",
   "execution_count": null,
   "metadata": {},
   "outputs": [],
   "source": []
  }
 ],
 "metadata": {
  "kernelspec": {
   "display_name": "Python 3",
   "language": "python",
   "name": "python3"
  },
  "language_info": {
   "codemirror_mode": {
    "name": "ipython",
    "version": 3
   },
   "file_extension": ".py",
   "mimetype": "text/x-python",
   "name": "python",
   "nbconvert_exporter": "python",
   "pygments_lexer": "ipython3",
   "version": "3.6.8"
  },
  "varInspector": {
   "cols": {
    "lenName": 16,
    "lenType": 16,
    "lenVar": 40
   },
   "kernels_config": {
    "python": {
     "delete_cmd_postfix": "",
     "delete_cmd_prefix": "del ",
     "library": "var_list.py",
     "varRefreshCmd": "print(var_dic_list())"
    },
    "r": {
     "delete_cmd_postfix": ") ",
     "delete_cmd_prefix": "rm(",
     "library": "var_list.r",
     "varRefreshCmd": "cat(var_dic_list()) "
    }
   },
   "types_to_exclude": [
    "module",
    "function",
    "builtin_function_or_method",
    "instance",
    "_Feature"
   ],
   "window_display": false
  }
 },
 "nbformat": 4,
 "nbformat_minor": 1
}
